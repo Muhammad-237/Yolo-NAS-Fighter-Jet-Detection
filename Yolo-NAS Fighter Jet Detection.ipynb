{
 "cells": [
  {
   "cell_type": "markdown",
   "id": "fa2ddaa5",
   "metadata": {
    "id": "lkYPlZfsbZT0",
    "papermill": {
     "duration": 0.009789,
     "end_time": "2024-09-23T16:05:29.812103",
     "exception": false,
     "start_time": "2024-09-23T16:05:29.802314",
     "status": "completed"
    },
    "tags": []
   },
   "source": [
    "## Install YOLO-NAS\n"
   ]
  },
  {
   "cell_type": "code",
   "execution_count": 1,
   "id": "14a6968f",
   "metadata": {
    "execution": {
     "iopub.execute_input": "2024-09-23T16:05:29.831662Z",
     "iopub.status.busy": "2024-09-23T16:05:29.830967Z",
     "iopub.status.idle": "2024-09-23T16:07:50.604391Z",
     "shell.execute_reply": "2024-09-23T16:07:50.603437Z"
    },
    "id": "SdQ5JGblbJTk",
    "papermill": {
     "duration": 140.78552,
     "end_time": "2024-09-23T16:07:50.606833",
     "exception": false,
     "start_time": "2024-09-23T16:05:29.821313",
     "status": "completed"
    },
    "tags": []
   },
   "outputs": [
    {
     "name": "stdout",
     "output_type": "stream",
     "text": [
      "\u001b[31mERROR: pip's dependency resolver does not currently take into account all the packages that are installed. This behaviour is the source of the following dependency conflicts.\r\n",
      "cudf 24.8.2 requires cubinlinker, which is not installed.\r\n",
      "cudf 24.8.2 requires cupy-cuda11x>=12.0.0, which is not installed.\r\n",
      "cudf 24.8.2 requires ptxcompiler, which is not installed.\r\n",
      "cuml 24.8.0 requires cupy-cuda11x>=12.0.0, which is not installed.\r\n",
      "dask-cudf 24.8.2 requires cupy-cuda11x>=12.0.0, which is not installed.\r\n",
      "ucxx 0.39.1 requires libucx>=1.15.0, which is not installed.\r\n",
      "aiobotocore 2.13.2 requires botocore<1.34.132,>=1.34.70, but you have botocore 1.29.165 which is incompatible.\r\n",
      "albucore 0.0.13 requires numpy<2,>=1.24.4, but you have numpy 1.23.0 which is incompatible.\r\n",
      "apache-beam 2.46.0 requires cloudpickle~=2.2.1, but you have cloudpickle 3.0.0 which is incompatible.\r\n",
      "apache-beam 2.46.0 requires dill<0.3.2,>=0.3.1.1, but you have dill 0.3.8 which is incompatible.\r\n",
      "apache-beam 2.46.0 requires pyarrow<10.0.0,>=3.0.0, but you have pyarrow 16.1.0 which is incompatible.\r\n",
      "bayesian-optimization 1.5.1 requires numpy>=1.25, but you have numpy 1.23.0 which is incompatible.\r\n",
      "chex 0.1.86 requires numpy>=1.24.1, but you have numpy 1.23.0 which is incompatible.\r\n",
      "cudf 24.8.2 requires cuda-python<12.0a0,>=11.7.1, but you have cuda-python 12.6.0 which is incompatible.\r\n",
      "featuretools 1.31.0 requires numpy>=1.25.0, but you have numpy 1.23.0 which is incompatible.\r\n",
      "ibis-framework 7.1.0 requires pyarrow<15,>=2, but you have pyarrow 16.1.0 which is incompatible.\r\n",
      "libpysal 4.9.2 requires packaging>=22, but you have packaging 21.3 which is incompatible.\r\n",
      "libpysal 4.9.2 requires shapely>=2.0.1, but you have shapely 1.8.5.post1 which is incompatible.\r\n",
      "momepy 0.7.2 requires shapely>=2, but you have shapely 1.8.5.post1 which is incompatible.\r\n",
      "osmnx 1.9.4 requires shapely<2.1,>=2.0, but you have shapely 1.8.5.post1 which is incompatible.\r\n",
      "pointpats 2.5.0 requires numpy>=1.24, but you have numpy 1.23.0 which is incompatible.\r\n",
      "pointpats 2.5.0 requires shapely>=2, but you have shapely 1.8.5.post1 which is incompatible.\r\n",
      "pyldavis 3.4.1 requires numpy>=1.24.2, but you have numpy 1.23.0 which is incompatible.\r\n",
      "rmm 24.8.2 requires cuda-python<12.0a0,>=11.7.1, but you have cuda-python 12.6.0 which is incompatible.\r\n",
      "spaghetti 1.7.6 requires shapely>=2.0.1, but you have shapely 1.8.5.post1 which is incompatible.\r\n",
      "spopt 0.6.1 requires shapely>=2.0.1, but you have shapely 1.8.5.post1 which is incompatible.\r\n",
      "tensorflow 2.16.1 requires numpy<2.0.0,>=1.23.5; python_version <= \"3.11\", but you have numpy 1.23.0 which is incompatible.\r\n",
      "tsfresh 0.20.3 requires scipy>=1.14.0; python_version >= \"3.10\", but you have scipy 1.13.1 which is incompatible.\r\n",
      "woodwork 0.31.0 requires numpy>=1.25.0, but you have numpy 1.23.0 which is incompatible.\r\n",
      "xarray 2024.7.0 requires packaging>=23.1, but you have packaging 21.3 which is incompatible.\u001b[0m\u001b[31m\r\n",
      "\u001b[0m\u001b[31mERROR: pip's dependency resolver does not currently take into account all the packages that are installed. This behaviour is the source of the following dependency conflicts.\r\n",
      "cudf 24.8.2 requires cubinlinker, which is not installed.\r\n",
      "cudf 24.8.2 requires cupy-cuda11x>=12.0.0, which is not installed.\r\n",
      "cudf 24.8.2 requires ptxcompiler, which is not installed.\r\n",
      "cuml 24.8.0 requires cupy-cuda11x>=12.0.0, which is not installed.\r\n",
      "dask-cudf 24.8.2 requires cupy-cuda11x>=12.0.0, which is not installed.\r\n",
      "ucxx 0.39.1 requires libucx>=1.15.0, which is not installed.\r\n",
      "apache-beam 2.46.0 requires cloudpickle~=2.2.1, but you have cloudpickle 3.0.0 which is incompatible.\r\n",
      "apache-beam 2.46.0 requires dill<0.3.2,>=0.3.1.1, but you have dill 0.3.8 which is incompatible.\r\n",
      "apache-beam 2.46.0 requires numpy<1.25.0,>=1.14.3, but you have numpy 1.26.4 which is incompatible.\r\n",
      "apache-beam 2.46.0 requires pyarrow<10.0.0,>=3.0.0, but you have pyarrow 16.1.0 which is incompatible.\r\n",
      "cudf 24.8.2 requires cuda-python<12.0a0,>=11.7.1, but you have cuda-python 12.6.0 which is incompatible.\r\n",
      "ibis-framework 7.1.0 requires pyarrow<15,>=2, but you have pyarrow 16.1.0 which is incompatible.\r\n",
      "libpysal 4.9.2 requires packaging>=22, but you have packaging 21.3 which is incompatible.\r\n",
      "libpysal 4.9.2 requires shapely>=2.0.1, but you have shapely 1.8.5.post1 which is incompatible.\r\n",
      "momepy 0.7.2 requires shapely>=2, but you have shapely 1.8.5.post1 which is incompatible.\r\n",
      "osmnx 1.9.4 requires shapely<2.1,>=2.0, but you have shapely 1.8.5.post1 which is incompatible.\r\n",
      "pointpats 2.5.0 requires shapely>=2, but you have shapely 1.8.5.post1 which is incompatible.\r\n",
      "rmm 24.8.2 requires cuda-python<12.0a0,>=11.7.1, but you have cuda-python 12.6.0 which is incompatible.\r\n",
      "spaghetti 1.7.6 requires shapely>=2.0.1, but you have shapely 1.8.5.post1 which is incompatible.\r\n",
      "spopt 0.6.1 requires shapely>=2.0.1, but you have shapely 1.8.5.post1 which is incompatible.\r\n",
      "super-gradients 3.7.1+master requires numpy<=1.23, but you have numpy 1.26.4 which is incompatible.\r\n",
      "tsfresh 0.20.3 requires scipy>=1.14.0; python_version >= \"3.10\", but you have scipy 1.13.1 which is incompatible.\r\n",
      "xarray 2024.7.0 requires packaging>=23.1, but you have packaging 21.3 which is incompatible.\u001b[0m\u001b[31m\r\n",
      "\u001b[0m"
     ]
    }
   ],
   "source": [
    "!pip install -q git+https://github.com/Deci-AI/super-gradients.git@stable\n",
    "!pip install -q roboflow\n",
    "!pip install -q supervision"
   ]
  },
  {
   "cell_type": "code",
   "execution_count": 2,
   "id": "d4b73618",
   "metadata": {
    "execution": {
     "iopub.execute_input": "2024-09-23T16:07:50.627294Z",
     "iopub.status.busy": "2024-09-23T16:07:50.626949Z",
     "iopub.status.idle": "2024-09-23T16:07:50.631885Z",
     "shell.execute_reply": "2024-09-23T16:07:50.631034Z"
    },
    "id": "gyUQ1xT5ijdY",
    "outputId": "5fcbb3e1-485f-42c0-9a02-e44f627e7b58",
    "papermill": {
     "duration": 0.017653,
     "end_time": "2024-09-23T16:07:50.634241",
     "exception": false,
     "start_time": "2024-09-23T16:07:50.616588",
     "status": "completed"
    },
    "tags": []
   },
   "outputs": [
    {
     "name": "stdout",
     "output_type": "stream",
     "text": [
      "/kaggle/working\n"
     ]
    }
   ],
   "source": [
    "import os\n",
    "HOME = os.getcwd()\n",
    "print(HOME)"
   ]
  },
  {
   "cell_type": "code",
   "execution_count": 3,
   "id": "b10ae4d1",
   "metadata": {
    "execution": {
     "iopub.execute_input": "2024-09-23T16:07:50.653909Z",
     "iopub.status.busy": "2024-09-23T16:07:50.653631Z",
     "iopub.status.idle": "2024-09-23T16:07:54.257710Z",
     "shell.execute_reply": "2024-09-23T16:07:54.256685Z"
    },
    "id": "xh_YA7Z4k0jd",
    "papermill": {
     "duration": 3.616473,
     "end_time": "2024-09-23T16:07:54.260009",
     "exception": false,
     "start_time": "2024-09-23T16:07:50.643536",
     "status": "completed"
    },
    "tags": []
   },
   "outputs": [],
   "source": [
    "import torch\n",
    "\n",
    "DEVICE = 'cuda' if torch.cuda.is_available() else \"cpu\"\n",
    "MODEL_ARCH = 'yolo_nas_l'"
   ]
  },
  {
   "cell_type": "code",
   "execution_count": 4,
   "id": "f7eb0772",
   "metadata": {
    "execution": {
     "iopub.execute_input": "2024-09-23T16:07:54.280282Z",
     "iopub.status.busy": "2024-09-23T16:07:54.279858Z",
     "iopub.status.idle": "2024-09-23T16:08:17.388732Z",
     "shell.execute_reply": "2024-09-23T16:08:17.388299Z"
    },
    "id": "WV7QtETgcaAh",
    "papermill": {
     "duration": 23.121365,
     "end_time": "2024-09-23T16:08:17.390978",
     "exception": false,
     "start_time": "2024-09-23T16:07:54.269613",
     "status": "completed"
    },
    "tags": []
   },
   "outputs": [
    {
     "name": "stdout",
     "output_type": "stream",
     "text": [
      "The console stream is logged into /root/sg_logs/console.log\n"
     ]
    },
    {
     "name": "stderr",
     "output_type": "stream",
     "text": [
      "[2024-09-23 16:07:54] INFO - crash_tips_setup.py - Crash tips is enabled. You can set your environment variable to CRASH_HANDLER=FALSE to disable it\n",
      "[2024-09-23 16:08:10] INFO - utils.py - NumExpr defaulting to 4 threads.\n"
     ]
    },
    {
     "name": "stdout",
     "output_type": "stream",
     "text": [
      "[WARNING]No module named 'pycocotools'\n"
     ]
    },
    {
     "name": "stderr",
     "output_type": "stream",
     "text": [
      "[2024-09-23 16:08:14] INFO - env_sanity_check.py - Library check is not supported when super_gradients installed through \"git+https://github.com/...\" command\n",
      "[2024-09-23 16:08:15] WARNING - checkpoint_utils.py - :warning: The pre-trained models provided by SuperGradients may have their own licenses or terms and conditions derived from the dataset used for pre-training.\n",
      " It is your responsibility to determine whether you have permission to use the models for your use case.\n",
      " The model you have requested was pre-trained on the coco dataset, published under the following terms: https://cocodataset.org/#termsofuse\n",
      "[2024-09-23 16:08:15] INFO - checkpoint_utils.py - License Notification: YOLO-NAS pre-trained weights are subjected to the specific license terms and conditions detailed in \n",
      "https://github.com/Deci-AI/super-gradients/blob/master/LICENSE.YOLONAS.md\n",
      "By downloading the pre-trained weight files you agree to comply with these terms.\n",
      "Downloading: \"https://sghub.deci.ai/models/yolo_nas_l_coco.pth\" to /root/.cache/torch/hub/checkpoints/yolo_nas_l_coco.pth\n",
      "100%|██████████| 256M/256M [00:00<00:00, 380MB/s]\n",
      "[2024-09-23 16:08:17] INFO - checkpoint_utils.py - Successfully loaded pretrained weights for architecture yolo_nas_l\n"
     ]
    }
   ],
   "source": [
    "from super_gradients.training import models\n",
    "\n",
    "model = models.get(MODEL_ARCH, pretrained_weights=\"coco\").to(DEVICE)"
   ]
  },
  {
   "cell_type": "code",
   "execution_count": 5,
   "id": "f189b76c",
   "metadata": {
    "execution": {
     "iopub.execute_input": "2024-09-23T16:08:17.413836Z",
     "iopub.status.busy": "2024-09-23T16:08:17.413191Z",
     "iopub.status.idle": "2024-09-23T16:08:36.311341Z",
     "shell.execute_reply": "2024-09-23T16:08:36.310894Z"
    },
    "id": "clSaBPhCi2v3",
    "outputId": "ac5ebc7e-f1fa-4edb-b397-4d58af52d978",
    "papermill": {
     "duration": 18.91174,
     "end_time": "2024-09-23T16:08:36.313547",
     "exception": false,
     "start_time": "2024-09-23T16:08:17.401807",
     "status": "completed"
    },
    "tags": []
   },
   "outputs": [
    {
     "name": "stdout",
     "output_type": "stream",
     "text": [
      "/kaggle/working\n"
     ]
    },
    {
     "name": "stderr",
     "output_type": "stream",
     "text": [
      "/opt/conda/lib/python3.10/pty.py:89: RuntimeWarning: os.fork() was called. os.fork() is incompatible with multithreaded code, and JAX is multithreaded, so this will likely lead to a deadlock.\n",
      "  pid, fd = os.forkpty()\n"
     ]
    },
    {
     "name": "stdout",
     "output_type": "stream",
     "text": [
      "Requirement already satisfied: roboflow in /opt/conda/lib/python3.10/site-packages (1.1.45)\r\n",
      "Requirement already satisfied: certifi in /opt/conda/lib/python3.10/site-packages (from roboflow) (2024.7.4)\r\n",
      "Requirement already satisfied: idna==3.7 in /opt/conda/lib/python3.10/site-packages (from roboflow) (3.7)\r\n",
      "Requirement already satisfied: cycler in /opt/conda/lib/python3.10/site-packages (from roboflow) (0.12.1)\r\n",
      "Requirement already satisfied: kiwisolver>=1.3.1 in /opt/conda/lib/python3.10/site-packages (from roboflow) (1.4.5)\r\n",
      "Requirement already satisfied: matplotlib in /opt/conda/lib/python3.10/site-packages (from roboflow) (3.7.5)\r\n",
      "Requirement already satisfied: numpy>=1.18.5 in /opt/conda/lib/python3.10/site-packages (from roboflow) (1.26.4)\r\n",
      "Requirement already satisfied: opencv-python-headless==4.10.0.84 in /opt/conda/lib/python3.10/site-packages (from roboflow) (4.10.0.84)\r\n",
      "Requirement already satisfied: Pillow>=7.1.2 in /opt/conda/lib/python3.10/site-packages (from roboflow) (10.4.0)\r\n",
      "Requirement already satisfied: python-dateutil in /opt/conda/lib/python3.10/site-packages (from roboflow) (2.9.0.post0)\r\n",
      "Requirement already satisfied: python-dotenv in /opt/conda/lib/python3.10/site-packages (from roboflow) (1.0.1)\r\n",
      "Requirement already satisfied: requests in /opt/conda/lib/python3.10/site-packages (from roboflow) (2.32.3)\r\n",
      "Requirement already satisfied: six in /opt/conda/lib/python3.10/site-packages (from roboflow) (1.16.0)\r\n",
      "Requirement already satisfied: urllib3>=1.26.6 in /opt/conda/lib/python3.10/site-packages (from roboflow) (1.26.18)\r\n",
      "Requirement already satisfied: tqdm>=4.41.0 in /opt/conda/lib/python3.10/site-packages (from roboflow) (4.66.4)\r\n",
      "Requirement already satisfied: PyYAML>=5.3.1 in /opt/conda/lib/python3.10/site-packages (from roboflow) (6.0.2)\r\n",
      "Requirement already satisfied: requests-toolbelt in /opt/conda/lib/python3.10/site-packages (from roboflow) (0.10.1)\r\n",
      "Requirement already satisfied: filetype in /opt/conda/lib/python3.10/site-packages (from roboflow) (1.2.0)\r\n",
      "Requirement already satisfied: contourpy>=1.0.1 in /opt/conda/lib/python3.10/site-packages (from matplotlib->roboflow) (1.2.1)\r\n",
      "Requirement already satisfied: fonttools>=4.22.0 in /opt/conda/lib/python3.10/site-packages (from matplotlib->roboflow) (4.53.0)\r\n",
      "Requirement already satisfied: packaging>=20.0 in /opt/conda/lib/python3.10/site-packages (from matplotlib->roboflow) (21.3)\r\n",
      "Requirement already satisfied: pyparsing>=2.3.1 in /opt/conda/lib/python3.10/site-packages (from matplotlib->roboflow) (3.1.2)\r\n",
      "Requirement already satisfied: charset-normalizer<4,>=2 in /opt/conda/lib/python3.10/site-packages (from requests->roboflow) (3.3.2)\r\n",
      "loading Roboflow workspace...\n",
      "loading Roboflow project...\n"
     ]
    },
    {
     "name": "stderr",
     "output_type": "stream",
     "text": [
      "Downloading Dataset Version Zip in military-aircraft-7 to yolov5pytorch:: 100%|██████████| 90877/90877 [00:02<00:00, 36192.38it/s]\n"
     ]
    },
    {
     "name": "stdout",
     "output_type": "stream",
     "text": [
      "\n"
     ]
    },
    {
     "name": "stderr",
     "output_type": "stream",
     "text": [
      "Extracting Dataset Version Zip to military-aircraft-7 in yolov5pytorch::  76%|███████▌  | 6460/8511 [00:00<00:00, 10144.59it/s]"
     ]
    }
   ],
   "source": [
    "%cd {HOME}\n",
    "\n",
    "!pip install roboflow\n",
    "\n",
    "from roboflow import Roboflow\n",
    "rf = Roboflow(api_key=\"OX5LGF0zNUWp6nV9jsTi\")\n",
    "project = rf.workspace(\"object-detection-1y7d0\").project(\"military-aircraft-iaddd\")\n",
    "version = project.version(7)\n",
    "dataset = version.download(\"yolov5\")"
   ]
  },
  {
   "cell_type": "code",
   "execution_count": 6,
   "id": "5f8d3be3",
   "metadata": {
    "execution": {
     "iopub.execute_input": "2024-09-23T16:08:36.338886Z",
     "iopub.status.busy": "2024-09-23T16:08:36.338571Z",
     "iopub.status.idle": "2024-09-23T16:08:36.341865Z",
     "shell.execute_reply": "2024-09-23T16:08:36.341600Z"
    },
    "id": "y6IjTSfetvTl",
    "outputId": "f0a6a95a-318c-41e8-8980-aae2c2ef7a06",
    "papermill": {
     "duration": 0.018439,
     "end_time": "2024-09-23T16:08:36.344181",
     "exception": false,
     "start_time": "2024-09-23T16:08:36.325742",
     "status": "completed"
    },
    "tags": []
   },
   "outputs": [],
   "source": [
    "LOCATION = dataset.location\n",
    "print(\"location:\", LOCATION)\n",
    "CLASSES = sorted(project.classes.keys())\n",
    "print(\"classes:\", CLASSES)"
   ]
  },
  {
   "cell_type": "code",
   "execution_count": 7,
   "id": "7a0e4d04",
   "metadata": {
    "execution": {
     "iopub.execute_input": "2024-09-23T16:08:36.368782Z",
     "iopub.status.busy": "2024-09-23T16:08:36.368491Z",
     "iopub.status.idle": "2024-09-23T16:08:36.371276Z",
     "shell.execute_reply": "2024-09-23T16:08:36.370995Z"
    },
    "id": "pCW34CVDHuKr",
    "papermill": {
     "duration": 0.017505,
     "end_time": "2024-09-23T16:08:36.373488",
     "exception": false,
     "start_time": "2024-09-23T16:08:36.355983",
     "status": "completed"
    },
    "tags": []
   },
   "outputs": [],
   "source": [
    "MODEL_ARCH = 'yolo_nas_l'\n",
    "BATCH_SIZE = 8\n",
    "MAX_EPOCHS = 25\n",
    "CHECKPOINT_DIR = f'{HOME}/checkpoints'\n",
    "EXPERIMENT_NAME = project.name.lower().replace(\" \", \"_\")"
   ]
  },
  {
   "cell_type": "code",
   "execution_count": 8,
   "id": "bc118b2a",
   "metadata": {
    "execution": {
     "iopub.execute_input": "2024-09-23T16:08:36.398097Z",
     "iopub.status.busy": "2024-09-23T16:08:36.397799Z",
     "iopub.status.idle": "2024-09-23T16:08:36.407363Z",
     "shell.execute_reply": "2024-09-23T16:08:36.407110Z"
    },
    "id": "sGBOHyPc11LA",
    "papermill": {
     "duration": 0.023816,
     "end_time": "2024-09-23T16:08:36.409159",
     "exception": false,
     "start_time": "2024-09-23T16:08:36.385343",
     "status": "completed"
    },
    "tags": []
   },
   "outputs": [],
   "source": [
    "from super_gradients.training import Trainer\n",
    "\n",
    "trainer = Trainer(experiment_name=EXPERIMENT_NAME, ckpt_root_dir=CHECKPOINT_DIR)"
   ]
  },
  {
   "cell_type": "code",
   "execution_count": 9,
   "id": "4872fece",
   "metadata": {
    "execution": {
     "iopub.execute_input": "2024-09-23T16:08:36.433924Z",
     "iopub.status.busy": "2024-09-23T16:08:36.433637Z",
     "iopub.status.idle": "2024-09-23T16:08:36.436414Z",
     "shell.execute_reply": "2024-09-23T16:08:36.436166Z"
    },
    "id": "0K0strkSsae3",
    "papermill": {
     "duration": 0.017549,
     "end_time": "2024-09-23T16:08:36.438618",
     "exception": false,
     "start_time": "2024-09-23T16:08:36.421069",
     "status": "completed"
    },
    "tags": []
   },
   "outputs": [],
   "source": [
    "dataset_params = {\n",
    "    'data_dir': LOCATION,\n",
    "    'train_images_dir':'train/images',\n",
    "    'train_labels_dir':'train/labels',\n",
    "    'val_images_dir':'valid/images',\n",
    "    'val_labels_dir':'valid/labels',\n",
    "    'test_images_dir':'test/images',\n",
    "    'test_labels_dir':'test/labels',\n",
    "    'classes': CLASSES\n",
    "}"
   ]
  },
  {
   "cell_type": "code",
   "execution_count": 10,
   "id": "0e9f7a14",
   "metadata": {
    "execution": {
     "iopub.execute_input": "2024-09-23T16:08:36.463570Z",
     "iopub.status.busy": "2024-09-23T16:08:36.463278Z",
     "iopub.status.idle": "2024-09-23T16:08:37.627607Z",
     "shell.execute_reply": "2024-09-23T16:08:37.627303Z"
    },
    "id": "INjHea8ptAtQ",
    "outputId": "b45c3445-a1a4-4713-84d8-f94506b4b156",
    "papermill": {
     "duration": 1.17921,
     "end_time": "2024-09-23T16:08:37.629563",
     "exception": false,
     "start_time": "2024-09-23T16:08:36.450353",
     "status": "completed"
    },
    "tags": []
   },
   "outputs": [
    {
     "name": "stderr",
     "output_type": "stream",
     "text": [
      "[2024-09-23 16:08:36] WARNING - yolo_format_detection.py - 127 images are note associated to any label file\n",
      "[2024-09-23 16:08:36] WARNING - yolo_format_detection.py - As a consequence, 3402/3529 images and 3402/3402 label files will be used.\n",
      "[2024-09-23 16:08:36] INFO - detection_dataset.py - Dataset Initialization in progress. `cache_annotations=True` causes the process to take longer due to full dataset indexing.\n",
      "Indexing dataset annotations: 100%|██████████| 3402/3402 [00:00<00:00, 6066.04it/s]\n",
      "[2024-09-23 16:08:37] WARNING - yolo_format_detection.py - 439 images are note associated to any label file\n",
      "[2024-09-23 16:08:37] WARNING - yolo_format_detection.py - As a consequence, 566/1005 images and 566/566 label files will be used.\n",
      "[2024-09-23 16:08:37] INFO - detection_dataset.py - Dataset Initialization in progress. `cache_annotations=True` causes the process to take longer due to full dataset indexing.\n"
     ]
    }
   ],
   "source": [
    "from super_gradients.training.dataloaders.dataloaders import (\n",
    "    coco_detection_yolo_format_train, coco_detection_yolo_format_val)\n",
    "\n",
    "train_data = coco_detection_yolo_format_train(\n",
    "    dataset_params={\n",
    "        'data_dir': dataset_params['data_dir'],\n",
    "        'images_dir': dataset_params['train_images_dir'],\n",
    "        'labels_dir': dataset_params['train_labels_dir'],\n",
    "        'classes': dataset_params['classes']\n",
    "    },\n",
    "    dataloader_params={\n",
    "        'batch_size': BATCH_SIZE,\n",
    "        'num_workers': 2\n",
    "    }\n",
    ")\n",
    "\n",
    "val_data = coco_detection_yolo_format_val(\n",
    "    dataset_params={\n",
    "        'data_dir': dataset_params['data_dir'],\n",
    "        'images_dir': dataset_params['val_images_dir'],\n",
    "        'labels_dir': dataset_params['val_labels_dir'],\n",
    "        'classes': dataset_params['classes']\n",
    "    },\n",
    "    dataloader_params={\n",
    "        'batch_size': BATCH_SIZE,\n",
    "        'num_workers': 2\n",
    "    }\n",
    ")\n",
    "\n",
    "# test_data = coco_detection_yolo_format_val(\n",
    "#     dataset_params={\n",
    "#         'data_dir': dataset_params['data_dir'],\n",
    "#         'images_dir': dataset_params['test_images_dir'],\n",
    "#         'labels_dir': dataset_params['test_labels_dir'],\n",
    "#         'classes': dataset_params['classes']\n",
    "#     },\n",
    "#     dataloader_params={\n",
    "#         'batch_size': BATCH_SIZE,\n",
    "#         'num_workers': 2\n",
    "#     }\n",
    "# )"
   ]
  },
  {
   "cell_type": "markdown",
   "id": "9db6a911",
   "metadata": {
    "id": "Yyo084RCO_6D",
    "papermill": {
     "duration": 0.012359,
     "end_time": "2024-09-23T16:08:37.654757",
     "exception": false,
     "start_time": "2024-09-23T16:08:37.642398",
     "status": "completed"
    },
    "tags": []
   },
   "source": [
    "**NOTE:** Let's inspect our dataset"
   ]
  },
  {
   "cell_type": "code",
   "execution_count": 11,
   "id": "d390c6a3",
   "metadata": {
    "execution": {
     "iopub.execute_input": "2024-09-23T16:08:37.681215Z",
     "iopub.status.busy": "2024-09-23T16:08:37.680887Z",
     "iopub.status.idle": "2024-09-23T16:08:37.685820Z",
     "shell.execute_reply": "2024-09-23T16:08:37.685554Z"
    },
    "id": "bhgnHgJIw48k",
    "papermill": {
     "duration": 0.021874,
     "end_time": "2024-09-23T16:08:37.689169",
     "exception": false,
     "start_time": "2024-09-23T16:08:37.667295",
     "status": "completed"
    },
    "tags": []
   },
   "outputs": [
    {
     "data": {
      "text/plain": [
       "[<super_gradients.training.transforms.transforms.DetectionMosaic at 0x7be6b0b98b50>,\n",
       " <super_gradients.training.transforms.transforms.DetectionRandomAffine at 0x7be6c9f70910>,\n",
       " <super_gradients.training.transforms.transforms.DetectionMixup at 0x7be6c9f70a00>,\n",
       " <super_gradients.training.transforms.transforms.DetectionHSV at 0x7be6c9f70a30>,\n",
       " <super_gradients.training.transforms.transforms.DetectionHorizontalFlip at 0x7be6c9f70ac0>,\n",
       " <super_gradients.training.transforms.transforms.DetectionPaddedRescale at 0x7be6c9f70b20>,\n",
       " <super_gradients.training.transforms.transforms.DetectionTargetsFormatTransform at 0x7be6c9f70b80>]"
      ]
     },
     "execution_count": 11,
     "metadata": {},
     "output_type": "execute_result"
    }
   ],
   "source": [
    "train_data.dataset.transforms"
   ]
  },
  {
   "cell_type": "markdown",
   "id": "00d1d6c5",
   "metadata": {
    "id": "0QOZ87k9PxIo",
    "papermill": {
     "duration": 0.012387,
     "end_time": "2024-09-23T16:08:37.714184",
     "exception": false,
     "start_time": "2024-09-23T16:08:37.701797",
     "status": "completed"
    },
    "tags": []
   },
   "source": [
    "### Instantiate the model"
   ]
  },
  {
   "cell_type": "code",
   "execution_count": 12,
   "id": "b93291b1",
   "metadata": {
    "execution": {
     "iopub.execute_input": "2024-09-23T16:08:37.744610Z",
     "iopub.status.busy": "2024-09-23T16:08:37.744257Z",
     "iopub.status.idle": "2024-09-23T16:08:38.932386Z",
     "shell.execute_reply": "2024-09-23T16:08:38.932044Z"
    },
    "id": "GyijtlTLxAsU",
    "outputId": "1b0c6f3e-4e28-48b1-b559-508dd7a20b82",
    "papermill": {
     "duration": 1.204677,
     "end_time": "2024-09-23T16:08:38.934650",
     "exception": false,
     "start_time": "2024-09-23T16:08:37.729973",
     "status": "completed"
    },
    "tags": []
   },
   "outputs": [
    {
     "name": "stderr",
     "output_type": "stream",
     "text": [
      "[2024-09-23 16:08:38] WARNING - checkpoint_utils.py - :warning: The pre-trained models provided by SuperGradients may have their own licenses or terms and conditions derived from the dataset used for pre-training.\n",
      " It is your responsibility to determine whether you have permission to use the models for your use case.\n",
      " The model you have requested was pre-trained on the coco dataset, published under the following terms: https://cocodataset.org/#termsofuse\n",
      "[2024-09-23 16:08:38] INFO - checkpoint_utils.py - License Notification: YOLO-NAS pre-trained weights are subjected to the specific license terms and conditions detailed in \n",
      "https://github.com/Deci-AI/super-gradients/blob/master/LICENSE.YOLONAS.md\n",
      "By downloading the pre-trained weight files you agree to comply with these terms.\n",
      "[2024-09-23 16:08:38] INFO - checkpoint_utils.py - Successfully loaded pretrained weights for architecture yolo_nas_l\n"
     ]
    }
   ],
   "source": [
    "from super_gradients.training import models\n",
    "\n",
    "model = models.get(\n",
    "    MODEL_ARCH,\n",
    "    num_classes=len(dataset_params['classes']),\n",
    "    pretrained_weights=\"coco\"\n",
    ")"
   ]
  },
  {
   "cell_type": "markdown",
   "id": "32d1d9bb",
   "metadata": {
    "id": "YTr4yUNyPOQt",
    "papermill": {
     "duration": 0.012797,
     "end_time": "2024-09-23T16:08:38.960723",
     "exception": false,
     "start_time": "2024-09-23T16:08:38.947926",
     "status": "completed"
    },
    "tags": []
   },
   "source": [
    "### Define metrics and training parameters"
   ]
  },
  {
   "cell_type": "code",
   "execution_count": 13,
   "id": "e0c09661",
   "metadata": {
    "execution": {
     "iopub.execute_input": "2024-09-23T16:08:38.988369Z",
     "iopub.status.busy": "2024-09-23T16:08:38.988048Z",
     "iopub.status.idle": "2024-09-23T16:08:38.995996Z",
     "shell.execute_reply": "2024-09-23T16:08:38.995650Z"
    },
    "id": "9zwM8lqxyjbm",
    "papermill": {
     "duration": 0.024166,
     "end_time": "2024-09-23T16:08:38.997952",
     "exception": false,
     "start_time": "2024-09-23T16:08:38.973786",
     "status": "completed"
    },
    "tags": []
   },
   "outputs": [],
   "source": [
    "from super_gradients.training.losses import PPYoloELoss\n",
    "from super_gradients.training.metrics import DetectionMetrics_050\n",
    "from super_gradients.training.models.detection_models.pp_yolo_e import PPYoloEPostPredictionCallback\n",
    "\n",
    "train_params = {\n",
    "    'silent_mode': False,\n",
    "    \"average_best_models\":True,\n",
    "    \"warmup_mode\": \"linear_epoch_step\",\n",
    "    \"warmup_initial_lr\": 1e-6,\n",
    "    \"lr_warmup_epochs\": 3,\n",
    "    \"initial_lr\": 5e-4,\n",
    "    \"lr_mode\": \"cosine\",\n",
    "    \"cosine_final_lr_ratio\": 0.1,\n",
    "    \"optimizer\": \"Adam\",\n",
    "    \"optimizer_params\": {\"weight_decay\": 0.0001},\n",
    "    \"zero_weight_decay_on_bias_and_bn\": True,\n",
    "    \"ema\": True,\n",
    "    \"ema_params\": {\"decay\": 0.9, \"decay_type\": \"threshold\"},\n",
    "    \"max_epochs\": MAX_EPOCHS,\n",
    "    \"mixed_precision\": True,\n",
    "    \"loss\": PPYoloELoss(\n",
    "        use_static_assigner=False,\n",
    "        num_classes=len(dataset_params['classes']),\n",
    "        reg_max=16\n",
    "    ),\n",
    "    \"valid_metrics_list\": [\n",
    "        DetectionMetrics_050(\n",
    "            score_thres=0.1,\n",
    "            top_k_predictions=300,\n",
    "            num_cls=len(dataset_params['classes']),\n",
    "            normalize_targets=True,\n",
    "            post_prediction_callback=PPYoloEPostPredictionCallback(\n",
    "                score_threshold=0.01,\n",
    "                nms_top_k=1000,\n",
    "                max_predictions=300,\n",
    "                nms_threshold=0.7\n",
    "            )\n",
    "        )\n",
    "    ],\n",
    "    \"metric_to_watch\": 'mAP@0.50'\n",
    "}"
   ]
  },
  {
   "cell_type": "markdown",
   "id": "06375340",
   "metadata": {
    "id": "yHKsBDTlPk1d",
    "papermill": {
     "duration": 0.012712,
     "end_time": "2024-09-23T16:08:39.023653",
     "exception": false,
     "start_time": "2024-09-23T16:08:39.010941",
     "status": "completed"
    },
    "tags": []
   },
   "source": [
    "### Train the model"
   ]
  },
  {
   "cell_type": "code",
   "execution_count": 14,
   "id": "a88f52d7",
   "metadata": {
    "_kg_hide-output": true,
    "execution": {
     "iopub.execute_input": "2024-09-23T16:08:39.050423Z",
     "iopub.status.busy": "2024-09-23T16:08:39.050119Z",
     "iopub.status.idle": "2024-09-23T18:10:18.973156Z",
     "shell.execute_reply": "2024-09-23T18:10:18.972684Z"
    },
    "id": "1mz05df_yx9b",
    "papermill": {
     "duration": 7299.939171,
     "end_time": "2024-09-23T18:10:18.975676",
     "exception": false,
     "start_time": "2024-09-23T16:08:39.036505",
     "status": "completed"
    },
    "tags": []
   },
   "outputs": [
    {
     "name": "stderr",
     "output_type": "stream",
     "text": [
      "[2024-09-23 16:08:39] INFO - sg_trainer.py - Starting a new run with `run_id=RUN_20240923_160839_191420`\n",
      "[2024-09-23 16:08:39] INFO - sg_trainer.py - Checkpoints directory: /kaggle/working/checkpoints/military_aircraft/RUN_20240923_160839_191420\n",
      "[2024-09-23 16:08:39] INFO - sg_trainer.py - Using EMA with params {'decay': 0.9, 'decay_type': 'threshold'}\n"
     ]
    },
    {
     "name": "stdout",
     "output_type": "stream",
     "text": [
      "The console stream is now moved to /kaggle/working/checkpoints/military_aircraft/RUN_20240923_160839_191420/console_Sep23_16_08_39.txt\n"
     ]
    },
    {
     "name": "stderr",
     "output_type": "stream",
     "text": [
      "Object name `linear_epoch_step` is now deprecated. Please replace it with `LinearEpochLRWarmup`.\n",
      "initialize_param_groups and update_param_groups usages are deprecated since 3.4.0, will be removed in 3.5.0 and have no effect. \n",
      " Assign different learning rates by passing a mapping of layer name prefixes to lr values through initial_lr training hyperparameter (i.e initial_lr={'backbone': 0.01, 'default':0.1})\n",
      "`torch.cuda.amp.GradScaler(args...)` is deprecated. Please use `torch.amp.GradScaler('cuda', args...)` instead.\n",
      "os.fork() was called. os.fork() is incompatible with multithreaded code, and JAX is multithreaded, so this will likely lead to a deadlock.\n",
      "[2024-09-23 16:08:41] INFO - sg_trainer_utils.py - TRAINING PARAMETERS:\n",
      "    - Mode:                         Single GPU\n",
      "    - Number of GPUs:               1          (2 available on the machine)\n",
      "    - Full dataset size:            3402       (len(train_set))\n",
      "    - Batch size per GPU:           8          (batch_size)\n",
      "    - Batch Accumulate:             1          (batch_accumulate)\n",
      "    - Total batch size:             8          (num_gpus * batch_size)\n",
      "    - Effective Batch size:         8          (num_gpus * batch_size * batch_accumulate)\n",
      "    - Iterations per epoch:         425        (len(train_loader))\n",
      "    - Gradient updates per epoch:   425        (len(train_loader) / batch_accumulate)\n",
      "    - Model: YoloNAS_L  (66.94M parameters, 66.94M optimized)\n",
      "    - Learning Rates and Weight Decays:\n",
      "      - default: (66.94M parameters). LR: 0.0005 (66.94M parameters) WD: 0.0, (84.79K parameters), WD: 0.0001, (66.85M parameters)\n",
      "\n",
      "[2024-09-23 16:08:41] INFO - sg_trainer.py - Started training for 25 epochs (0/24)\n",
      "\n",
      "Train epoch 0:   0%|          | 0/425 [00:00<?, ?it/s]`torch.cuda.amp.autocast(args...)` is deprecated. Please use `torch.amp.autocast('cuda', args...)` instead.\n",
      "Train epoch 0: 100%|██████████| 425/425 [04:08<00:00,  1.71it/s, PPYoloELoss/loss=3.29, PPYoloELoss/loss_cls=2.07, PPYoloELoss/loss_dfl=0.674, PPYoloELoss/loss_iou=0.541, gpu_mem=6.75]\n",
      "Validating: 100%|██████████| 71/71 [00:26<00:00,  2.70it/s]\n",
      "[2024-09-23 16:13:18] INFO - base_sg_logger.py - Checkpoint saved in /kaggle/working/checkpoints/military_aircraft/RUN_20240923_160839_191420/ckpt_best.pth\n",
      "[2024-09-23 16:13:18] INFO - sg_trainer.py - Best checkpoint overriden: validation mAP@0.50: 0.5467485189437866\n",
      "You are using `torch.load` with `weights_only=False` (the current default value), which uses the default pickle module implicitly. It is possible to construct malicious pickle data which will execute arbitrary code during unpickling (See https://github.com/pytorch/pytorch/blob/main/SECURITY.md#untrusted-models for more details). In a future release, the default value for `weights_only` will be flipped to `True`. This limits the functions that could be executed during unpickling. Arbitrary objects will no longer be allowed to be loaded via this mode unless they are explicitly allowlisted by the user via `torch.serialization.add_safe_globals`. We recommend you start setting `weights_only=True` for any use case where you don't have full control of the loaded file. Please open an issue on GitHub for any issues related to this experimental feature.\n"
     ]
    },
    {
     "name": "stdout",
     "output_type": "stream",
     "text": [
      "===========================================================\n",
      "SUMMARY OF EPOCH 0\n",
      "├── Train\n",
      "│   ├── Ppyoloeloss/loss_cls = 2.0713\n",
      "│   ├── Ppyoloeloss/loss_iou = 0.5412\n",
      "│   ├── Ppyoloeloss/loss_dfl = 0.6738\n",
      "│   └── Ppyoloeloss/loss = 3.2863\n",
      "└── Validation\n",
      "    ├── Ppyoloeloss/loss_cls = 1.2342\n",
      "    ├── Ppyoloeloss/loss_iou = 0.3717\n",
      "    ├── Ppyoloeloss/loss_dfl = 0.5115\n",
      "    ├── Ppyoloeloss/loss = 2.1174\n",
      "    ├── Precision@0.50 = 0.1694\n",
      "    ├── Recall@0.50 = 0.7897\n",
      "    ├── Map@0.50 = 0.5467\n",
      "    ├── F1@0.50 = 0.2789\n",
      "    └── Best_score_threshold = 0.28\n",
      "\n",
      "===========================================================\n"
     ]
    },
    {
     "name": "stderr",
     "output_type": "stream",
     "text": [
      "Train epoch 1: 100%|██████████| 425/425 [04:07<00:00,  1.71it/s, PPYoloELoss/loss=2.2, PPYoloELoss/loss_cls=1.05, PPYoloELoss/loss_dfl=0.641, PPYoloELoss/loss_iou=0.51, gpu_mem=6.88]\n",
      "Validating epoch 1: 100%|██████████| 71/71 [00:26<00:00,  2.71it/s]\n",
      "[2024-09-23 16:18:00] INFO - base_sg_logger.py - Checkpoint saved in /kaggle/working/checkpoints/military_aircraft/RUN_20240923_160839_191420/ckpt_best.pth\n",
      "[2024-09-23 16:18:00] INFO - sg_trainer.py - Best checkpoint overriden: validation mAP@0.50: 0.8207380771636963\n"
     ]
    },
    {
     "name": "stdout",
     "output_type": "stream",
     "text": [
      "===========================================================\n",
      "SUMMARY OF EPOCH 1\n",
      "├── Train\n",
      "│   ├── Ppyoloeloss/loss_cls = 1.052\n",
      "│   │   ├── Epoch N-1      = 2.0713 (\u001b[32m↘ -1.0193\u001b[0m)\n",
      "│   │   └── Best until now = 2.0713 (\u001b[32m↘ -1.0193\u001b[0m)\n",
      "│   ├── Ppyoloeloss/loss_iou = 0.5103\n",
      "│   │   ├── Epoch N-1      = 0.5412 (\u001b[32m↘ -0.0309\u001b[0m)\n",
      "│   │   └── Best until now = 0.5412 (\u001b[32m↘ -0.0309\u001b[0m)\n",
      "│   ├── Ppyoloeloss/loss_dfl = 0.6408\n",
      "│   │   ├── Epoch N-1      = 0.6738 (\u001b[32m↘ -0.033\u001b[0m)\n",
      "│   │   └── Best until now = 0.6738 (\u001b[32m↘ -0.033\u001b[0m)\n",
      "│   └── Ppyoloeloss/loss = 2.2031\n",
      "│       ├── Epoch N-1      = 3.2863 (\u001b[32m↘ -1.0832\u001b[0m)\n",
      "│       └── Best until now = 3.2863 (\u001b[32m↘ -1.0832\u001b[0m)\n",
      "└── Validation\n",
      "    ├── Ppyoloeloss/loss_cls = 0.9042\n",
      "    │   ├── Epoch N-1      = 1.2342 (\u001b[32m↘ -0.33\u001b[0m)\n",
      "    │   └── Best until now = 1.2342 (\u001b[32m↘ -0.33\u001b[0m)\n",
      "    ├── Ppyoloeloss/loss_iou = 0.3724\n",
      "    │   ├── Epoch N-1      = 0.3717 (\u001b[31m↗ 0.0007\u001b[0m)\n",
      "    │   └── Best until now = 0.3717 (\u001b[31m↗ 0.0007\u001b[0m)\n",
      "    ├── Ppyoloeloss/loss_dfl = 0.4953\n",
      "    │   ├── Epoch N-1      = 0.5115 (\u001b[32m↘ -0.0162\u001b[0m)\n",
      "    │   └── Best until now = 0.5115 (\u001b[32m↘ -0.0162\u001b[0m)\n",
      "    ├── Ppyoloeloss/loss = 1.7719\n",
      "    │   ├── Epoch N-1      = 2.1174 (\u001b[32m↘ -0.3455\u001b[0m)\n",
      "    │   └── Best until now = 2.1174 (\u001b[32m↘ -0.3455\u001b[0m)\n",
      "    ├── Precision@0.50 = 0.0379\n",
      "    │   ├── Epoch N-1      = 0.1694 (\u001b[31m↘ -0.1315\u001b[0m)\n",
      "    │   └── Best until now = 0.1694 (\u001b[31m↘ -0.1315\u001b[0m)\n",
      "    ├── Recall@0.50 = 0.963\n",
      "    │   ├── Epoch N-1      = 0.7897 (\u001b[32m↗ 0.1733\u001b[0m)\n",
      "    │   └── Best until now = 0.7897 (\u001b[32m↗ 0.1733\u001b[0m)\n",
      "    ├── Map@0.50 = 0.8207\n",
      "    │   ├── Epoch N-1      = 0.5467 (\u001b[32m↗ 0.274\u001b[0m)\n",
      "    │   └── Best until now = 0.5467 (\u001b[32m↗ 0.274\u001b[0m)\n",
      "    ├── F1@0.50 = 0.073\n",
      "    │   ├── Epoch N-1      = 0.2789 (\u001b[31m↘ -0.206\u001b[0m)\n",
      "    │   └── Best until now = 0.2789 (\u001b[31m↘ -0.206\u001b[0m)\n",
      "    └── Best_score_threshold = 0.51\n",
      "        ├── Epoch N-1      = 0.28   (↗ 0.23\u001b[0m)\n",
      "        └── Best until now = 0.28   (↗ 0.23\u001b[0m)\n",
      "\n",
      "===========================================================\n"
     ]
    },
    {
     "name": "stderr",
     "output_type": "stream",
     "text": [
      "Train epoch 2: 100%|██████████| 425/425 [04:07<00:00,  1.72it/s, PPYoloELoss/loss=2.24, PPYoloELoss/loss_cls=1.06, PPYoloELoss/loss_dfl=0.655, PPYoloELoss/loss_iou=0.524, gpu_mem=6.88]\n",
      "Validating epoch 2: 100%|██████████| 71/71 [00:26<00:00,  2.71it/s]\n"
     ]
    },
    {
     "name": "stdout",
     "output_type": "stream",
     "text": [
      "===========================================================\n",
      "SUMMARY OF EPOCH 2\n",
      "├── Train\n",
      "│   ├── Ppyoloeloss/loss_cls = 1.0561\n",
      "│   │   ├── Epoch N-1      = 1.052  (\u001b[31m↗ 0.0041\u001b[0m)\n",
      "│   │   └── Best until now = 1.052  (\u001b[31m↗ 0.0041\u001b[0m)\n",
      "│   ├── Ppyoloeloss/loss_iou = 0.5241\n",
      "│   │   ├── Epoch N-1      = 0.5103 (\u001b[31m↗ 0.0138\u001b[0m)\n",
      "│   │   └── Best until now = 0.5103 (\u001b[31m↗ 0.0138\u001b[0m)\n",
      "│   ├── Ppyoloeloss/loss_dfl = 0.655\n",
      "│   │   ├── Epoch N-1      = 0.6408 (\u001b[31m↗ 0.0143\u001b[0m)\n",
      "│   │   └── Best until now = 0.6408 (\u001b[31m↗ 0.0143\u001b[0m)\n",
      "│   └── Ppyoloeloss/loss = 2.2353\n",
      "│       ├── Epoch N-1      = 2.2031 (\u001b[31m↗ 0.0322\u001b[0m)\n",
      "│       └── Best until now = 2.2031 (\u001b[31m↗ 0.0322\u001b[0m)\n",
      "└── Validation\n",
      "    ├── Ppyoloeloss/loss_cls = 0.9531\n",
      "    │   ├── Epoch N-1      = 0.9042 (\u001b[31m↗ 0.049\u001b[0m)\n",
      "    │   └── Best until now = 0.9042 (\u001b[31m↗ 0.049\u001b[0m)\n",
      "    ├── Ppyoloeloss/loss_iou = 0.3876\n",
      "    │   ├── Epoch N-1      = 0.3724 (\u001b[31m↗ 0.0152\u001b[0m)\n",
      "    │   └── Best until now = 0.3717 (\u001b[31m↗ 0.0159\u001b[0m)\n",
      "    ├── Ppyoloeloss/loss_dfl = 0.5261\n",
      "    │   ├── Epoch N-1      = 0.4953 (\u001b[31m↗ 0.0308\u001b[0m)\n",
      "    │   └── Best until now = 0.4953 (\u001b[31m↗ 0.0308\u001b[0m)\n",
      "    ├── Ppyoloeloss/loss = 1.8669\n",
      "    │   ├── Epoch N-1      = 1.7719 (\u001b[31m↗ 0.095\u001b[0m)\n",
      "    │   └── Best until now = 1.7719 (\u001b[31m↗ 0.095\u001b[0m)\n",
      "    ├── Precision@0.50 = 0.0276\n",
      "    │   ├── Epoch N-1      = 0.0379 (\u001b[31m↘ -0.0103\u001b[0m)\n",
      "    │   └── Best until now = 0.1694 (\u001b[31m↘ -0.1418\u001b[0m)\n",
      "    ├── Recall@0.50 = 0.962\n",
      "    │   ├── Epoch N-1      = 0.963  (\u001b[31m↘ -0.001\u001b[0m)\n",
      "    │   └── Best until now = 0.963  (\u001b[31m↘ -0.001\u001b[0m)\n",
      "    ├── Map@0.50 = 0.7489\n",
      "    │   ├── Epoch N-1      = 0.8207 (\u001b[31m↘ -0.0718\u001b[0m)\n",
      "    │   └── Best until now = 0.8207 (\u001b[31m↘ -0.0718\u001b[0m)\n",
      "    ├── F1@0.50 = 0.0536\n",
      "    │   ├── Epoch N-1      = 0.073  (\u001b[31m↘ -0.0193\u001b[0m)\n",
      "    │   └── Best until now = 0.2789 (\u001b[31m↘ -0.2253\u001b[0m)\n",
      "    └── Best_score_threshold = 0.47\n",
      "        ├── Epoch N-1      = 0.51   (↘ -0.04\u001b[0m)\n",
      "        └── Best until now = 0.28   (↗ 0.19\u001b[0m)\n",
      "\n",
      "===========================================================\n"
     ]
    },
    {
     "name": "stderr",
     "output_type": "stream",
     "text": [
      "Train epoch 3: 100%|██████████| 425/425 [04:07<00:00,  1.71it/s, PPYoloELoss/loss=2.26, PPYoloELoss/loss_cls=1.08, PPYoloELoss/loss_dfl=0.66, PPYoloELoss/loss_iou=0.528, gpu_mem=6.84]\n",
      "Validating epoch 3: 100%|██████████| 71/71 [00:26<00:00,  2.73it/s]\n"
     ]
    },
    {
     "name": "stdout",
     "output_type": "stream",
     "text": [
      "===========================================================\n",
      "SUMMARY OF EPOCH 3\n",
      "├── Train\n",
      "│   ├── Ppyoloeloss/loss_cls = 1.0753\n",
      "│   │   ├── Epoch N-1      = 1.0561 (\u001b[31m↗ 0.0192\u001b[0m)\n",
      "│   │   └── Best until now = 1.052  (\u001b[31m↗ 0.0233\u001b[0m)\n",
      "│   ├── Ppyoloeloss/loss_iou = 0.528\n",
      "│   │   ├── Epoch N-1      = 0.5241 (\u001b[31m↗ 0.0039\u001b[0m)\n",
      "│   │   └── Best until now = 0.5103 (\u001b[31m↗ 0.0177\u001b[0m)\n",
      "│   ├── Ppyoloeloss/loss_dfl = 0.6597\n",
      "│   │   ├── Epoch N-1      = 0.655  (\u001b[31m↗ 0.0047\u001b[0m)\n",
      "│   │   └── Best until now = 0.6408 (\u001b[31m↗ 0.0189\u001b[0m)\n",
      "│   └── Ppyoloeloss/loss = 2.263\n",
      "│       ├── Epoch N-1      = 2.2353 (\u001b[31m↗ 0.0277\u001b[0m)\n",
      "│       └── Best until now = 2.2031 (\u001b[31m↗ 0.0599\u001b[0m)\n",
      "└── Validation\n",
      "    ├── Ppyoloeloss/loss_cls = 1.0453\n",
      "    │   ├── Epoch N-1      = 0.9531 (\u001b[31m↗ 0.0922\u001b[0m)\n",
      "    │   └── Best until now = 0.9042 (\u001b[31m↗ 0.1411\u001b[0m)\n",
      "    ├── Ppyoloeloss/loss_iou = 0.431\n",
      "    │   ├── Epoch N-1      = 0.3876 (\u001b[31m↗ 0.0434\u001b[0m)\n",
      "    │   └── Best until now = 0.3717 (\u001b[31m↗ 0.0593\u001b[0m)\n",
      "    ├── Ppyoloeloss/loss_dfl = 0.5569\n",
      "    │   ├── Epoch N-1      = 0.5261 (\u001b[31m↗ 0.0308\u001b[0m)\n",
      "    │   └── Best until now = 0.4953 (\u001b[31m↗ 0.0617\u001b[0m)\n",
      "    ├── Ppyoloeloss/loss = 2.0333\n",
      "    │   ├── Epoch N-1      = 1.8669 (\u001b[31m↗ 0.1664\u001b[0m)\n",
      "    │   └── Best until now = 1.7719 (\u001b[31m↗ 0.2614\u001b[0m)\n",
      "    ├── Precision@0.50 = 0.0281\n",
      "    │   ├── Epoch N-1      = 0.0276 (\u001b[32m↗ 0.0006\u001b[0m)\n",
      "    │   └── Best until now = 0.1694 (\u001b[31m↘ -0.1412\u001b[0m)\n",
      "    ├── Recall@0.50 = 0.9279\n",
      "    │   ├── Epoch N-1      = 0.962  (\u001b[31m↘ -0.0341\u001b[0m)\n",
      "    │   └── Best until now = 0.963  (\u001b[31m↘ -0.0351\u001b[0m)\n",
      "    ├── Map@0.50 = 0.6358\n",
      "    │   ├── Epoch N-1      = 0.7489 (\u001b[31m↘ -0.1131\u001b[0m)\n",
      "    │   └── Best until now = 0.8207 (\u001b[31m↘ -0.1849\u001b[0m)\n",
      "    ├── F1@0.50 = 0.0546\n",
      "    │   ├── Epoch N-1      = 0.0536 (\u001b[32m↗ 0.001\u001b[0m)\n",
      "    │   └── Best until now = 0.2789 (\u001b[31m↘ -0.2243\u001b[0m)\n",
      "    └── Best_score_threshold = 0.45\n",
      "        ├── Epoch N-1      = 0.47   (↘ -0.02\u001b[0m)\n",
      "        └── Best until now = 0.28   (↗ 0.17\u001b[0m)\n",
      "\n",
      "===========================================================\n"
     ]
    },
    {
     "name": "stderr",
     "output_type": "stream",
     "text": [
      "Train epoch 4: 100%|██████████| 425/425 [04:07<00:00,  1.72it/s, PPYoloELoss/loss=2.2, PPYoloELoss/loss_cls=1.05, PPYoloELoss/loss_dfl=0.639, PPYoloELoss/loss_iou=0.509, gpu_mem=6.76]\n",
      "Validating epoch 4: 100%|██████████| 71/71 [00:26<00:00,  2.72it/s]\n"
     ]
    },
    {
     "name": "stdout",
     "output_type": "stream",
     "text": [
      "===========================================================\n",
      "SUMMARY OF EPOCH 4\n",
      "├── Train\n",
      "│   ├── Ppyoloeloss/loss_cls = 1.0509\n",
      "│   │   ├── Epoch N-1      = 1.0753 (\u001b[32m↘ -0.0244\u001b[0m)\n",
      "│   │   └── Best until now = 1.052  (\u001b[32m↘ -0.0011\u001b[0m)\n",
      "│   ├── Ppyoloeloss/loss_iou = 0.509\n",
      "│   │   ├── Epoch N-1      = 0.528  (\u001b[32m↘ -0.019\u001b[0m)\n",
      "│   │   └── Best until now = 0.5103 (\u001b[32m↘ -0.0013\u001b[0m)\n",
      "│   ├── Ppyoloeloss/loss_dfl = 0.6388\n",
      "│   │   ├── Epoch N-1      = 0.6597 (\u001b[32m↘ -0.0209\u001b[0m)\n",
      "│   │   └── Best until now = 0.6408 (\u001b[32m↘ -0.002\u001b[0m)\n",
      "│   └── Ppyoloeloss/loss = 2.1987\n",
      "│       ├── Epoch N-1      = 2.263  (\u001b[32m↘ -0.0643\u001b[0m)\n",
      "│       └── Best until now = 2.2031 (\u001b[32m↘ -0.0044\u001b[0m)\n",
      "└── Validation\n",
      "    ├── Ppyoloeloss/loss_cls = 1.0238\n",
      "    │   ├── Epoch N-1      = 1.0453 (\u001b[32m↘ -0.0216\u001b[0m)\n",
      "    │   └── Best until now = 0.9042 (\u001b[31m↗ 0.1196\u001b[0m)\n",
      "    ├── Ppyoloeloss/loss_iou = 0.3891\n",
      "    │   ├── Epoch N-1      = 0.431  (\u001b[32m↘ -0.0419\u001b[0m)\n",
      "    │   └── Best until now = 0.3717 (\u001b[31m↗ 0.0174\u001b[0m)\n",
      "    ├── Ppyoloeloss/loss_dfl = 0.5298\n",
      "    │   ├── Epoch N-1      = 0.5569 (\u001b[32m↘ -0.0271\u001b[0m)\n",
      "    │   └── Best until now = 0.4953 (\u001b[31m↗ 0.0345\u001b[0m)\n",
      "    ├── Ppyoloeloss/loss = 1.9427\n",
      "    │   ├── Epoch N-1      = 2.0333 (\u001b[32m↘ -0.0907\u001b[0m)\n",
      "    │   └── Best until now = 1.7719 (\u001b[31m↗ 0.1708\u001b[0m)\n",
      "    ├── Precision@0.50 = 0.0222\n",
      "    │   ├── Epoch N-1      = 0.0281 (\u001b[31m↘ -0.006\u001b[0m)\n",
      "    │   └── Best until now = 0.1694 (\u001b[31m↘ -0.1472\u001b[0m)\n",
      "    ├── Recall@0.50 = 0.9503\n",
      "    │   ├── Epoch N-1      = 0.9279 (\u001b[32m↗ 0.0224\u001b[0m)\n",
      "    │   └── Best until now = 0.963  (\u001b[31m↘ -0.0127\u001b[0m)\n",
      "    ├── Map@0.50 = 0.7071\n",
      "    │   ├── Epoch N-1      = 0.6358 (\u001b[32m↗ 0.0713\u001b[0m)\n",
      "    │   └── Best until now = 0.8207 (\u001b[31m↘ -0.1136\u001b[0m)\n",
      "    ├── F1@0.50 = 0.0433\n",
      "    │   ├── Epoch N-1      = 0.0546 (\u001b[31m↘ -0.0113\u001b[0m)\n",
      "    │   └── Best until now = 0.2789 (\u001b[31m↘ -0.2356\u001b[0m)\n",
      "    └── Best_score_threshold = 0.48\n",
      "        ├── Epoch N-1      = 0.45   (↗ 0.03\u001b[0m)\n",
      "        └── Best until now = 0.28   (↗ 0.2\u001b[0m)\n",
      "\n",
      "===========================================================\n"
     ]
    },
    {
     "name": "stderr",
     "output_type": "stream",
     "text": [
      "Train epoch 5: 100%|██████████| 425/425 [04:07<00:00,  1.72it/s, PPYoloELoss/loss=2.19, PPYoloELoss/loss_cls=1.05, PPYoloELoss/loss_dfl=0.634, PPYoloELoss/loss_iou=0.5, gpu_mem=6.68]\n",
      "Validating epoch 5: 100%|██████████| 71/71 [00:26<00:00,  2.72it/s]\n"
     ]
    },
    {
     "name": "stdout",
     "output_type": "stream",
     "text": [
      "===========================================================\n",
      "SUMMARY OF EPOCH 5\n",
      "├── Train\n",
      "│   ├── Ppyoloeloss/loss_cls = 1.0516\n",
      "│   │   ├── Epoch N-1      = 1.0509 (\u001b[31m↗ 0.0006\u001b[0m)\n",
      "│   │   └── Best until now = 1.0509 (\u001b[31m↗ 0.0006\u001b[0m)\n",
      "│   ├── Ppyoloeloss/loss_iou = 0.5003\n",
      "│   │   ├── Epoch N-1      = 0.509  (\u001b[32m↘ -0.0087\u001b[0m)\n",
      "│   │   └── Best until now = 0.509  (\u001b[32m↘ -0.0087\u001b[0m)\n",
      "│   ├── Ppyoloeloss/loss_dfl = 0.6342\n",
      "│   │   ├── Epoch N-1      = 0.6388 (\u001b[32m↘ -0.0046\u001b[0m)\n",
      "│   │   └── Best until now = 0.6388 (\u001b[32m↘ -0.0046\u001b[0m)\n",
      "│   └── Ppyoloeloss/loss = 2.186\n",
      "│       ├── Epoch N-1      = 2.1987 (\u001b[32m↘ -0.0127\u001b[0m)\n",
      "│       └── Best until now = 2.1987 (\u001b[32m↘ -0.0127\u001b[0m)\n",
      "└── Validation\n",
      "    ├── Ppyoloeloss/loss_cls = 1.0361\n",
      "    │   ├── Epoch N-1      = 1.0238 (\u001b[31m↗ 0.0123\u001b[0m)\n",
      "    │   └── Best until now = 0.9042 (\u001b[31m↗ 0.1319\u001b[0m)\n",
      "    ├── Ppyoloeloss/loss_iou = 0.4048\n",
      "    │   ├── Epoch N-1      = 0.3891 (\u001b[31m↗ 0.0157\u001b[0m)\n",
      "    │   └── Best until now = 0.3717 (\u001b[31m↗ 0.0331\u001b[0m)\n",
      "    ├── Ppyoloeloss/loss_dfl = 0.5427\n",
      "    │   ├── Epoch N-1      = 0.5298 (\u001b[31m↗ 0.0129\u001b[0m)\n",
      "    │   └── Best until now = 0.4953 (\u001b[31m↗ 0.0474\u001b[0m)\n",
      "    ├── Ppyoloeloss/loss = 1.9835\n",
      "    │   ├── Epoch N-1      = 1.9427 (\u001b[31m↗ 0.0409\u001b[0m)\n",
      "    │   └── Best until now = 1.7719 (\u001b[31m↗ 0.2116\u001b[0m)\n",
      "    ├── Precision@0.50 = 0.0204\n",
      "    │   ├── Epoch N-1      = 0.0222 (\u001b[31m↘ -0.0017\u001b[0m)\n",
      "    │   └── Best until now = 0.1694 (\u001b[31m↘ -0.1489\u001b[0m)\n",
      "    ├── Recall@0.50 = 0.9474\n",
      "    │   ├── Epoch N-1      = 0.9503 (\u001b[31m↘ -0.0029\u001b[0m)\n",
      "    │   └── Best until now = 0.963  (\u001b[31m↘ -0.0156\u001b[0m)\n",
      "    ├── Map@0.50 = 0.703\n",
      "    │   ├── Epoch N-1      = 0.7071 (\u001b[31m↘ -0.0041\u001b[0m)\n",
      "    │   └── Best until now = 0.8207 (\u001b[31m↘ -0.1177\u001b[0m)\n",
      "    ├── F1@0.50 = 0.04\n",
      "    │   ├── Epoch N-1      = 0.0433 (\u001b[31m↘ -0.0033\u001b[0m)\n",
      "    │   └── Best until now = 0.2789 (\u001b[31m↘ -0.2389\u001b[0m)\n",
      "    └── Best_score_threshold = 0.47\n",
      "        ├── Epoch N-1      = 0.48   (↘ -0.01\u001b[0m)\n",
      "        └── Best until now = 0.28   (↗ 0.19\u001b[0m)\n",
      "\n",
      "===========================================================\n"
     ]
    },
    {
     "name": "stderr",
     "output_type": "stream",
     "text": [
      "Train epoch 6: 100%|██████████| 425/425 [04:07<00:00,  1.72it/s, PPYoloELoss/loss=2.14, PPYoloELoss/loss_cls=1.04, PPYoloELoss/loss_dfl=0.619, PPYoloELoss/loss_iou=0.484, gpu_mem=6.69]\n",
      "Validating epoch 6: 100%|██████████| 71/71 [00:26<00:00,  2.72it/s]\n"
     ]
    },
    {
     "name": "stdout",
     "output_type": "stream",
     "text": [
      "===========================================================\n",
      "SUMMARY OF EPOCH 6\n",
      "├── Train\n",
      "│   ├── Ppyoloeloss/loss_cls = 1.0362\n",
      "│   │   ├── Epoch N-1      = 1.0516 (\u001b[32m↘ -0.0154\u001b[0m)\n",
      "│   │   └── Best until now = 1.0509 (\u001b[32m↘ -0.0148\u001b[0m)\n",
      "│   ├── Ppyoloeloss/loss_iou = 0.4838\n",
      "│   │   ├── Epoch N-1      = 0.5003 (\u001b[32m↘ -0.0165\u001b[0m)\n",
      "│   │   └── Best until now = 0.5003 (\u001b[32m↘ -0.0165\u001b[0m)\n",
      "│   ├── Ppyoloeloss/loss_dfl = 0.6193\n",
      "│   │   ├── Epoch N-1      = 0.6342 (\u001b[32m↘ -0.0149\u001b[0m)\n",
      "│   │   └── Best until now = 0.6342 (\u001b[32m↘ -0.0149\u001b[0m)\n",
      "│   └── Ppyoloeloss/loss = 2.1393\n",
      "│       ├── Epoch N-1      = 2.186  (\u001b[32m↘ -0.0467\u001b[0m)\n",
      "│       └── Best until now = 2.186  (\u001b[32m↘ -0.0467\u001b[0m)\n",
      "└── Validation\n",
      "    ├── Ppyoloeloss/loss_cls = 0.9895\n",
      "    │   ├── Epoch N-1      = 1.0361 (\u001b[32m↘ -0.0466\u001b[0m)\n",
      "    │   └── Best until now = 0.9042 (\u001b[31m↗ 0.0853\u001b[0m)\n",
      "    ├── Ppyoloeloss/loss_iou = 0.3633\n",
      "    │   ├── Epoch N-1      = 0.4048 (\u001b[32m↘ -0.0414\u001b[0m)\n",
      "    │   └── Best until now = 0.3717 (\u001b[32m↘ -0.0084\u001b[0m)\n",
      "    ├── Ppyoloeloss/loss_dfl = 0.5029\n",
      "    │   ├── Epoch N-1      = 0.5427 (\u001b[32m↘ -0.0398\u001b[0m)\n",
      "    │   └── Best until now = 0.4953 (\u001b[31m↗ 0.0076\u001b[0m)\n",
      "    ├── Ppyoloeloss/loss = 1.8558\n",
      "    │   ├── Epoch N-1      = 1.9835 (\u001b[32m↘ -0.1278\u001b[0m)\n",
      "    │   └── Best until now = 1.7719 (\u001b[31m↗ 0.0839\u001b[0m)\n",
      "    ├── Precision@0.50 = 0.0253\n",
      "    │   ├── Epoch N-1      = 0.0204 (\u001b[32m↗ 0.0049\u001b[0m)\n",
      "    │   └── Best until now = 0.1694 (\u001b[31m↘ -0.1441\u001b[0m)\n",
      "    ├── Recall@0.50 = 0.964\n",
      "    │   ├── Epoch N-1      = 0.9474 (\u001b[32m↗ 0.0166\u001b[0m)\n",
      "    │   └── Best until now = 0.963  (\u001b[32m↗ 0.001\u001b[0m)\n",
      "    ├── Map@0.50 = 0.7673\n",
      "    │   ├── Epoch N-1      = 0.703  (\u001b[32m↗ 0.0643\u001b[0m)\n",
      "    │   └── Best until now = 0.8207 (\u001b[31m↘ -0.0534\u001b[0m)\n",
      "    ├── F1@0.50 = 0.0493\n",
      "    │   ├── Epoch N-1      = 0.04   (\u001b[32m↗ 0.0093\u001b[0m)\n",
      "    │   └── Best until now = 0.2789 (\u001b[31m↘ -0.2296\u001b[0m)\n",
      "    └── Best_score_threshold = 0.51\n",
      "        ├── Epoch N-1      = 0.47   (↗ 0.04\u001b[0m)\n",
      "        └── Best until now = 0.28   (↗ 0.23\u001b[0m)\n",
      "\n",
      "===========================================================\n"
     ]
    },
    {
     "name": "stderr",
     "output_type": "stream",
     "text": [
      "Train epoch 7: 100%|██████████| 425/425 [04:07<00:00,  1.72it/s, PPYoloELoss/loss=2.13, PPYoloELoss/loss_cls=1.03, PPYoloELoss/loss_dfl=0.615, PPYoloELoss/loss_iou=0.481, gpu_mem=6.69]\n",
      "Validating epoch 7: 100%|██████████| 71/71 [00:25<00:00,  2.73it/s]\n"
     ]
    },
    {
     "name": "stdout",
     "output_type": "stream",
     "text": [
      "===========================================================\n",
      "SUMMARY OF EPOCH 7\n",
      "├── Train\n",
      "│   ├── Ppyoloeloss/loss_cls = 1.0295\n",
      "│   │   ├── Epoch N-1      = 1.0362 (\u001b[32m↘ -0.0067\u001b[0m)\n",
      "│   │   └── Best until now = 1.0362 (\u001b[32m↘ -0.0067\u001b[0m)\n",
      "│   ├── Ppyoloeloss/loss_iou = 0.4807\n",
      "│   │   ├── Epoch N-1      = 0.4838 (\u001b[32m↘ -0.003\u001b[0m)\n",
      "│   │   └── Best until now = 0.4838 (\u001b[32m↘ -0.003\u001b[0m)\n",
      "│   ├── Ppyoloeloss/loss_dfl = 0.6153\n",
      "│   │   ├── Epoch N-1      = 0.6193 (\u001b[32m↘ -0.004\u001b[0m)\n",
      "│   │   └── Best until now = 0.6193 (\u001b[32m↘ -0.004\u001b[0m)\n",
      "│   └── Ppyoloeloss/loss = 2.1255\n",
      "│       ├── Epoch N-1      = 2.1393 (\u001b[32m↘ -0.0137\u001b[0m)\n",
      "│       └── Best until now = 2.1393 (\u001b[32m↘ -0.0137\u001b[0m)\n",
      "└── Validation\n",
      "    ├── Ppyoloeloss/loss_cls = 0.9755\n",
      "    │   ├── Epoch N-1      = 0.9895 (\u001b[32m↘ -0.014\u001b[0m)\n",
      "    │   └── Best until now = 0.9042 (\u001b[31m↗ 0.0713\u001b[0m)\n",
      "    ├── Ppyoloeloss/loss_iou = 0.3737\n",
      "    │   ├── Epoch N-1      = 0.3633 (\u001b[31m↗ 0.0104\u001b[0m)\n",
      "    │   └── Best until now = 0.3633 (\u001b[31m↗ 0.0104\u001b[0m)\n",
      "    ├── Ppyoloeloss/loss_dfl = 0.528\n",
      "    │   ├── Epoch N-1      = 0.5029 (\u001b[31m↗ 0.0251\u001b[0m)\n",
      "    │   └── Best until now = 0.4953 (\u001b[31m↗ 0.0327\u001b[0m)\n",
      "    ├── Ppyoloeloss/loss = 1.8772\n",
      "    │   ├── Epoch N-1      = 1.8558 (\u001b[31m↗ 0.0215\u001b[0m)\n",
      "    │   └── Best until now = 1.7719 (\u001b[31m↗ 0.1053\u001b[0m)\n",
      "    ├── Precision@0.50 = 0.0264\n",
      "    │   ├── Epoch N-1      = 0.0253 (\u001b[32m↗ 0.0011\u001b[0m)\n",
      "    │   └── Best until now = 0.1694 (\u001b[31m↘ -0.143\u001b[0m)\n",
      "    ├── Recall@0.50 = 0.9455\n",
      "    │   ├── Epoch N-1      = 0.964  (\u001b[31m↘ -0.0185\u001b[0m)\n",
      "    │   └── Best until now = 0.964  (\u001b[31m↘ -0.0185\u001b[0m)\n",
      "    ├── Map@0.50 = 0.7461\n",
      "    │   ├── Epoch N-1      = 0.7673 (\u001b[31m↘ -0.0213\u001b[0m)\n",
      "    │   └── Best until now = 0.8207 (\u001b[31m↘ -0.0746\u001b[0m)\n",
      "    ├── F1@0.50 = 0.0514\n",
      "    │   ├── Epoch N-1      = 0.0493 (\u001b[32m↗ 0.0021\u001b[0m)\n",
      "    │   └── Best until now = 0.2789 (\u001b[31m↘ -0.2275\u001b[0m)\n",
      "    └── Best_score_threshold = 0.49\n",
      "        ├── Epoch N-1      = 0.51   (↘ -0.02\u001b[0m)\n",
      "        └── Best until now = 0.28   (↗ 0.21\u001b[0m)\n",
      "\n",
      "===========================================================\n"
     ]
    },
    {
     "name": "stderr",
     "output_type": "stream",
     "text": [
      "Train epoch 8: 100%|██████████| 425/425 [04:07<00:00,  1.72it/s, PPYoloELoss/loss=2.12, PPYoloELoss/loss_cls=1.02, PPYoloELoss/loss_dfl=0.613, PPYoloELoss/loss_iou=0.478, gpu_mem=6.75]\n",
      "Validating epoch 8: 100%|██████████| 71/71 [00:26<00:00,  2.72it/s]\n"
     ]
    },
    {
     "name": "stdout",
     "output_type": "stream",
     "text": [
      "===========================================================\n",
      "SUMMARY OF EPOCH 8\n",
      "├── Train\n",
      "│   ├── Ppyoloeloss/loss_cls = 1.0236\n",
      "│   │   ├── Epoch N-1      = 1.0295 (\u001b[32m↘ -0.0059\u001b[0m)\n",
      "│   │   └── Best until now = 1.0295 (\u001b[32m↘ -0.0059\u001b[0m)\n",
      "│   ├── Ppyoloeloss/loss_iou = 0.4783\n",
      "│   │   ├── Epoch N-1      = 0.4807 (\u001b[32m↘ -0.0024\u001b[0m)\n",
      "│   │   └── Best until now = 0.4807 (\u001b[32m↘ -0.0024\u001b[0m)\n",
      "│   ├── Ppyoloeloss/loss_dfl = 0.6131\n",
      "│   │   ├── Epoch N-1      = 0.6153 (\u001b[32m↘ -0.0022\u001b[0m)\n",
      "│   │   └── Best until now = 0.6153 (\u001b[32m↘ -0.0022\u001b[0m)\n",
      "│   └── Ppyoloeloss/loss = 2.1151\n",
      "│       ├── Epoch N-1      = 2.1255 (\u001b[32m↘ -0.0105\u001b[0m)\n",
      "│       └── Best until now = 2.1255 (\u001b[32m↘ -0.0105\u001b[0m)\n",
      "└── Validation\n",
      "    ├── Ppyoloeloss/loss_cls = 1.0426\n",
      "    │   ├── Epoch N-1      = 0.9755 (\u001b[31m↗ 0.0671\u001b[0m)\n",
      "    │   └── Best until now = 0.9042 (\u001b[31m↗ 0.1384\u001b[0m)\n",
      "    ├── Ppyoloeloss/loss_iou = 0.3626\n",
      "    │   ├── Epoch N-1      = 0.3737 (\u001b[32m↘ -0.0112\u001b[0m)\n",
      "    │   └── Best until now = 0.3633 (\u001b[32m↘ -0.0008\u001b[0m)\n",
      "    ├── Ppyoloeloss/loss_dfl = 0.5021\n",
      "    │   ├── Epoch N-1      = 0.528  (\u001b[32m↘ -0.0259\u001b[0m)\n",
      "    │   └── Best until now = 0.4953 (\u001b[31m↗ 0.0069\u001b[0m)\n",
      "    ├── Ppyoloeloss/loss = 1.9073\n",
      "    │   ├── Epoch N-1      = 1.8772 (\u001b[31m↗ 0.0301\u001b[0m)\n",
      "    │   └── Best until now = 1.7719 (\u001b[31m↗ 0.1354\u001b[0m)\n",
      "    ├── Precision@0.50 = 0.0167\n",
      "    │   ├── Epoch N-1      = 0.0264 (\u001b[31m↘ -0.0097\u001b[0m)\n",
      "    │   └── Best until now = 0.1694 (\u001b[31m↘ -0.1527\u001b[0m)\n",
      "    ├── Recall@0.50 = 0.9562\n",
      "    │   ├── Epoch N-1      = 0.9455 (\u001b[32m↗ 0.0107\u001b[0m)\n",
      "    │   └── Best until now = 0.964  (\u001b[31m↘ -0.0078\u001b[0m)\n",
      "    ├── Map@0.50 = 0.7776\n",
      "    │   ├── Epoch N-1      = 0.7461 (\u001b[32m↗ 0.0315\u001b[0m)\n",
      "    │   └── Best until now = 0.8207 (\u001b[31m↘ -0.0431\u001b[0m)\n",
      "    ├── F1@0.50 = 0.0329\n",
      "    │   ├── Epoch N-1      = 0.0514 (\u001b[31m↘ -0.0185\u001b[0m)\n",
      "    │   └── Best until now = 0.2789 (\u001b[31m↘ -0.2461\u001b[0m)\n",
      "    └── Best_score_threshold = 0.58\n",
      "        ├── Epoch N-1      = 0.49   (↗ 0.09\u001b[0m)\n",
      "        └── Best until now = 0.28   (↗ 0.3\u001b[0m)\n",
      "\n",
      "===========================================================\n"
     ]
    },
    {
     "name": "stderr",
     "output_type": "stream",
     "text": [
      "Train epoch 9: 100%|██████████| 425/425 [04:07<00:00,  1.72it/s, PPYoloELoss/loss=2.1, PPYoloELoss/loss_cls=1.02, PPYoloELoss/loss_dfl=0.609, PPYoloELoss/loss_iou=0.472, gpu_mem=6.78]\n",
      "Validating epoch 9: 100%|██████████| 71/71 [00:25<00:00,  2.73it/s]\n"
     ]
    },
    {
     "name": "stdout",
     "output_type": "stream",
     "text": [
      "===========================================================\n",
      "SUMMARY OF EPOCH 9\n",
      "├── Train\n",
      "│   ├── Ppyoloeloss/loss_cls = 1.0203\n",
      "│   │   ├── Epoch N-1      = 1.0236 (\u001b[32m↘ -0.0034\u001b[0m)\n",
      "│   │   └── Best until now = 1.0236 (\u001b[32m↘ -0.0034\u001b[0m)\n",
      "│   ├── Ppyoloeloss/loss_iou = 0.4716\n",
      "│   │   ├── Epoch N-1      = 0.4783 (\u001b[32m↘ -0.0068\u001b[0m)\n",
      "│   │   └── Best until now = 0.4783 (\u001b[32m↘ -0.0068\u001b[0m)\n",
      "│   ├── Ppyoloeloss/loss_dfl = 0.6094\n",
      "│   │   ├── Epoch N-1      = 0.6131 (\u001b[32m↘ -0.0037\u001b[0m)\n",
      "│   │   └── Best until now = 0.6131 (\u001b[32m↘ -0.0037\u001b[0m)\n",
      "│   └── Ppyoloeloss/loss = 2.1012\n",
      "│       ├── Epoch N-1      = 2.1151 (\u001b[32m↘ -0.0138\u001b[0m)\n",
      "│       └── Best until now = 2.1151 (\u001b[32m↘ -0.0138\u001b[0m)\n",
      "└── Validation\n",
      "    ├── Ppyoloeloss/loss_cls = 0.9418\n",
      "    │   ├── Epoch N-1      = 1.0426 (\u001b[32m↘ -0.1008\u001b[0m)\n",
      "    │   └── Best until now = 0.9042 (\u001b[31m↗ 0.0376\u001b[0m)\n",
      "    ├── Ppyoloeloss/loss_iou = 0.3487\n",
      "    │   ├── Epoch N-1      = 0.3626 (\u001b[32m↘ -0.0139\u001b[0m)\n",
      "    │   └── Best until now = 0.3626 (\u001b[32m↘ -0.0139\u001b[0m)\n",
      "    ├── Ppyoloeloss/loss_dfl = 0.4932\n",
      "    │   ├── Epoch N-1      = 0.5021 (\u001b[32m↘ -0.0089\u001b[0m)\n",
      "    │   └── Best until now = 0.4953 (\u001b[32m↘ -0.0021\u001b[0m)\n",
      "    ├── Ppyoloeloss/loss = 1.7837\n",
      "    │   ├── Epoch N-1      = 1.9073 (\u001b[32m↘ -0.1236\u001b[0m)\n",
      "    │   └── Best until now = 1.7719 (\u001b[31m↗ 0.0118\u001b[0m)\n",
      "    ├── Precision@0.50 = 0.0266\n",
      "    │   ├── Epoch N-1      = 0.0167 (\u001b[32m↗ 0.0099\u001b[0m)\n",
      "    │   └── Best until now = 0.1694 (\u001b[31m↘ -0.1427\u001b[0m)\n",
      "    ├── Recall@0.50 = 0.9533\n",
      "    │   ├── Epoch N-1      = 0.9562 (\u001b[31m↘ -0.0029\u001b[0m)\n",
      "    │   └── Best until now = 0.964  (\u001b[31m↘ -0.0107\u001b[0m)\n",
      "    ├── Map@0.50 = 0.7858\n",
      "    │   ├── Epoch N-1      = 0.7776 (\u001b[32m↗ 0.0082\u001b[0m)\n",
      "    │   └── Best until now = 0.8207 (\u001b[31m↘ -0.0349\u001b[0m)\n",
      "    ├── F1@0.50 = 0.0518\n",
      "    │   ├── Epoch N-1      = 0.0329 (\u001b[32m↗ 0.019\u001b[0m)\n",
      "    │   └── Best until now = 0.2789 (\u001b[31m↘ -0.2271\u001b[0m)\n",
      "    └── Best_score_threshold = 0.51\n",
      "        ├── Epoch N-1      = 0.58   (↘ -0.07\u001b[0m)\n",
      "        └── Best until now = 0.28   (↗ 0.23\u001b[0m)\n",
      "\n",
      "===========================================================\n"
     ]
    },
    {
     "name": "stderr",
     "output_type": "stream",
     "text": [
      "Train epoch 10: 100%|██████████| 425/425 [04:07<00:00,  1.72it/s, PPYoloELoss/loss=2.08, PPYoloELoss/loss_cls=1.01, PPYoloELoss/loss_dfl=0.603, PPYoloELoss/loss_iou=0.463, gpu_mem=6.78]\n",
      "Validating epoch 10: 100%|██████████| 71/71 [00:26<00:00,  2.73it/s]\n"
     ]
    },
    {
     "name": "stdout",
     "output_type": "stream",
     "text": [
      "===========================================================\n",
      "SUMMARY OF EPOCH 10\n",
      "├── Train\n",
      "│   ├── Ppyoloeloss/loss_cls = 1.0107\n",
      "│   │   ├── Epoch N-1      = 1.0203 (\u001b[32m↘ -0.0096\u001b[0m)\n",
      "│   │   └── Best until now = 1.0203 (\u001b[32m↘ -0.0096\u001b[0m)\n",
      "│   ├── Ppyoloeloss/loss_iou = 0.463\n",
      "│   │   ├── Epoch N-1      = 0.4716 (\u001b[32m↘ -0.0086\u001b[0m)\n",
      "│   │   └── Best until now = 0.4716 (\u001b[32m↘ -0.0086\u001b[0m)\n",
      "│   ├── Ppyoloeloss/loss_dfl = 0.6031\n",
      "│   │   ├── Epoch N-1      = 0.6094 (\u001b[32m↘ -0.0063\u001b[0m)\n",
      "│   │   └── Best until now = 0.6094 (\u001b[32m↘ -0.0063\u001b[0m)\n",
      "│   └── Ppyoloeloss/loss = 2.0768\n",
      "│       ├── Epoch N-1      = 2.1012 (\u001b[32m↘ -0.0245\u001b[0m)\n",
      "│       └── Best until now = 2.1012 (\u001b[32m↘ -0.0245\u001b[0m)\n",
      "└── Validation\n",
      "    ├── Ppyoloeloss/loss_cls = 1.0561\n",
      "    │   ├── Epoch N-1      = 0.9418 (\u001b[31m↗ 0.1143\u001b[0m)\n",
      "    │   └── Best until now = 0.9042 (\u001b[31m↗ 0.1519\u001b[0m)\n",
      "    ├── Ppyoloeloss/loss_iou = 0.3615\n",
      "    │   ├── Epoch N-1      = 0.3487 (\u001b[31m↗ 0.0128\u001b[0m)\n",
      "    │   └── Best until now = 0.3487 (\u001b[31m↗ 0.0128\u001b[0m)\n",
      "    ├── Ppyoloeloss/loss_dfl = 0.5148\n",
      "    │   ├── Epoch N-1      = 0.4932 (\u001b[31m↗ 0.0216\u001b[0m)\n",
      "    │   └── Best until now = 0.4932 (\u001b[31m↗ 0.0216\u001b[0m)\n",
      "    ├── Ppyoloeloss/loss = 1.9324\n",
      "    │   ├── Epoch N-1      = 1.7837 (\u001b[31m↗ 0.1487\u001b[0m)\n",
      "    │   └── Best until now = 1.7719 (\u001b[31m↗ 0.1605\u001b[0m)\n",
      "    ├── Precision@0.50 = 0.0184\n",
      "    │   ├── Epoch N-1      = 0.0266 (\u001b[31m↘ -0.0083\u001b[0m)\n",
      "    │   └── Best until now = 0.1694 (\u001b[31m↘ -0.151\u001b[0m)\n",
      "    ├── Recall@0.50 = 0.9601\n",
      "    │   ├── Epoch N-1      = 0.9533 (\u001b[32m↗ 0.0068\u001b[0m)\n",
      "    │   └── Best until now = 0.964  (\u001b[31m↘ -0.0039\u001b[0m)\n",
      "    ├── Map@0.50 = 0.7478\n",
      "    │   ├── Epoch N-1      = 0.7858 (\u001b[31m↘ -0.038\u001b[0m)\n",
      "    │   └── Best until now = 0.8207 (\u001b[31m↘ -0.0729\u001b[0m)\n",
      "    ├── F1@0.50 = 0.036\n",
      "    │   ├── Epoch N-1      = 0.0518 (\u001b[31m↘ -0.0158\u001b[0m)\n",
      "    │   └── Best until now = 0.2789 (\u001b[31m↘ -0.2429\u001b[0m)\n",
      "    └── Best_score_threshold = 0.55\n",
      "        ├── Epoch N-1      = 0.51   (↗ 0.04\u001b[0m)\n",
      "        └── Best until now = 0.28   (↗ 0.27\u001b[0m)\n",
      "\n",
      "===========================================================\n"
     ]
    },
    {
     "name": "stderr",
     "output_type": "stream",
     "text": [
      "Train epoch 11: 100%|██████████| 425/425 [04:07<00:00,  1.72it/s, PPYoloELoss/loss=2.05, PPYoloELoss/loss_cls=1, PPYoloELoss/loss_dfl=0.595, PPYoloELoss/loss_iou=0.46, gpu_mem=6.71]\n",
      "Validating epoch 11: 100%|██████████| 71/71 [00:26<00:00,  2.72it/s]\n"
     ]
    },
    {
     "name": "stdout",
     "output_type": "stream",
     "text": [
      "===========================================================\n",
      "SUMMARY OF EPOCH 11\n",
      "├── Train\n",
      "│   ├── Ppyoloeloss/loss_cls = 1.0002\n",
      "│   │   ├── Epoch N-1      = 1.0107 (\u001b[32m↘ -0.0105\u001b[0m)\n",
      "│   │   └── Best until now = 1.0107 (\u001b[32m↘ -0.0105\u001b[0m)\n",
      "│   ├── Ppyoloeloss/loss_iou = 0.4597\n",
      "│   │   ├── Epoch N-1      = 0.463  (\u001b[32m↘ -0.0033\u001b[0m)\n",
      "│   │   └── Best until now = 0.463  (\u001b[32m↘ -0.0033\u001b[0m)\n",
      "│   ├── Ppyoloeloss/loss_dfl = 0.595\n",
      "│   │   ├── Epoch N-1      = 0.6031 (\u001b[32m↘ -0.0081\u001b[0m)\n",
      "│   │   └── Best until now = 0.6031 (\u001b[32m↘ -0.0081\u001b[0m)\n",
      "│   └── Ppyoloeloss/loss = 2.0549\n",
      "│       ├── Epoch N-1      = 2.0768 (\u001b[32m↘ -0.0219\u001b[0m)\n",
      "│       └── Best until now = 2.0768 (\u001b[32m↘ -0.0219\u001b[0m)\n",
      "└── Validation\n",
      "    ├── Ppyoloeloss/loss_cls = 0.902\n",
      "    │   ├── Epoch N-1      = 1.0561 (\u001b[32m↘ -0.154\u001b[0m)\n",
      "    │   └── Best until now = 0.9042 (\u001b[32m↘ -0.0022\u001b[0m)\n",
      "    ├── Ppyoloeloss/loss_iou = 0.3396\n",
      "    │   ├── Epoch N-1      = 0.3615 (\u001b[32m↘ -0.0219\u001b[0m)\n",
      "    │   └── Best until now = 0.3487 (\u001b[32m↘ -0.0091\u001b[0m)\n",
      "    ├── Ppyoloeloss/loss_dfl = 0.4868\n",
      "    │   ├── Epoch N-1      = 0.5148 (\u001b[32m↘ -0.0281\u001b[0m)\n",
      "    │   └── Best until now = 0.4932 (\u001b[32m↘ -0.0064\u001b[0m)\n",
      "    ├── Ppyoloeloss/loss = 1.7284\n",
      "    │   ├── Epoch N-1      = 1.9324 (\u001b[32m↘ -0.204\u001b[0m)\n",
      "    │   └── Best until now = 1.7719 (\u001b[32m↘ -0.0435\u001b[0m)\n",
      "    ├── Precision@0.50 = 0.0273\n",
      "    │   ├── Epoch N-1      = 0.0184 (\u001b[32m↗ 0.0089\u001b[0m)\n",
      "    │   └── Best until now = 0.1694 (\u001b[31m↘ -0.1421\u001b[0m)\n",
      "    ├── Recall@0.50 = 0.9581\n",
      "    │   ├── Epoch N-1      = 0.9601 (\u001b[31m↘ -0.0019\u001b[0m)\n",
      "    │   └── Best until now = 0.964  (\u001b[31m↘ -0.0058\u001b[0m)\n",
      "    ├── Map@0.50 = 0.8074\n",
      "    │   ├── Epoch N-1      = 0.7478 (\u001b[32m↗ 0.0596\u001b[0m)\n",
      "    │   └── Best until now = 0.8207 (\u001b[31m↘ -0.0134\u001b[0m)\n",
      "    ├── F1@0.50 = 0.053\n",
      "    │   ├── Epoch N-1      = 0.036  (\u001b[32m↗ 0.017\u001b[0m)\n",
      "    │   └── Best until now = 0.2789 (\u001b[31m↘ -0.2259\u001b[0m)\n",
      "    └── Best_score_threshold = 0.52\n",
      "        ├── Epoch N-1      = 0.55   (↘ -0.03\u001b[0m)\n",
      "        └── Best until now = 0.28   (↗ 0.24\u001b[0m)\n",
      "\n",
      "===========================================================\n"
     ]
    },
    {
     "name": "stderr",
     "output_type": "stream",
     "text": [
      "Train epoch 12: 100%|██████████| 425/425 [04:08<00:00,  1.71it/s, PPYoloELoss/loss=2.04, PPYoloELoss/loss_cls=0.989, PPYoloELoss/loss_dfl=0.594, PPYoloELoss/loss_iou=0.456, gpu_mem=6.76]\n",
      "Validating epoch 12: 100%|██████████| 71/71 [00:26<00:00,  2.72it/s]\n"
     ]
    },
    {
     "name": "stdout",
     "output_type": "stream",
     "text": [
      "===========================================================\n",
      "SUMMARY OF EPOCH 12\n",
      "├── Train\n",
      "│   ├── Ppyoloeloss/loss_cls = 0.9887\n",
      "│   │   ├── Epoch N-1      = 1.0002 (\u001b[32m↘ -0.0116\u001b[0m)\n",
      "│   │   └── Best until now = 1.0002 (\u001b[32m↘ -0.0116\u001b[0m)\n",
      "│   ├── Ppyoloeloss/loss_iou = 0.4559\n",
      "│   │   ├── Epoch N-1      = 0.4597 (\u001b[32m↘ -0.0038\u001b[0m)\n",
      "│   │   └── Best until now = 0.4597 (\u001b[32m↘ -0.0038\u001b[0m)\n",
      "│   ├── Ppyoloeloss/loss_dfl = 0.594\n",
      "│   │   ├── Epoch N-1      = 0.595  (\u001b[32m↘ -0.001\u001b[0m)\n",
      "│   │   └── Best until now = 0.595  (\u001b[32m↘ -0.001\u001b[0m)\n",
      "│   └── Ppyoloeloss/loss = 2.0386\n",
      "│       ├── Epoch N-1      = 2.0549 (\u001b[32m↘ -0.0163\u001b[0m)\n",
      "│       └── Best until now = 2.0549 (\u001b[32m↘ -0.0163\u001b[0m)\n",
      "└── Validation\n",
      "    ├── Ppyoloeloss/loss_cls = 0.9268\n",
      "    │   ├── Epoch N-1      = 0.902  (\u001b[31m↗ 0.0248\u001b[0m)\n",
      "    │   └── Best until now = 0.902  (\u001b[31m↗ 0.0248\u001b[0m)\n",
      "    ├── Ppyoloeloss/loss_iou = 0.3527\n",
      "    │   ├── Epoch N-1      = 0.3396 (\u001b[31m↗ 0.0131\u001b[0m)\n",
      "    │   └── Best until now = 0.3396 (\u001b[31m↗ 0.0131\u001b[0m)\n",
      "    ├── Ppyoloeloss/loss_dfl = 0.5009\n",
      "    │   ├── Epoch N-1      = 0.4868 (\u001b[31m↗ 0.0141\u001b[0m)\n",
      "    │   └── Best until now = 0.4868 (\u001b[31m↗ 0.0141\u001b[0m)\n",
      "    ├── Ppyoloeloss/loss = 1.7804\n",
      "    │   ├── Epoch N-1      = 1.7284 (\u001b[31m↗ 0.052\u001b[0m)\n",
      "    │   └── Best until now = 1.7284 (\u001b[31m↗ 0.052\u001b[0m)\n",
      "    ├── Precision@0.50 = 0.0255\n",
      "    │   ├── Epoch N-1      = 0.0273 (\u001b[31m↘ -0.0018\u001b[0m)\n",
      "    │   └── Best until now = 0.1694 (\u001b[31m↘ -0.1439\u001b[0m)\n",
      "    ├── Recall@0.50 = 0.9572\n",
      "    │   ├── Epoch N-1      = 0.9581 (\u001b[31m↘ -0.001\u001b[0m)\n",
      "    │   └── Best until now = 0.964  (\u001b[31m↘ -0.0068\u001b[0m)\n",
      "    ├── Map@0.50 = 0.8088\n",
      "    │   ├── Epoch N-1      = 0.8074 (\u001b[32m↗ 0.0014\u001b[0m)\n",
      "    │   └── Best until now = 0.8207 (\u001b[31m↘ -0.012\u001b[0m)\n",
      "    ├── F1@0.50 = 0.0497\n",
      "    │   ├── Epoch N-1      = 0.053  (\u001b[31m↘ -0.0034\u001b[0m)\n",
      "    │   └── Best until now = 0.2789 (\u001b[31m↘ -0.2293\u001b[0m)\n",
      "    └── Best_score_threshold = 0.5\n",
      "        ├── Epoch N-1      = 0.52   (↘ -0.02\u001b[0m)\n",
      "        └── Best until now = 0.28   (↗ 0.22\u001b[0m)\n",
      "\n",
      "===========================================================\n"
     ]
    },
    {
     "name": "stderr",
     "output_type": "stream",
     "text": [
      "Train epoch 13: 100%|██████████| 425/425 [04:07<00:00,  1.71it/s, PPYoloELoss/loss=2, PPYoloELoss/loss_cls=0.973, PPYoloELoss/loss_dfl=0.584, PPYoloELoss/loss_iou=0.446, gpu_mem=6.72]\n",
      "Validating epoch 13: 100%|██████████| 71/71 [00:26<00:00,  2.72it/s]\n",
      "[2024-09-23 17:15:54] INFO - base_sg_logger.py - Checkpoint saved in /kaggle/working/checkpoints/military_aircraft/RUN_20240923_160839_191420/ckpt_best.pth\n",
      "[2024-09-23 17:15:54] INFO - sg_trainer.py - Best checkpoint overriden: validation mAP@0.50: 0.8435973525047302\n"
     ]
    },
    {
     "name": "stdout",
     "output_type": "stream",
     "text": [
      "===========================================================\n",
      "SUMMARY OF EPOCH 13\n",
      "├── Train\n",
      "│   ├── Ppyoloeloss/loss_cls = 0.9726\n",
      "│   │   ├── Epoch N-1      = 0.9887 (\u001b[32m↘ -0.0161\u001b[0m)\n",
      "│   │   └── Best until now = 0.9887 (\u001b[32m↘ -0.0161\u001b[0m)\n",
      "│   ├── Ppyoloeloss/loss_iou = 0.4458\n",
      "│   │   ├── Epoch N-1      = 0.4559 (\u001b[32m↘ -0.0101\u001b[0m)\n",
      "│   │   └── Best until now = 0.4559 (\u001b[32m↘ -0.0101\u001b[0m)\n",
      "│   ├── Ppyoloeloss/loss_dfl = 0.5841\n",
      "│   │   ├── Epoch N-1      = 0.594  (\u001b[32m↘ -0.01\u001b[0m)\n",
      "│   │   └── Best until now = 0.594  (\u001b[32m↘ -0.01\u001b[0m)\n",
      "│   └── Ppyoloeloss/loss = 2.0024\n",
      "│       ├── Epoch N-1      = 2.0386 (\u001b[32m↘ -0.0362\u001b[0m)\n",
      "│       └── Best until now = 2.0386 (\u001b[32m↘ -0.0362\u001b[0m)\n",
      "└── Validation\n",
      "    ├── Ppyoloeloss/loss_cls = 0.8523\n",
      "    │   ├── Epoch N-1      = 0.9268 (\u001b[32m↘ -0.0745\u001b[0m)\n",
      "    │   └── Best until now = 0.902  (\u001b[32m↘ -0.0497\u001b[0m)\n",
      "    ├── Ppyoloeloss/loss_iou = 0.3288\n",
      "    │   ├── Epoch N-1      = 0.3527 (\u001b[32m↘ -0.024\u001b[0m)\n",
      "    │   └── Best until now = 0.3396 (\u001b[32m↘ -0.0109\u001b[0m)\n",
      "    ├── Ppyoloeloss/loss_dfl = 0.4701\n",
      "    │   ├── Epoch N-1      = 0.5009 (\u001b[32m↘ -0.0308\u001b[0m)\n",
      "    │   └── Best until now = 0.4868 (\u001b[32m↘ -0.0167\u001b[0m)\n",
      "    ├── Ppyoloeloss/loss = 1.6512\n",
      "    │   ├── Epoch N-1      = 1.7804 (\u001b[32m↘ -0.1293\u001b[0m)\n",
      "    │   └── Best until now = 1.7284 (\u001b[32m↘ -0.0773\u001b[0m)\n",
      "    ├── Precision@0.50 = 0.0361\n",
      "    │   ├── Epoch N-1      = 0.0255 (\u001b[32m↗ 0.0106\u001b[0m)\n",
      "    │   └── Best until now = 0.1694 (\u001b[31m↘ -0.1333\u001b[0m)\n",
      "    ├── Recall@0.50 = 0.9669\n",
      "    │   ├── Epoch N-1      = 0.9572 (\u001b[32m↗ 0.0097\u001b[0m)\n",
      "    │   └── Best until now = 0.964  (\u001b[32m↗ 0.0029\u001b[0m)\n",
      "    ├── Map@0.50 = 0.8436\n",
      "    │   ├── Epoch N-1      = 0.8088 (\u001b[32m↗ 0.0348\u001b[0m)\n",
      "    │   └── Best until now = 0.8207 (\u001b[32m↗ 0.0229\u001b[0m)\n",
      "    ├── F1@0.50 = 0.0695\n",
      "    │   ├── Epoch N-1      = 0.0497 (\u001b[32m↗ 0.0199\u001b[0m)\n",
      "    │   └── Best until now = 0.2789 (\u001b[31m↘ -0.2094\u001b[0m)\n",
      "    └── Best_score_threshold = 0.53\n",
      "        ├── Epoch N-1      = 0.5    (↗ 0.03\u001b[0m)\n",
      "        └── Best until now = 0.28   (↗ 0.25\u001b[0m)\n",
      "\n",
      "===========================================================\n"
     ]
    },
    {
     "name": "stderr",
     "output_type": "stream",
     "text": [
      "Train epoch 14: 100%|██████████| 425/425 [04:07<00:00,  1.71it/s, PPYoloELoss/loss=1.99, PPYoloELoss/loss_cls=0.975, PPYoloELoss/loss_dfl=0.577, PPYoloELoss/loss_iou=0.439, gpu_mem=6.78]\n",
      "Validating epoch 14: 100%|██████████| 71/71 [00:26<00:00,  2.72it/s]\n",
      "[2024-09-23 17:20:46] INFO - base_sg_logger.py - Checkpoint saved in /kaggle/working/checkpoints/military_aircraft/RUN_20240923_160839_191420/ckpt_best.pth\n",
      "[2024-09-23 17:20:46] INFO - sg_trainer.py - Best checkpoint overriden: validation mAP@0.50: 0.8469260334968567\n"
     ]
    },
    {
     "name": "stdout",
     "output_type": "stream",
     "text": [
      "===========================================================\n",
      "SUMMARY OF EPOCH 14\n",
      "├── Train\n",
      "│   ├── Ppyoloeloss/loss_cls = 0.9752\n",
      "│   │   ├── Epoch N-1      = 0.9726 (\u001b[31m↗ 0.0026\u001b[0m)\n",
      "│   │   └── Best until now = 0.9726 (\u001b[31m↗ 0.0026\u001b[0m)\n",
      "│   ├── Ppyoloeloss/loss_iou = 0.4393\n",
      "│   │   ├── Epoch N-1      = 0.4458 (\u001b[32m↘ -0.0065\u001b[0m)\n",
      "│   │   └── Best until now = 0.4458 (\u001b[32m↘ -0.0065\u001b[0m)\n",
      "│   ├── Ppyoloeloss/loss_dfl = 0.5771\n",
      "│   │   ├── Epoch N-1      = 0.5841 (\u001b[32m↘ -0.007\u001b[0m)\n",
      "│   │   └── Best until now = 0.5841 (\u001b[32m↘ -0.007\u001b[0m)\n",
      "│   └── Ppyoloeloss/loss = 1.9916\n",
      "│       ├── Epoch N-1      = 2.0024 (\u001b[32m↘ -0.0109\u001b[0m)\n",
      "│       └── Best until now = 2.0024 (\u001b[32m↘ -0.0109\u001b[0m)\n",
      "└── Validation\n",
      "    ├── Ppyoloeloss/loss_cls = 0.9049\n",
      "    │   ├── Epoch N-1      = 0.8523 (\u001b[31m↗ 0.0526\u001b[0m)\n",
      "    │   └── Best until now = 0.8523 (\u001b[31m↗ 0.0526\u001b[0m)\n",
      "    ├── Ppyoloeloss/loss_iou = 0.3278\n",
      "    │   ├── Epoch N-1      = 0.3288 (\u001b[32m↘ -0.0009\u001b[0m)\n",
      "    │   └── Best until now = 0.3288 (\u001b[32m↘ -0.0009\u001b[0m)\n",
      "    ├── Ppyoloeloss/loss_dfl = 0.4723\n",
      "    │   ├── Epoch N-1      = 0.4701 (\u001b[31m↗ 0.0022\u001b[0m)\n",
      "    │   └── Best until now = 0.4701 (\u001b[31m↗ 0.0022\u001b[0m)\n",
      "    ├── Ppyoloeloss/loss = 1.705\n",
      "    │   ├── Epoch N-1      = 1.6512 (\u001b[31m↗ 0.0539\u001b[0m)\n",
      "    │   └── Best until now = 1.6512 (\u001b[31m↗ 0.0539\u001b[0m)\n",
      "    ├── Precision@0.50 = 0.0269\n",
      "    │   ├── Epoch N-1      = 0.0361 (\u001b[31m↘ -0.0091\u001b[0m)\n",
      "    │   └── Best until now = 0.1694 (\u001b[31m↘ -0.1425\u001b[0m)\n",
      "    ├── Recall@0.50 = 0.9708\n",
      "    │   ├── Epoch N-1      = 0.9669 (\u001b[32m↗ 0.0039\u001b[0m)\n",
      "    │   └── Best until now = 0.9669 (\u001b[32m↗ 0.0039\u001b[0m)\n",
      "    ├── Map@0.50 = 0.8469\n",
      "    │   ├── Epoch N-1      = 0.8436 (\u001b[32m↗ 0.0033\u001b[0m)\n",
      "    │   └── Best until now = 0.8436 (\u001b[32m↗ 0.0033\u001b[0m)\n",
      "    ├── F1@0.50 = 0.0524\n",
      "    │   ├── Epoch N-1      = 0.0695 (\u001b[31m↘ -0.0172\u001b[0m)\n",
      "    │   └── Best until now = 0.2789 (\u001b[31m↘ -0.2266\u001b[0m)\n",
      "    └── Best_score_threshold = 0.54\n",
      "        ├── Epoch N-1      = 0.53   (↗ 0.01\u001b[0m)\n",
      "        └── Best until now = 0.28   (↗ 0.26\u001b[0m)\n",
      "\n",
      "===========================================================\n"
     ]
    },
    {
     "name": "stderr",
     "output_type": "stream",
     "text": [
      "Train epoch 15: 100%|██████████| 425/425 [04:07<00:00,  1.71it/s, PPYoloELoss/loss=1.97, PPYoloELoss/loss_cls=0.967, PPYoloELoss/loss_dfl=0.574, PPYoloELoss/loss_iou=0.431, gpu_mem=6.92]\n",
      "Validating epoch 15: 100%|██████████| 71/71 [00:26<00:00,  2.72it/s]\n",
      "[2024-09-23 17:25:39] INFO - base_sg_logger.py - Checkpoint saved in /kaggle/working/checkpoints/military_aircraft/RUN_20240923_160839_191420/ckpt_best.pth\n",
      "[2024-09-23 17:25:39] INFO - sg_trainer.py - Best checkpoint overriden: validation mAP@0.50: 0.8514691591262817\n"
     ]
    },
    {
     "name": "stdout",
     "output_type": "stream",
     "text": [
      "===========================================================\n",
      "SUMMARY OF EPOCH 15\n",
      "├── Train\n",
      "│   ├── Ppyoloeloss/loss_cls = 0.9668\n",
      "│   │   ├── Epoch N-1      = 0.9752 (\u001b[32m↘ -0.0084\u001b[0m)\n",
      "│   │   └── Best until now = 0.9726 (\u001b[32m↘ -0.0058\u001b[0m)\n",
      "│   ├── Ppyoloeloss/loss_iou = 0.4312\n",
      "│   │   ├── Epoch N-1      = 0.4393 (\u001b[32m↘ -0.0081\u001b[0m)\n",
      "│   │   └── Best until now = 0.4393 (\u001b[32m↘ -0.0081\u001b[0m)\n",
      "│   ├── Ppyoloeloss/loss_dfl = 0.5737\n",
      "│   │   ├── Epoch N-1      = 0.5771 (\u001b[32m↘ -0.0034\u001b[0m)\n",
      "│   │   └── Best until now = 0.5771 (\u001b[32m↘ -0.0034\u001b[0m)\n",
      "│   └── Ppyoloeloss/loss = 1.9717\n",
      "│       ├── Epoch N-1      = 1.9916 (\u001b[32m↘ -0.0199\u001b[0m)\n",
      "│       └── Best until now = 1.9916 (\u001b[32m↘ -0.0199\u001b[0m)\n",
      "└── Validation\n",
      "    ├── Ppyoloeloss/loss_cls = 0.8604\n",
      "    │   ├── Epoch N-1      = 0.9049 (\u001b[32m↘ -0.0446\u001b[0m)\n",
      "    │   └── Best until now = 0.8523 (\u001b[31m↗ 0.008\u001b[0m)\n",
      "    ├── Ppyoloeloss/loss_iou = 0.3404\n",
      "    │   ├── Epoch N-1      = 0.3278 (\u001b[31m↗ 0.0126\u001b[0m)\n",
      "    │   └── Best until now = 0.3278 (\u001b[31m↗ 0.0126\u001b[0m)\n",
      "    ├── Ppyoloeloss/loss_dfl = 0.4756\n",
      "    │   ├── Epoch N-1      = 0.4723 (\u001b[31m↗ 0.0033\u001b[0m)\n",
      "    │   └── Best until now = 0.4701 (\u001b[31m↗ 0.0055\u001b[0m)\n",
      "    ├── Ppyoloeloss/loss = 1.6763\n",
      "    │   ├── Epoch N-1      = 1.705  (\u001b[32m↘ -0.0287\u001b[0m)\n",
      "    │   └── Best until now = 1.6512 (\u001b[31m↗ 0.0252\u001b[0m)\n",
      "    ├── Precision@0.50 = 0.0322\n",
      "    │   ├── Epoch N-1      = 0.0269 (\u001b[32m↗ 0.0053\u001b[0m)\n",
      "    │   └── Best until now = 0.1694 (\u001b[31m↘ -0.1371\u001b[0m)\n",
      "    ├── Recall@0.50 = 0.962\n",
      "    │   ├── Epoch N-1      = 0.9708 (\u001b[31m↘ -0.0088\u001b[0m)\n",
      "    │   └── Best until now = 0.9708 (\u001b[31m↘ -0.0088\u001b[0m)\n",
      "    ├── Map@0.50 = 0.8515\n",
      "    │   ├── Epoch N-1      = 0.8469 (\u001b[32m↗ 0.0045\u001b[0m)\n",
      "    │   └── Best until now = 0.8469 (\u001b[32m↗ 0.0045\u001b[0m)\n",
      "    ├── F1@0.50 = 0.0624\n",
      "    │   ├── Epoch N-1      = 0.0524 (\u001b[32m↗ 0.01\u001b[0m)\n",
      "    │   └── Best until now = 0.2789 (\u001b[31m↘ -0.2166\u001b[0m)\n",
      "    └── Best_score_threshold = 0.55\n",
      "        ├── Epoch N-1      = 0.54   (↗ 0.01\u001b[0m)\n",
      "        └── Best until now = 0.28   (↗ 0.27\u001b[0m)\n",
      "\n",
      "===========================================================\n"
     ]
    },
    {
     "name": "stderr",
     "output_type": "stream",
     "text": [
      "Train epoch 16: 100%|██████████| 425/425 [04:08<00:00,  1.71it/s, PPYoloELoss/loss=1.94, PPYoloELoss/loss_cls=0.948, PPYoloELoss/loss_dfl=0.563, PPYoloELoss/loss_iou=0.426, gpu_mem=6.71]\n",
      "Validating epoch 16: 100%|██████████| 71/71 [00:26<00:00,  2.71it/s]\n",
      "[2024-09-23 17:30:27] INFO - base_sg_logger.py - Checkpoint saved in /kaggle/working/checkpoints/military_aircraft/RUN_20240923_160839_191420/ckpt_best.pth\n",
      "[2024-09-23 17:30:27] INFO - sg_trainer.py - Best checkpoint overriden: validation mAP@0.50: 0.860864520072937\n"
     ]
    },
    {
     "name": "stdout",
     "output_type": "stream",
     "text": [
      "===========================================================\n",
      "SUMMARY OF EPOCH 16\n",
      "├── Train\n",
      "│   ├── Ppyoloeloss/loss_cls = 0.948\n",
      "│   │   ├── Epoch N-1      = 0.9668 (\u001b[32m↘ -0.0189\u001b[0m)\n",
      "│   │   └── Best until now = 0.9668 (\u001b[32m↘ -0.0189\u001b[0m)\n",
      "│   ├── Ppyoloeloss/loss_iou = 0.4263\n",
      "│   │   ├── Epoch N-1      = 0.4312 (\u001b[32m↘ -0.0049\u001b[0m)\n",
      "│   │   └── Best until now = 0.4312 (\u001b[32m↘ -0.0049\u001b[0m)\n",
      "│   ├── Ppyoloeloss/loss_dfl = 0.563\n",
      "│   │   ├── Epoch N-1      = 0.5737 (\u001b[32m↘ -0.0107\u001b[0m)\n",
      "│   │   └── Best until now = 0.5737 (\u001b[32m↘ -0.0107\u001b[0m)\n",
      "│   └── Ppyoloeloss/loss = 1.9373\n",
      "│       ├── Epoch N-1      = 1.9717 (\u001b[32m↘ -0.0345\u001b[0m)\n",
      "│       └── Best until now = 1.9717 (\u001b[32m↘ -0.0345\u001b[0m)\n",
      "└── Validation\n",
      "    ├── Ppyoloeloss/loss_cls = 0.8792\n",
      "    │   ├── Epoch N-1      = 0.8604 (\u001b[31m↗ 0.0188\u001b[0m)\n",
      "    │   └── Best until now = 0.8523 (\u001b[31m↗ 0.0269\u001b[0m)\n",
      "    ├── Ppyoloeloss/loss_iou = 0.314\n",
      "    │   ├── Epoch N-1      = 0.3404 (\u001b[32m↘ -0.0263\u001b[0m)\n",
      "    │   └── Best until now = 0.3278 (\u001b[32m↘ -0.0138\u001b[0m)\n",
      "    ├── Ppyoloeloss/loss_dfl = 0.4618\n",
      "    │   ├── Epoch N-1      = 0.4756 (\u001b[32m↘ -0.0138\u001b[0m)\n",
      "    │   └── Best until now = 0.4701 (\u001b[32m↘ -0.0083\u001b[0m)\n",
      "    ├── Ppyoloeloss/loss = 1.655\n",
      "    │   ├── Epoch N-1      = 1.6763 (\u001b[32m↘ -0.0213\u001b[0m)\n",
      "    │   └── Best until now = 1.6512 (\u001b[31m↗ 0.0038\u001b[0m)\n",
      "    ├── Precision@0.50 = 0.0225\n",
      "    │   ├── Epoch N-1      = 0.0322 (\u001b[31m↘ -0.0097\u001b[0m)\n",
      "    │   └── Best until now = 0.1694 (\u001b[31m↘ -0.1469\u001b[0m)\n",
      "    ├── Recall@0.50 = 0.9727\n",
      "    │   ├── Epoch N-1      = 0.962  (\u001b[32m↗ 0.0107\u001b[0m)\n",
      "    │   └── Best until now = 0.9708 (\u001b[32m↗ 0.0019\u001b[0m)\n",
      "    ├── Map@0.50 = 0.8609\n",
      "    │   ├── Epoch N-1      = 0.8515 (\u001b[32m↗ 0.0094\u001b[0m)\n",
      "    │   └── Best until now = 0.8515 (\u001b[32m↗ 0.0094\u001b[0m)\n",
      "    ├── F1@0.50 = 0.044\n",
      "    │   ├── Epoch N-1      = 0.0624 (\u001b[31m↘ -0.0184\u001b[0m)\n",
      "    │   └── Best until now = 0.2789 (\u001b[31m↘ -0.235\u001b[0m)\n",
      "    └── Best_score_threshold = 0.61\n",
      "        ├── Epoch N-1      = 0.55   (↗ 0.06\u001b[0m)\n",
      "        └── Best until now = 0.28   (↗ 0.33\u001b[0m)\n",
      "\n",
      "===========================================================\n"
     ]
    },
    {
     "name": "stderr",
     "output_type": "stream",
     "text": [
      "Train epoch 17: 100%|██████████| 425/425 [04:08<00:00,  1.71it/s, PPYoloELoss/loss=1.92, PPYoloELoss/loss_cls=0.935, PPYoloELoss/loss_dfl=0.56, PPYoloELoss/loss_iou=0.425, gpu_mem=6.78]\n",
      "Validating epoch 17: 100%|██████████| 71/71 [00:26<00:00,  2.71it/s]\n"
     ]
    },
    {
     "name": "stdout",
     "output_type": "stream",
     "text": [
      "===========================================================\n",
      "SUMMARY OF EPOCH 17\n",
      "├── Train\n",
      "│   ├── Ppyoloeloss/loss_cls = 0.9353\n",
      "│   │   ├── Epoch N-1      = 0.948  (\u001b[32m↘ -0.0126\u001b[0m)\n",
      "│   │   └── Best until now = 0.948  (\u001b[32m↘ -0.0126\u001b[0m)\n",
      "│   ├── Ppyoloeloss/loss_iou = 0.4247\n",
      "│   │   ├── Epoch N-1      = 0.4263 (\u001b[32m↘ -0.0016\u001b[0m)\n",
      "│   │   └── Best until now = 0.4263 (\u001b[32m↘ -0.0016\u001b[0m)\n",
      "│   ├── Ppyoloeloss/loss_dfl = 0.5602\n",
      "│   │   ├── Epoch N-1      = 0.563  (\u001b[32m↘ -0.0028\u001b[0m)\n",
      "│   │   └── Best until now = 0.563  (\u001b[32m↘ -0.0028\u001b[0m)\n",
      "│   └── Ppyoloeloss/loss = 1.9202\n",
      "│       ├── Epoch N-1      = 1.9373 (\u001b[32m↘ -0.017\u001b[0m)\n",
      "│       └── Best until now = 1.9373 (\u001b[32m↘ -0.017\u001b[0m)\n",
      "└── Validation\n",
      "    ├── Ppyoloeloss/loss_cls = 0.8735\n",
      "    │   ├── Epoch N-1      = 0.8792 (\u001b[32m↘ -0.0057\u001b[0m)\n",
      "    │   └── Best until now = 0.8523 (\u001b[31m↗ 0.0212\u001b[0m)\n",
      "    ├── Ppyoloeloss/loss_iou = 0.3186\n",
      "    │   ├── Epoch N-1      = 0.314  (\u001b[31m↗ 0.0046\u001b[0m)\n",
      "    │   └── Best until now = 0.314  (\u001b[31m↗ 0.0046\u001b[0m)\n",
      "    ├── Ppyoloeloss/loss_dfl = 0.4634\n",
      "    │   ├── Epoch N-1      = 0.4618 (\u001b[31m↗ 0.0016\u001b[0m)\n",
      "    │   └── Best until now = 0.4618 (\u001b[31m↗ 0.0016\u001b[0m)\n",
      "    ├── Ppyoloeloss/loss = 1.6555\n",
      "    │   ├── Epoch N-1      = 1.655  (\u001b[31m↗ 0.0005\u001b[0m)\n",
      "    │   └── Best until now = 1.6512 (\u001b[31m↗ 0.0044\u001b[0m)\n",
      "    ├── Precision@0.50 = 0.0289\n",
      "    │   ├── Epoch N-1      = 0.0225 (\u001b[32m↗ 0.0064\u001b[0m)\n",
      "    │   └── Best until now = 0.1694 (\u001b[31m↘ -0.1404\u001b[0m)\n",
      "    ├── Recall@0.50 = 0.9698\n",
      "    │   ├── Epoch N-1      = 0.9727 (\u001b[31m↘ -0.0029\u001b[0m)\n",
      "    │   └── Best until now = 0.9727 (\u001b[31m↘ -0.0029\u001b[0m)\n",
      "    ├── Map@0.50 = 0.8606\n",
      "    │   ├── Epoch N-1      = 0.8609 (\u001b[31m↘ -0.0002\u001b[0m)\n",
      "    │   └── Best until now = 0.8609 (\u001b[31m↘ -0.0002\u001b[0m)\n",
      "    ├── F1@0.50 = 0.0562\n",
      "    │   ├── Epoch N-1      = 0.044  (\u001b[32m↗ 0.0122\u001b[0m)\n",
      "    │   └── Best until now = 0.2789 (\u001b[31m↘ -0.2227\u001b[0m)\n",
      "    └── Best_score_threshold = 0.54\n",
      "        ├── Epoch N-1      = 0.61   (↘ -0.07\u001b[0m)\n",
      "        └── Best until now = 0.28   (↗ 0.26\u001b[0m)\n",
      "\n",
      "===========================================================\n"
     ]
    },
    {
     "name": "stderr",
     "output_type": "stream",
     "text": [
      "Train epoch 18: 100%|██████████| 425/425 [04:08<00:00,  1.71it/s, PPYoloELoss/loss=1.88, PPYoloELoss/loss_cls=0.916, PPYoloELoss/loss_dfl=0.549, PPYoloELoss/loss_iou=0.416, gpu_mem=6.72]\n",
      "Validating epoch 18: 100%|██████████| 71/71 [00:26<00:00,  2.71it/s]\n",
      "[2024-09-23 17:40:14] INFO - base_sg_logger.py - Checkpoint saved in /kaggle/working/checkpoints/military_aircraft/RUN_20240923_160839_191420/ckpt_best.pth\n",
      "[2024-09-23 17:40:14] INFO - sg_trainer.py - Best checkpoint overriden: validation mAP@0.50: 0.8927030563354492\n"
     ]
    },
    {
     "name": "stdout",
     "output_type": "stream",
     "text": [
      "===========================================================\n",
      "SUMMARY OF EPOCH 18\n",
      "├── Train\n",
      "│   ├── Ppyoloeloss/loss_cls = 0.9158\n",
      "│   │   ├── Epoch N-1      = 0.9353 (\u001b[32m↘ -0.0195\u001b[0m)\n",
      "│   │   └── Best until now = 0.9353 (\u001b[32m↘ -0.0195\u001b[0m)\n",
      "│   ├── Ppyoloeloss/loss_iou = 0.4156\n",
      "│   │   ├── Epoch N-1      = 0.4247 (\u001b[32m↘ -0.0091\u001b[0m)\n",
      "│   │   └── Best until now = 0.4247 (\u001b[32m↘ -0.0091\u001b[0m)\n",
      "│   ├── Ppyoloeloss/loss_dfl = 0.5494\n",
      "│   │   ├── Epoch N-1      = 0.5602 (\u001b[32m↘ -0.0108\u001b[0m)\n",
      "│   │   └── Best until now = 0.5602 (\u001b[32m↘ -0.0108\u001b[0m)\n",
      "│   └── Ppyoloeloss/loss = 1.8808\n",
      "│       ├── Epoch N-1      = 1.9202 (\u001b[32m↘ -0.0395\u001b[0m)\n",
      "│       └── Best until now = 1.9202 (\u001b[32m↘ -0.0395\u001b[0m)\n",
      "└── Validation\n",
      "    ├── Ppyoloeloss/loss_cls = 0.7885\n",
      "    │   ├── Epoch N-1      = 0.8735 (\u001b[32m↘ -0.085\u001b[0m)\n",
      "    │   └── Best until now = 0.8523 (\u001b[32m↘ -0.0638\u001b[0m)\n",
      "    ├── Ppyoloeloss/loss_iou = 0.3066\n",
      "    │   ├── Epoch N-1      = 0.3186 (\u001b[32m↘ -0.0121\u001b[0m)\n",
      "    │   └── Best until now = 0.314  (\u001b[32m↘ -0.0075\u001b[0m)\n",
      "    ├── Ppyoloeloss/loss_dfl = 0.4464\n",
      "    │   ├── Epoch N-1      = 0.4634 (\u001b[32m↘ -0.017\u001b[0m)\n",
      "    │   └── Best until now = 0.4618 (\u001b[32m↘ -0.0154\u001b[0m)\n",
      "    ├── Ppyoloeloss/loss = 1.5414\n",
      "    │   ├── Epoch N-1      = 1.6555 (\u001b[32m↘ -0.1141\u001b[0m)\n",
      "    │   └── Best until now = 1.6512 (\u001b[32m↘ -0.1097\u001b[0m)\n",
      "    ├── Precision@0.50 = 0.0422\n",
      "    │   ├── Epoch N-1      = 0.0289 (\u001b[32m↗ 0.0132\u001b[0m)\n",
      "    │   └── Best until now = 0.1694 (\u001b[31m↘ -0.1272\u001b[0m)\n",
      "    ├── Recall@0.50 = 0.9708\n",
      "    │   ├── Epoch N-1      = 0.9698 (\u001b[32m↗ 0.001\u001b[0m)\n",
      "    │   └── Best until now = 0.9727 (\u001b[31m↘ -0.0019\u001b[0m)\n",
      "    ├── Map@0.50 = 0.8927\n",
      "    │   ├── Epoch N-1      = 0.8606 (\u001b[32m↗ 0.0321\u001b[0m)\n",
      "    │   └── Best until now = 0.8609 (\u001b[32m↗ 0.0318\u001b[0m)\n",
      "    ├── F1@0.50 = 0.0808\n",
      "    │   ├── Epoch N-1      = 0.0562 (\u001b[32m↗ 0.0246\u001b[0m)\n",
      "    │   └── Best until now = 0.2789 (\u001b[31m↘ -0.1981\u001b[0m)\n",
      "    └── Best_score_threshold = 0.54\n",
      "        ├── Epoch N-1      = 0.54   (= 0.0\u001b[0m)\n",
      "        └── Best until now = 0.28   (↗ 0.26\u001b[0m)\n",
      "\n",
      "===========================================================\n"
     ]
    },
    {
     "name": "stderr",
     "output_type": "stream",
     "text": [
      "Train epoch 19: 100%|██████████| 425/425 [04:08<00:00,  1.71it/s, PPYoloELoss/loss=1.86, PPYoloELoss/loss_cls=0.909, PPYoloELoss/loss_dfl=0.545, PPYoloELoss/loss_iou=0.407, gpu_mem=6.78]\n",
      "Validating epoch 19: 100%|██████████| 71/71 [00:26<00:00,  2.72it/s]\n"
     ]
    },
    {
     "name": "stdout",
     "output_type": "stream",
     "text": [
      "===========================================================\n",
      "SUMMARY OF EPOCH 19\n",
      "├── Train\n",
      "│   ├── Ppyoloeloss/loss_cls = 0.9085\n",
      "│   │   ├── Epoch N-1      = 0.9158 (\u001b[32m↘ -0.0073\u001b[0m)\n",
      "│   │   └── Best until now = 0.9158 (\u001b[32m↘ -0.0073\u001b[0m)\n",
      "│   ├── Ppyoloeloss/loss_iou = 0.4073\n",
      "│   │   ├── Epoch N-1      = 0.4156 (\u001b[32m↘ -0.0083\u001b[0m)\n",
      "│   │   └── Best until now = 0.4156 (\u001b[32m↘ -0.0083\u001b[0m)\n",
      "│   ├── Ppyoloeloss/loss_dfl = 0.5451\n",
      "│   │   ├── Epoch N-1      = 0.5494 (\u001b[32m↘ -0.0043\u001b[0m)\n",
      "│   │   └── Best until now = 0.5494 (\u001b[32m↘ -0.0043\u001b[0m)\n",
      "│   └── Ppyoloeloss/loss = 1.8609\n",
      "│       ├── Epoch N-1      = 1.8808 (\u001b[32m↘ -0.0199\u001b[0m)\n",
      "│       └── Best until now = 1.8808 (\u001b[32m↘ -0.0199\u001b[0m)\n",
      "└── Validation\n",
      "    ├── Ppyoloeloss/loss_cls = 0.7954\n",
      "    │   ├── Epoch N-1      = 0.7885 (\u001b[31m↗ 0.007\u001b[0m)\n",
      "    │   └── Best until now = 0.7885 (\u001b[31m↗ 0.007\u001b[0m)\n",
      "    ├── Ppyoloeloss/loss_iou = 0.2812\n",
      "    │   ├── Epoch N-1      = 0.3066 (\u001b[32m↘ -0.0254\u001b[0m)\n",
      "    │   └── Best until now = 0.3066 (\u001b[32m↘ -0.0254\u001b[0m)\n",
      "    ├── Ppyoloeloss/loss_dfl = 0.4378\n",
      "    │   ├── Epoch N-1      = 0.4464 (\u001b[32m↘ -0.0086\u001b[0m)\n",
      "    │   └── Best until now = 0.4464 (\u001b[32m↘ -0.0086\u001b[0m)\n",
      "    ├── Ppyoloeloss/loss = 1.5144\n",
      "    │   ├── Epoch N-1      = 1.5414 (\u001b[32m↘ -0.027\u001b[0m)\n",
      "    │   └── Best until now = 1.5414 (\u001b[32m↘ -0.027\u001b[0m)\n",
      "    ├── Precision@0.50 = 0.0385\n",
      "    │   ├── Epoch N-1      = 0.0422 (\u001b[31m↘ -0.0037\u001b[0m)\n",
      "    │   └── Best until now = 0.1694 (\u001b[31m↘ -0.1309\u001b[0m)\n",
      "    ├── Recall@0.50 = 0.9659\n",
      "    │   ├── Epoch N-1      = 0.9708 (\u001b[31m↘ -0.0049\u001b[0m)\n",
      "    │   └── Best until now = 0.9727 (\u001b[31m↘ -0.0068\u001b[0m)\n",
      "    ├── Map@0.50 = 0.8891\n",
      "    │   ├── Epoch N-1      = 0.8927 (\u001b[31m↘ -0.0036\u001b[0m)\n",
      "    │   └── Best until now = 0.8927 (\u001b[31m↘ -0.0036\u001b[0m)\n",
      "    ├── F1@0.50 = 0.074\n",
      "    │   ├── Epoch N-1      = 0.0808 (\u001b[31m↘ -0.0068\u001b[0m)\n",
      "    │   └── Best until now = 0.2789 (\u001b[31m↘ -0.205\u001b[0m)\n",
      "    └── Best_score_threshold = 0.63\n",
      "        ├── Epoch N-1      = 0.54   (↗ 0.09\u001b[0m)\n",
      "        └── Best until now = 0.28   (↗ 0.35\u001b[0m)\n",
      "\n",
      "===========================================================\n"
     ]
    },
    {
     "name": "stderr",
     "output_type": "stream",
     "text": [
      "Train epoch 20: 100%|██████████| 425/425 [04:08<00:00,  1.71it/s, PPYoloELoss/loss=1.84, PPYoloELoss/loss_cls=0.897, PPYoloELoss/loss_dfl=0.54, PPYoloELoss/loss_iou=0.401, gpu_mem=6.73]\n",
      "Validating epoch 20: 100%|██████████| 71/71 [00:26<00:00,  2.71it/s]\n",
      "[2024-09-23 17:50:06] INFO - base_sg_logger.py - Checkpoint saved in /kaggle/working/checkpoints/military_aircraft/RUN_20240923_160839_191420/ckpt_best.pth\n",
      "[2024-09-23 17:50:06] INFO - sg_trainer.py - Best checkpoint overriden: validation mAP@0.50: 0.8959313035011292\n"
     ]
    },
    {
     "name": "stdout",
     "output_type": "stream",
     "text": [
      "===========================================================\n",
      "SUMMARY OF EPOCH 20\n",
      "├── Train\n",
      "│   ├── Ppyoloeloss/loss_cls = 0.8973\n",
      "│   │   ├── Epoch N-1      = 0.9085 (\u001b[32m↘ -0.0113\u001b[0m)\n",
      "│   │   └── Best until now = 0.9085 (\u001b[32m↘ -0.0113\u001b[0m)\n",
      "│   ├── Ppyoloeloss/loss_iou = 0.4007\n",
      "│   │   ├── Epoch N-1      = 0.4073 (\u001b[32m↘ -0.0066\u001b[0m)\n",
      "│   │   └── Best until now = 0.4073 (\u001b[32m↘ -0.0066\u001b[0m)\n",
      "│   ├── Ppyoloeloss/loss_dfl = 0.5397\n",
      "│   │   ├── Epoch N-1      = 0.5451 (\u001b[32m↘ -0.0054\u001b[0m)\n",
      "│   │   └── Best until now = 0.5451 (\u001b[32m↘ -0.0054\u001b[0m)\n",
      "│   └── Ppyoloeloss/loss = 1.8377\n",
      "│       ├── Epoch N-1      = 1.8609 (\u001b[32m↘ -0.0232\u001b[0m)\n",
      "│       └── Best until now = 1.8609 (\u001b[32m↘ -0.0232\u001b[0m)\n",
      "└── Validation\n",
      "    ├── Ppyoloeloss/loss_cls = 0.7748\n",
      "    │   ├── Epoch N-1      = 0.7954 (\u001b[32m↘ -0.0206\u001b[0m)\n",
      "    │   └── Best until now = 0.7885 (\u001b[32m↘ -0.0136\u001b[0m)\n",
      "    ├── Ppyoloeloss/loss_iou = 0.2876\n",
      "    │   ├── Epoch N-1      = 0.2812 (\u001b[31m↗ 0.0064\u001b[0m)\n",
      "    │   └── Best until now = 0.2812 (\u001b[31m↗ 0.0064\u001b[0m)\n",
      "    ├── Ppyoloeloss/loss_dfl = 0.4329\n",
      "    │   ├── Epoch N-1      = 0.4378 (\u001b[32m↘ -0.0049\u001b[0m)\n",
      "    │   └── Best until now = 0.4378 (\u001b[32m↘ -0.0049\u001b[0m)\n",
      "    ├── Ppyoloeloss/loss = 1.4953\n",
      "    │   ├── Epoch N-1      = 1.5144 (\u001b[32m↘ -0.0191\u001b[0m)\n",
      "    │   └── Best until now = 1.5144 (\u001b[32m↘ -0.0191\u001b[0m)\n",
      "    ├── Precision@0.50 = 0.0386\n",
      "    │   ├── Epoch N-1      = 0.0385 (\u001b[32m↗ 0.0002\u001b[0m)\n",
      "    │   └── Best until now = 0.1694 (\u001b[31m↘ -0.1308\u001b[0m)\n",
      "    ├── Recall@0.50 = 0.9688\n",
      "    │   ├── Epoch N-1      = 0.9659 (\u001b[32m↗ 0.0029\u001b[0m)\n",
      "    │   └── Best until now = 0.9727 (\u001b[31m↘ -0.0039\u001b[0m)\n",
      "    ├── Map@0.50 = 0.8959\n",
      "    │   ├── Epoch N-1      = 0.8891 (\u001b[32m↗ 0.0068\u001b[0m)\n",
      "    │   └── Best until now = 0.8927 (\u001b[32m↗ 0.0032\u001b[0m)\n",
      "    ├── F1@0.50 = 0.0743\n",
      "    │   ├── Epoch N-1      = 0.074  (\u001b[32m↗ 0.0003\u001b[0m)\n",
      "    │   └── Best until now = 0.2789 (\u001b[31m↘ -0.2046\u001b[0m)\n",
      "    └── Best_score_threshold = 0.63\n",
      "        ├── Epoch N-1      = 0.63   (= 0.0\u001b[0m)\n",
      "        └── Best until now = 0.28   (↗ 0.35\u001b[0m)\n",
      "\n",
      "===========================================================\n"
     ]
    },
    {
     "name": "stderr",
     "output_type": "stream",
     "text": [
      "Train epoch 21: 100%|██████████| 425/425 [04:08<00:00,  1.71it/s, PPYoloELoss/loss=1.79, PPYoloELoss/loss_cls=0.868, PPYoloELoss/loss_dfl=0.527, PPYoloELoss/loss_iou=0.392, gpu_mem=6.76]\n",
      "Validating epoch 21: 100%|██████████| 71/71 [00:26<00:00,  2.71it/s]\n"
     ]
    },
    {
     "name": "stdout",
     "output_type": "stream",
     "text": [
      "===========================================================\n",
      "SUMMARY OF EPOCH 21\n",
      "├── Train\n",
      "│   ├── Ppyoloeloss/loss_cls = 0.8681\n",
      "│   │   ├── Epoch N-1      = 0.8973 (\u001b[32m↘ -0.0291\u001b[0m)\n",
      "│   │   └── Best until now = 0.8973 (\u001b[32m↘ -0.0291\u001b[0m)\n",
      "│   ├── Ppyoloeloss/loss_iou = 0.3925\n",
      "│   │   ├── Epoch N-1      = 0.4007 (\u001b[32m↘ -0.0082\u001b[0m)\n",
      "│   │   └── Best until now = 0.4007 (\u001b[32m↘ -0.0082\u001b[0m)\n",
      "│   ├── Ppyoloeloss/loss_dfl = 0.5272\n",
      "│   │   ├── Epoch N-1      = 0.5397 (\u001b[32m↘ -0.0125\u001b[0m)\n",
      "│   │   └── Best until now = 0.5397 (\u001b[32m↘ -0.0125\u001b[0m)\n",
      "│   └── Ppyoloeloss/loss = 1.7878\n",
      "│       ├── Epoch N-1      = 1.8377 (\u001b[32m↘ -0.0498\u001b[0m)\n",
      "│       └── Best until now = 1.8377 (\u001b[32m↘ -0.0498\u001b[0m)\n",
      "└── Validation\n",
      "    ├── Ppyoloeloss/loss_cls = 0.7984\n",
      "    │   ├── Epoch N-1      = 0.7748 (\u001b[31m↗ 0.0235\u001b[0m)\n",
      "    │   └── Best until now = 0.7748 (\u001b[31m↗ 0.0235\u001b[0m)\n",
      "    ├── Ppyoloeloss/loss_iou = 0.2892\n",
      "    │   ├── Epoch N-1      = 0.2876 (\u001b[31m↗ 0.0016\u001b[0m)\n",
      "    │   └── Best until now = 0.2812 (\u001b[31m↗ 0.008\u001b[0m)\n",
      "    ├── Ppyoloeloss/loss_dfl = 0.4379\n",
      "    │   ├── Epoch N-1      = 0.4329 (\u001b[31m↗ 0.005\u001b[0m)\n",
      "    │   └── Best until now = 0.4329 (\u001b[31m↗ 0.005\u001b[0m)\n",
      "    ├── Ppyoloeloss/loss = 1.5255\n",
      "    │   ├── Epoch N-1      = 1.4953 (\u001b[31m↗ 0.0301\u001b[0m)\n",
      "    │   └── Best until now = 1.4953 (\u001b[31m↗ 0.0301\u001b[0m)\n",
      "    ├── Precision@0.50 = 0.0391\n",
      "    │   ├── Epoch N-1      = 0.0386 (\u001b[32m↗ 0.0004\u001b[0m)\n",
      "    │   └── Best until now = 0.1694 (\u001b[31m↘ -0.1303\u001b[0m)\n",
      "    ├── Recall@0.50 = 0.9649\n",
      "    │   ├── Epoch N-1      = 0.9688 (\u001b[31m↘ -0.0039\u001b[0m)\n",
      "    │   └── Best until now = 0.9727 (\u001b[31m↘ -0.0078\u001b[0m)\n",
      "    ├── Map@0.50 = 0.8895\n",
      "    │   ├── Epoch N-1      = 0.8959 (\u001b[31m↘ -0.0064\u001b[0m)\n",
      "    │   └── Best until now = 0.8959 (\u001b[31m↘ -0.0064\u001b[0m)\n",
      "    ├── F1@0.50 = 0.0751\n",
      "    │   ├── Epoch N-1      = 0.0743 (\u001b[32m↗ 0.0008\u001b[0m)\n",
      "    │   └── Best until now = 0.2789 (\u001b[31m↘ -0.2038\u001b[0m)\n",
      "    └── Best_score_threshold = 0.64\n",
      "        ├── Epoch N-1      = 0.63   (↗ 0.01\u001b[0m)\n",
      "        └── Best until now = 0.28   (↗ 0.36\u001b[0m)\n",
      "\n",
      "===========================================================\n"
     ]
    },
    {
     "name": "stderr",
     "output_type": "stream",
     "text": [
      "Train epoch 22: 100%|██████████| 425/425 [04:08<00:00,  1.71it/s, PPYoloELoss/loss=1.79, PPYoloELoss/loss_cls=0.872, PPYoloELoss/loss_dfl=0.528, PPYoloELoss/loss_iou=0.389, gpu_mem=6.85]\n",
      "Validating epoch 22: 100%|██████████| 71/71 [00:26<00:00,  2.71it/s]\n",
      "[2024-09-23 17:59:57] INFO - base_sg_logger.py - Checkpoint saved in /kaggle/working/checkpoints/military_aircraft/RUN_20240923_160839_191420/ckpt_best.pth\n",
      "[2024-09-23 17:59:57] INFO - sg_trainer.py - Best checkpoint overriden: validation mAP@0.50: 0.9057947397232056\n"
     ]
    },
    {
     "name": "stdout",
     "output_type": "stream",
     "text": [
      "===========================================================\n",
      "SUMMARY OF EPOCH 22\n",
      "├── Train\n",
      "│   ├── Ppyoloeloss/loss_cls = 0.8717\n",
      "│   │   ├── Epoch N-1      = 0.8681 (\u001b[31m↗ 0.0036\u001b[0m)\n",
      "│   │   └── Best until now = 0.8681 (\u001b[31m↗ 0.0036\u001b[0m)\n",
      "│   ├── Ppyoloeloss/loss_iou = 0.3889\n",
      "│   │   ├── Epoch N-1      = 0.3925 (\u001b[32m↘ -0.0035\u001b[0m)\n",
      "│   │   └── Best until now = 0.3925 (\u001b[32m↘ -0.0035\u001b[0m)\n",
      "│   ├── Ppyoloeloss/loss_dfl = 0.5277\n",
      "│   │   ├── Epoch N-1      = 0.5272 (\u001b[31m↗ 0.0005\u001b[0m)\n",
      "│   │   └── Best until now = 0.5272 (\u001b[31m↗ 0.0005\u001b[0m)\n",
      "│   └── Ppyoloeloss/loss = 1.7884\n",
      "│       ├── Epoch N-1      = 1.7878 (\u001b[31m↗ 0.0006\u001b[0m)\n",
      "│       └── Best until now = 1.7878 (\u001b[31m↗ 0.0006\u001b[0m)\n",
      "└── Validation\n",
      "    ├── Ppyoloeloss/loss_cls = 0.7401\n",
      "    │   ├── Epoch N-1      = 0.7984 (\u001b[32m↘ -0.0582\u001b[0m)\n",
      "    │   └── Best until now = 0.7748 (\u001b[32m↘ -0.0347\u001b[0m)\n",
      "    ├── Ppyoloeloss/loss_iou = 0.2728\n",
      "    │   ├── Epoch N-1      = 0.2892 (\u001b[32m↘ -0.0164\u001b[0m)\n",
      "    │   └── Best until now = 0.2812 (\u001b[32m↘ -0.0084\u001b[0m)\n",
      "    ├── Ppyoloeloss/loss_dfl = 0.4207\n",
      "    │   ├── Epoch N-1      = 0.4379 (\u001b[32m↘ -0.0172\u001b[0m)\n",
      "    │   └── Best until now = 0.4329 (\u001b[32m↘ -0.0122\u001b[0m)\n",
      "    ├── Ppyoloeloss/loss = 1.4336\n",
      "    │   ├── Epoch N-1      = 1.5255 (\u001b[32m↘ -0.0919\u001b[0m)\n",
      "    │   └── Best until now = 1.4953 (\u001b[32m↘ -0.0617\u001b[0m)\n",
      "    ├── Precision@0.50 = 0.043\n",
      "    │   ├── Epoch N-1      = 0.0391 (\u001b[32m↗ 0.0039\u001b[0m)\n",
      "    │   └── Best until now = 0.1694 (\u001b[31m↘ -0.1264\u001b[0m)\n",
      "    ├── Recall@0.50 = 0.9679\n",
      "    │   ├── Epoch N-1      = 0.9649 (\u001b[32m↗ 0.0029\u001b[0m)\n",
      "    │   └── Best until now = 0.9727 (\u001b[31m↘ -0.0049\u001b[0m)\n",
      "    ├── Map@0.50 = 0.9058\n",
      "    │   ├── Epoch N-1      = 0.8895 (\u001b[32m↗ 0.0163\u001b[0m)\n",
      "    │   └── Best until now = 0.8959 (\u001b[32m↗ 0.0099\u001b[0m)\n",
      "    ├── F1@0.50 = 0.0823\n",
      "    │   ├── Epoch N-1      = 0.0751 (\u001b[32m↗ 0.0072\u001b[0m)\n",
      "    │   └── Best until now = 0.2789 (\u001b[31m↘ -0.1967\u001b[0m)\n",
      "    └── Best_score_threshold = 0.66\n",
      "        ├── Epoch N-1      = 0.64   (↗ 0.02\u001b[0m)\n",
      "        └── Best until now = 0.28   (↗ 0.38\u001b[0m)\n",
      "\n",
      "===========================================================\n"
     ]
    },
    {
     "name": "stderr",
     "output_type": "stream",
     "text": [
      "Train epoch 23: 100%|██████████| 425/425 [04:08<00:00,  1.71it/s, PPYoloELoss/loss=1.76, PPYoloELoss/loss_cls=0.852, PPYoloELoss/loss_dfl=0.525, PPYoloELoss/loss_iou=0.386, gpu_mem=6.81]\n",
      "Validating epoch 23: 100%|██████████| 71/71 [00:26<00:00,  2.71it/s]\n",
      "[2024-09-23 18:04:54] INFO - base_sg_logger.py - Checkpoint saved in /kaggle/working/checkpoints/military_aircraft/RUN_20240923_160839_191420/ckpt_best.pth\n",
      "[2024-09-23 18:04:54] INFO - sg_trainer.py - Best checkpoint overriden: validation mAP@0.50: 0.9075803756713867\n"
     ]
    },
    {
     "name": "stdout",
     "output_type": "stream",
     "text": [
      "===========================================================\n",
      "SUMMARY OF EPOCH 23\n",
      "├── Train\n",
      "│   ├── Ppyoloeloss/loss_cls = 0.8517\n",
      "│   │   ├── Epoch N-1      = 0.8717 (\u001b[32m↘ -0.02\u001b[0m)\n",
      "│   │   └── Best until now = 0.8681 (\u001b[32m↘ -0.0164\u001b[0m)\n",
      "│   ├── Ppyoloeloss/loss_iou = 0.3858\n",
      "│   │   ├── Epoch N-1      = 0.3889 (\u001b[32m↘ -0.0031\u001b[0m)\n",
      "│   │   └── Best until now = 0.3889 (\u001b[32m↘ -0.0031\u001b[0m)\n",
      "│   ├── Ppyoloeloss/loss_dfl = 0.5249\n",
      "│   │   ├── Epoch N-1      = 0.5277 (\u001b[32m↘ -0.0029\u001b[0m)\n",
      "│   │   └── Best until now = 0.5272 (\u001b[32m↘ -0.0023\u001b[0m)\n",
      "│   └── Ppyoloeloss/loss = 1.7624\n",
      "│       ├── Epoch N-1      = 1.7884 (\u001b[32m↘ -0.026\u001b[0m)\n",
      "│       └── Best until now = 1.7878 (\u001b[32m↘ -0.0254\u001b[0m)\n",
      "└── Validation\n",
      "    ├── Ppyoloeloss/loss_cls = 0.7508\n",
      "    │   ├── Epoch N-1      = 0.7401 (\u001b[31m↗ 0.0107\u001b[0m)\n",
      "    │   └── Best until now = 0.7401 (\u001b[31m↗ 0.0107\u001b[0m)\n",
      "    ├── Ppyoloeloss/loss_iou = 0.2705\n",
      "    │   ├── Epoch N-1      = 0.2728 (\u001b[32m↘ -0.0023\u001b[0m)\n",
      "    │   └── Best until now = 0.2728 (\u001b[32m↘ -0.0023\u001b[0m)\n",
      "    ├── Ppyoloeloss/loss_dfl = 0.4211\n",
      "    │   ├── Epoch N-1      = 0.4207 (\u001b[31m↗ 0.0004\u001b[0m)\n",
      "    │   └── Best until now = 0.4207 (\u001b[31m↗ 0.0004\u001b[0m)\n",
      "    ├── Ppyoloeloss/loss = 1.4424\n",
      "    │   ├── Epoch N-1      = 1.4336 (\u001b[31m↗ 0.0088\u001b[0m)\n",
      "    │   └── Best until now = 1.4336 (\u001b[31m↗ 0.0088\u001b[0m)\n",
      "    ├── Precision@0.50 = 0.0402\n",
      "    │   ├── Epoch N-1      = 0.043  (\u001b[31m↘ -0.0027\u001b[0m)\n",
      "    │   └── Best until now = 0.1694 (\u001b[31m↘ -0.1291\u001b[0m)\n",
      "    ├── Recall@0.50 = 0.9747\n",
      "    │   ├── Epoch N-1      = 0.9679 (\u001b[32m↗ 0.0068\u001b[0m)\n",
      "    │   └── Best until now = 0.9727 (\u001b[32m↗ 0.0019\u001b[0m)\n",
      "    ├── Map@0.50 = 0.9076\n",
      "    │   ├── Epoch N-1      = 0.9058 (\u001b[32m↗ 0.0018\u001b[0m)\n",
      "    │   └── Best until now = 0.9058 (\u001b[32m↗ 0.0018\u001b[0m)\n",
      "    ├── F1@0.50 = 0.0773\n",
      "    │   ├── Epoch N-1      = 0.0823 (\u001b[31m↘ -0.005\u001b[0m)\n",
      "    │   └── Best until now = 0.2789 (\u001b[31m↘ -0.2017\u001b[0m)\n",
      "    └── Best_score_threshold = 0.66\n",
      "        ├── Epoch N-1      = 0.66   (= 0.0\u001b[0m)\n",
      "        └── Best until now = 0.28   (↗ 0.38\u001b[0m)\n",
      "\n",
      "===========================================================\n"
     ]
    },
    {
     "name": "stderr",
     "output_type": "stream",
     "text": [
      "Train epoch 24: 100%|██████████| 425/425 [04:09<00:00,  1.71it/s, PPYoloELoss/loss=1.75, PPYoloELoss/loss_cls=0.85, PPYoloELoss/loss_dfl=0.522, PPYoloELoss/loss_iou=0.38, gpu_mem=6.72]\n",
      "Validating epoch 24: 100%|██████████| 71/71 [00:26<00:00,  2.71it/s]\n"
     ]
    },
    {
     "name": "stdout",
     "output_type": "stream",
     "text": [
      "===========================================================\n",
      "SUMMARY OF EPOCH 24\n",
      "├── Train\n",
      "│   ├── Ppyoloeloss/loss_cls = 0.8502\n",
      "│   │   ├── Epoch N-1      = 0.8517 (\u001b[32m↘ -0.0016\u001b[0m)\n",
      "│   │   └── Best until now = 0.8517 (\u001b[32m↘ -0.0016\u001b[0m)\n",
      "│   ├── Ppyoloeloss/loss_iou = 0.38\n",
      "│   │   ├── Epoch N-1      = 0.3858 (\u001b[32m↘ -0.0058\u001b[0m)\n",
      "│   │   └── Best until now = 0.3858 (\u001b[32m↘ -0.0058\u001b[0m)\n",
      "│   ├── Ppyoloeloss/loss_dfl = 0.5219\n",
      "│   │   ├── Epoch N-1      = 0.5249 (\u001b[32m↘ -0.003\u001b[0m)\n",
      "│   │   └── Best until now = 0.5249 (\u001b[32m↘ -0.003\u001b[0m)\n",
      "│   └── Ppyoloeloss/loss = 1.7521\n",
      "│       ├── Epoch N-1      = 1.7624 (\u001b[32m↘ -0.0104\u001b[0m)\n",
      "│       └── Best until now = 1.7624 (\u001b[32m↘ -0.0104\u001b[0m)\n",
      "└── Validation\n",
      "    ├── Ppyoloeloss/loss_cls = 0.7326\n",
      "    │   ├── Epoch N-1      = 0.7508 (\u001b[32m↘ -0.0183\u001b[0m)\n",
      "    │   └── Best until now = 0.7401 (\u001b[32m↘ -0.0076\u001b[0m)\n",
      "    ├── Ppyoloeloss/loss_iou = 0.2827\n",
      "    │   ├── Epoch N-1      = 0.2705 (\u001b[31m↗ 0.0122\u001b[0m)\n",
      "    │   └── Best until now = 0.2705 (\u001b[31m↗ 0.0122\u001b[0m)\n",
      "    ├── Ppyoloeloss/loss_dfl = 0.4264\n",
      "    │   ├── Epoch N-1      = 0.4211 (\u001b[31m↗ 0.0053\u001b[0m)\n",
      "    │   └── Best until now = 0.4207 (\u001b[31m↗ 0.0057\u001b[0m)\n",
      "    ├── Ppyoloeloss/loss = 1.4417\n",
      "    │   ├── Epoch N-1      = 1.4424 (\u001b[32m↘ -0.0007\u001b[0m)\n",
      "    │   └── Best until now = 1.4336 (\u001b[31m↗ 0.0081\u001b[0m)\n",
      "    ├── Precision@0.50 = 0.0494\n",
      "    │   ├── Epoch N-1      = 0.0402 (\u001b[32m↗ 0.0092\u001b[0m)\n",
      "    │   └── Best until now = 0.1694 (\u001b[31m↘ -0.1199\u001b[0m)\n",
      "    ├── Recall@0.50 = 0.9679\n",
      "    │   ├── Epoch N-1      = 0.9747 (\u001b[31m↘ -0.0068\u001b[0m)\n",
      "    │   └── Best until now = 0.9747 (\u001b[31m↘ -0.0068\u001b[0m)\n",
      "    ├── Map@0.50 = 0.9068\n",
      "    │   ├── Epoch N-1      = 0.9076 (\u001b[31m↘ -0.0008\u001b[0m)\n",
      "    │   └── Best until now = 0.9076 (\u001b[31m↘ -0.0008\u001b[0m)\n",
      "    ├── F1@0.50 = 0.0941\n",
      "    │   ├── Epoch N-1      = 0.0773 (\u001b[32m↗ 0.0168\u001b[0m)\n",
      "    │   └── Best until now = 0.2789 (\u001b[31m↘ -0.1848\u001b[0m)\n",
      "    └── Best_score_threshold = 0.59\n",
      "        ├── Epoch N-1      = 0.66   (↘ -0.07\u001b[0m)\n",
      "        └── Best until now = 0.28   (↗ 0.31\u001b[0m)\n",
      "\n",
      "===========================================================\n"
     ]
    },
    {
     "name": "stderr",
     "output_type": "stream",
     "text": [
      "[2024-09-23 18:09:51] INFO - sg_trainer.py - RUNNING ADDITIONAL TEST ON THE AVERAGED MODEL...\n",
      "You are using `torch.load` with `weights_only=False` (the current default value), which uses the default pickle module implicitly. It is possible to construct malicious pickle data which will execute arbitrary code during unpickling (See https://github.com/pytorch/pytorch/blob/main/SECURITY.md#untrusted-models for more details). In a future release, the default value for `weights_only` will be flipped to `True`. This limits the functions that could be executed during unpickling. Arbitrary objects will no longer be allowed to be loaded via this mode unless they are explicitly allowlisted by the user via `torch.serialization.add_safe_globals`. We recommend you start setting `weights_only=True` for any use case where you don't have full control of the loaded file. Please open an issue on GitHub for any issues related to this experimental feature.\n",
      "Validating epoch 25: 100%|██████████| 71/71 [00:26<00:00,  2.71it/s]\n"
     ]
    }
   ],
   "source": [
    "trainer.train(\n",
    "    model=model,\n",
    "    training_params=train_params,\n",
    "    train_loader=train_data,\n",
    "    valid_loader=val_data\n",
    ")"
   ]
  },
  {
   "cell_type": "markdown",
   "id": "36352fff",
   "metadata": {
    "id": "SiMFjRokll6q",
    "papermill": {
     "duration": 1.031405,
     "end_time": "2024-09-23T18:10:21.085969",
     "exception": false,
     "start_time": "2024-09-23T18:10:20.054564",
     "status": "completed"
    },
    "tags": []
   },
   "source": [
    "### Analyze training metrics\n"
   ]
  },
  {
   "cell_type": "code",
   "execution_count": 15,
   "id": "f4a7c72d",
   "metadata": {
    "execution": {
     "iopub.execute_input": "2024-09-23T18:10:23.250627Z",
     "iopub.status.busy": "2024-09-23T18:10:23.249445Z",
     "iopub.status.idle": "2024-09-23T18:10:23.252813Z",
     "shell.execute_reply": "2024-09-23T18:10:23.252430Z"
    },
    "id": "LRZ6qtaca9_w",
    "outputId": "6ceb585e-be9c-4652-919a-e20d6e6d8164",
    "papermill": {
     "duration": 1.092433,
     "end_time": "2024-09-23T18:10:23.255058",
     "exception": false,
     "start_time": "2024-09-23T18:10:22.162625",
     "status": "completed"
    },
    "tags": []
   },
   "outputs": [],
   "source": [
    "# %load_ext tensorboard\n",
    "# %tensorboard --logdir {CHECKPOINT_DIR}/{EXPERIMENT_NAME}"
   ]
  },
  {
   "cell_type": "markdown",
   "id": "0674640d",
   "metadata": {
    "id": "U2Zm_JWRcIcp",
    "papermill": {
     "duration": 1.041538,
     "end_time": "2024-09-23T18:10:25.389669",
     "exception": false,
     "start_time": "2024-09-23T18:10:24.348131",
     "status": "completed"
    },
    "tags": []
   },
   "source": [
    "## Zip and download fine-tuned model"
   ]
  },
  {
   "cell_type": "code",
   "execution_count": 16,
   "id": "42b46684",
   "metadata": {
    "execution": {
     "iopub.execute_input": "2024-09-23T18:10:27.577425Z",
     "iopub.status.busy": "2024-09-23T18:10:27.577025Z",
     "iopub.status.idle": "2024-09-23T18:12:10.434877Z",
     "shell.execute_reply": "2024-09-23T18:12:10.434306Z"
    },
    "id": "AicLyuZBcLx3",
    "papermill": {
     "duration": 104.987376,
     "end_time": "2024-09-23T18:12:11.517301",
     "exception": false,
     "start_time": "2024-09-23T18:10:26.529925",
     "status": "completed"
    },
    "tags": []
   },
   "outputs": [
    {
     "name": "stderr",
     "output_type": "stream",
     "text": [
      "os.fork() was called. os.fork() is incompatible with multithreaded code, and JAX is multithreaded, so this will likely lead to a deadlock.\n"
     ]
    },
    {
     "name": "stdout",
     "output_type": "stream",
     "text": [
      "  adding: kaggle/working/checkpoints/military_aircraft/ (stored 0%)\r\n",
      "  adding: kaggle/working/checkpoints/military_aircraft/RUN_20240923_160839_191420/ (stored 0%)\r\n",
      "  adding: kaggle/working/checkpoints/military_aircraft/RUN_20240923_160839_191420/logs_Sep23_16_08_39.txt (deflated 78%)\r\n",
      "  adding: kaggle/working/checkpoints/military_aircraft/RUN_20240923_160839_191420/console_Sep23_16_08_39.txt (deflated 96%)\r\n",
      "  adding: kaggle/working/checkpoints/military_aircraft/RUN_20240923_160839_191420/ckpt_latest.pth (deflated 7%)\r\n",
      "  adding: kaggle/working/checkpoints/military_aircraft/RUN_20240923_160839_191420/events.out.tfevents.1727115019.c0c463887d6f.24.1 (deflated 9%)\r\n",
      "  adding: kaggle/working/checkpoints/military_aircraft/RUN_20240923_160839_191420/average_model.pth (deflated 7%)\r\n",
      "  adding: kaggle/working/checkpoints/military_aircraft/RUN_20240923_160839_191420/ckpt_best.pth (deflated 7%)\r\n",
      "  adding: kaggle/working/checkpoints/military_aircraft/RUN_20240923_160839_191420/experiment_logs_Sep23_16_08_39.txt (deflated 74%)\r\n",
      "  adding: kaggle/working/checkpoints/military_aircraft/RUN_20240923_160839_191420/events.out.tfevents.1727107719.c0c463887d6f.24.0 (deflated 82%)\r\n"
     ]
    }
   ],
   "source": [
    "!zip -r yolo_nas.zip {CHECKPOINT_DIR}/{EXPERIMENT_NAME}"
   ]
  },
  {
   "cell_type": "code",
   "execution_count": 17,
   "id": "d3515673",
   "metadata": {
    "execution": {
     "iopub.execute_input": "2024-09-23T18:12:13.652315Z",
     "iopub.status.busy": "2024-09-23T18:12:13.651317Z",
     "iopub.status.idle": "2024-09-23T18:12:13.654734Z",
     "shell.execute_reply": "2024-09-23T18:12:13.654442Z"
    },
    "id": "wM3pdH3NdF2L",
    "papermill": {
     "duration": 1.110199,
     "end_time": "2024-09-23T18:12:13.657243",
     "exception": false,
     "start_time": "2024-09-23T18:12:12.547044",
     "status": "completed"
    },
    "tags": []
   },
   "outputs": [],
   "source": [
    "# if you experience 'NotImplementedError: A UTF-8 locale is required. Got ANSI_X3.4-1968' error, run code below 👇\n",
    "\n",
    "# import locale\n",
    "# locale.getpreferredencoding = lambda: \"UTF-8\""
   ]
  },
  {
   "cell_type": "markdown",
   "id": "4fc07805",
   "metadata": {
    "id": "o0Lkok3TKueg",
    "papermill": {
     "duration": 1.091541,
     "end_time": "2024-09-23T18:12:15.787516",
     "exception": false,
     "start_time": "2024-09-23T18:12:14.695975",
     "status": "completed"
    },
    "tags": []
   },
   "source": [
    "## Load trained model"
   ]
  },
  {
   "cell_type": "code",
   "execution_count": 18,
   "id": "c7b8c958",
   "metadata": {
    "execution": {
     "iopub.execute_input": "2024-09-23T18:12:17.917828Z",
     "iopub.status.busy": "2024-09-23T18:12:17.917179Z",
     "iopub.status.idle": "2024-09-23T18:12:17.919743Z",
     "shell.execute_reply": "2024-09-23T18:12:17.919448Z"
    },
    "id": "Al1R2UQ5y5tk",
    "outputId": "f63f949c-9eda-4c5c-c1df-2375c48fd149",
    "papermill": {
     "duration": 1.097849,
     "end_time": "2024-09-23T18:12:17.922193",
     "exception": false,
     "start_time": "2024-09-23T18:12:16.824344",
     "status": "completed"
    },
    "tags": []
   },
   "outputs": [],
   "source": [
    "# best_model = models.get(\n",
    "#     MODEL_ARCH,\n",
    "#     num_classes=len(dataset_params['classes']),\n",
    "#     checkpoint_path=f\"/kaggle/input/yolo-nas/pytorch/default/1/ckpt_best.pth\"\n",
    "# ).to(DEVICE)"
   ]
  },
  {
   "cell_type": "code",
   "execution_count": 19,
   "id": "44be877e",
   "metadata": {
    "execution": {
     "iopub.execute_input": "2024-09-23T18:12:20.065757Z",
     "iopub.status.busy": "2024-09-23T18:12:20.064845Z",
     "iopub.status.idle": "2024-09-23T18:12:20.067858Z",
     "shell.execute_reply": "2024-09-23T18:12:20.067563Z"
    },
    "papermill": {
     "duration": 1.110233,
     "end_time": "2024-09-23T18:12:20.070256",
     "exception": false,
     "start_time": "2024-09-23T18:12:18.960023",
     "status": "completed"
    },
    "tags": []
   },
   "outputs": [],
   "source": [
    "# # Import the YouTubeVideo class from IPython.display\n",
    "# from IPython.display import YouTubeVideo\n",
    "\n",
    "# # Define the YouTube video ID\n",
    "# video_id = 'l-oo9DJfH_k'  # Replace YOUR_VIDEO_ID with the actual video ID\n",
    "\n",
    "# # Create a YouTubeVideo object with the specified video ID\n",
    "# video = YouTubeVideo(video_id)\n",
    "\n",
    "# # Display the video\n",
    "# display(video)"
   ]
  },
  {
   "cell_type": "code",
   "execution_count": 20,
   "id": "ecd98596",
   "metadata": {
    "execution": {
     "iopub.execute_input": "2024-09-23T18:12:22.286205Z",
     "iopub.status.busy": "2024-09-23T18:12:22.285390Z",
     "iopub.status.idle": "2024-09-23T18:12:22.288479Z",
     "shell.execute_reply": "2024-09-23T18:12:22.288152Z"
    },
    "papermill": {
     "duration": 1.160867,
     "end_time": "2024-09-23T18:12:22.291264",
     "exception": false,
     "start_time": "2024-09-23T18:12:21.130397",
     "status": "completed"
    },
    "tags": []
   },
   "outputs": [],
   "source": [
    "# %%capture\n",
    "\n",
    "# # Define the URL of the YouTube video\n",
    "# video_url = f'https://www.youtube.com/watch?v={video_id}'\n",
    "\n",
    "# # Download the video in mp4 format\n",
    "# !pip install -U \"git+https://github.com/ytdl-org/youtube-dl.git\"\n",
    "# !python -m youtube_dl -f 'bestvideo[ext=mp4]+bestaudio[ext=m4a]/mp4' \"$video_url\"\n",
    "\n",
    "# # Print a success message\n",
    "# print('Video downloaded successfully')\n"
   ]
  },
  {
   "cell_type": "code",
   "execution_count": 21,
   "id": "666981db",
   "metadata": {
    "execution": {
     "iopub.execute_input": "2024-09-23T18:12:24.475116Z",
     "iopub.status.busy": "2024-09-23T18:12:24.474753Z",
     "iopub.status.idle": "2024-09-23T18:12:24.477369Z",
     "shell.execute_reply": "2024-09-23T18:12:24.477018Z"
    },
    "papermill": {
     "duration": 1.051176,
     "end_time": "2024-09-23T18:12:24.479815",
     "exception": false,
     "start_time": "2024-09-23T18:12:23.428639",
     "status": "completed"
    },
    "tags": []
   },
   "outputs": [],
   "source": [
    "input_video_path = \"/kaggle/working/Battlefield 2042 Trailer - F-35 fighter jet scene-l-oo9DJfH_k.mp4\"\n",
    "output_video_path = \"detections.mp4\""
   ]
  },
  {
   "cell_type": "code",
   "execution_count": 22,
   "id": "cfae0b74",
   "metadata": {
    "execution": {
     "iopub.execute_input": "2024-09-23T18:12:26.608572Z",
     "iopub.status.busy": "2024-09-23T18:12:26.608191Z",
     "iopub.status.idle": "2024-09-23T18:12:26.610606Z",
     "shell.execute_reply": "2024-09-23T18:12:26.610227Z"
    },
    "papermill": {
     "duration": 1.047132,
     "end_time": "2024-09-23T18:12:26.613333",
     "exception": false,
     "start_time": "2024-09-23T18:12:25.566201",
     "status": "completed"
    },
    "tags": []
   },
   "outputs": [],
   "source": [
    "# import torch\n",
    "# device = 'cuda' if torch.cuda.is_available() else \"cpu\""
   ]
  },
  {
   "cell_type": "code",
   "execution_count": 23,
   "id": "00a62060",
   "metadata": {
    "execution": {
     "iopub.execute_input": "2024-09-23T18:12:28.723684Z",
     "iopub.status.busy": "2024-09-23T18:12:28.723258Z",
     "iopub.status.idle": "2024-09-23T18:12:28.726002Z",
     "shell.execute_reply": "2024-09-23T18:12:28.725723Z"
    },
    "papermill": {
     "duration": 1.08309,
     "end_time": "2024-09-23T18:12:28.728514",
     "exception": false,
     "start_time": "2024-09-23T18:12:27.645424",
     "status": "completed"
    },
    "tags": []
   },
   "outputs": [],
   "source": [
    "# best_model.to(device).predict(input_video_path).save(output_video_path)"
   ]
  },
  {
   "cell_type": "markdown",
   "id": "130d976d",
   "metadata": {
    "id": "kCLMU8PEKzvf",
    "papermill": {
     "duration": 1.093212,
     "end_time": "2024-09-23T18:12:30.901465",
     "exception": false,
     "start_time": "2024-09-23T18:12:29.808253",
     "status": "completed"
    },
    "tags": []
   },
   "source": [
    "## Evaluate trained model"
   ]
  },
  {
   "cell_type": "code",
   "execution_count": 24,
   "id": "2a5d136e",
   "metadata": {
    "execution": {
     "iopub.execute_input": "2024-09-23T18:12:33.085564Z",
     "iopub.status.busy": "2024-09-23T18:12:33.084453Z",
     "iopub.status.idle": "2024-09-23T18:12:33.088421Z",
     "shell.execute_reply": "2024-09-23T18:12:33.088014Z"
    },
    "id": "figss_6TJvAj",
    "outputId": "e7f06168-d892-4ea6-f9b6-36e71002eff2",
    "papermill": {
     "duration": 1.070498,
     "end_time": "2024-09-23T18:12:33.091033",
     "exception": false,
     "start_time": "2024-09-23T18:12:32.020535",
     "status": "completed"
    },
    "tags": []
   },
   "outputs": [],
   "source": [
    "# trainer.test(\n",
    "#     model=best_model,\n",
    "#     test_loader=test_data,\n",
    "#     test_metrics_list=DetectionMetrics_050(\n",
    "#         score_thres=0.1,\n",
    "#         top_k_predictions=300,\n",
    "#         num_cls=len(dataset_params['classes']),\n",
    "#         normalize_targets=True,\n",
    "#         post_prediction_callback=PPYoloEPostPredictionCallback(\n",
    "#             score_threshold=0.01,\n",
    "#             nms_top_k=1000,\n",
    "#             max_predictions=300,\n",
    "#             nms_threshold=0.7\n",
    "#         )\n",
    "#     )\n",
    "# )"
   ]
  },
  {
   "cell_type": "markdown",
   "id": "be66d338",
   "metadata": {
    "id": "tmMIOT2hsM1F",
    "papermill": {
     "duration": 1.051097,
     "end_time": "2024-09-23T18:12:35.230297",
     "exception": false,
     "start_time": "2024-09-23T18:12:34.179200",
     "status": "completed"
    },
    "tags": []
   },
   "source": [
    "### Calculate confusion matrix"
   ]
  },
  {
   "cell_type": "code",
   "execution_count": 25,
   "id": "81f646c0",
   "metadata": {
    "execution": {
     "iopub.execute_input": "2024-09-23T18:12:37.457473Z",
     "iopub.status.busy": "2024-09-23T18:12:37.457077Z",
     "iopub.status.idle": "2024-09-23T18:12:37.459375Z",
     "shell.execute_reply": "2024-09-23T18:12:37.459046Z"
    },
    "id": "6mSapibasSst",
    "papermill": {
     "duration": 1.056621,
     "end_time": "2024-09-23T18:12:37.461656",
     "exception": false,
     "start_time": "2024-09-23T18:12:36.405035",
     "status": "completed"
    },
    "tags": []
   },
   "outputs": [],
   "source": [
    "# !pip install onemetric"
   ]
  },
  {
   "cell_type": "code",
   "execution_count": 26,
   "id": "026374a1",
   "metadata": {
    "execution": {
     "iopub.execute_input": "2024-09-23T18:12:39.611006Z",
     "iopub.status.busy": "2024-09-23T18:12:39.610615Z",
     "iopub.status.idle": "2024-09-23T18:12:39.614180Z",
     "shell.execute_reply": "2024-09-23T18:12:39.613785Z"
    },
    "id": "r6en9Qxcs9Yy",
    "outputId": "fafdf0fe-68b8-45a5-e5e2-d8e050006919",
    "papermill": {
     "duration": 1.0866,
     "end_time": "2024-09-23T18:12:39.616871",
     "exception": false,
     "start_time": "2024-09-23T18:12:38.530271",
     "status": "completed"
    },
    "tags": []
   },
   "outputs": [],
   "source": [
    "# import os\n",
    "\n",
    "# import numpy as np\n",
    "\n",
    "# from onemetric.cv.object_detection import ConfusionMatrix\n",
    "\n",
    "# keys = list(ds.images.keys())\n",
    "\n",
    "# annotation_batches, prediction_batches = [], []\n",
    "\n",
    "# for key in keys:\n",
    "#     annotation=ds.annotations[key]\n",
    "#     annotation_batch = np.column_stack((\n",
    "#         annotation.xyxy,\n",
    "#         annotation.class_id\n",
    "#     ))\n",
    "#     annotation_batches.append(annotation_batch)\n",
    "\n",
    "#     prediction=predictions[key]\n",
    "#     prediction_batch = np.column_stack((\n",
    "#         prediction.xyxy,\n",
    "#         prediction.class_id,\n",
    "#         prediction.confidence\n",
    "#     ))\n",
    "#     prediction_batches.append(prediction_batch)\n",
    "\n",
    "# confusion_matrix = ConfusionMatrix.from_detections(\n",
    "#     true_batches=annotation_batches,\n",
    "#     detection_batches=prediction_batches,\n",
    "#     num_classes=len(ds.classes),\n",
    "#     conf_threshold=CONFIDENCE_TRESHOLD\n",
    "# )\n",
    "\n",
    "# confusion_matrix.plot(os.path.join(HOME, \"confusion_matrix.png\"), class_names=ds.classes)"
   ]
  }
 ],
 "metadata": {
  "accelerator": "GPU",
  "colab": {
   "gpuType": "T4",
   "provenance": []
  },
  "gpuClass": "standard",
  "kaggle": {
   "accelerator": "nvidiaTeslaT4",
   "dataSources": [
    {
     "isSourceIdPinned": true,
     "modelId": 122852,
     "modelInstanceId": 98684,
     "sourceId": 117381,
     "sourceType": "modelInstanceVersion"
    }
   ],
   "dockerImageVersionId": 30762,
   "isGpuEnabled": true,
   "isInternetEnabled": true,
   "language": "python",
   "sourceType": "notebook"
  },
  "kernelspec": {
   "display_name": "Python 3",
   "language": "python",
   "name": "python3"
  },
  "language_info": {
   "codemirror_mode": {
    "name": "ipython",
    "version": 3
   },
   "file_extension": ".py",
   "mimetype": "text/x-python",
   "name": "python",
   "nbconvert_exporter": "python",
   "pygments_lexer": "ipython3",
   "version": "3.10.14"
  },
  "papermill": {
   "default_parameters": {},
   "duration": 7637.257197,
   "end_time": "2024-09-23T18:12:44.121469",
   "environment_variables": {},
   "exception": null,
   "input_path": "__notebook__.ipynb",
   "output_path": "__notebook__.ipynb",
   "parameters": {},
   "start_time": "2024-09-23T16:05:26.864272",
   "version": "2.6.0"
  }
 },
 "nbformat": 4,
 "nbformat_minor": 5
}
