{
 "cells": [
  {
   "cell_type": "markdown",
   "id": "dc58c81f",
   "metadata": {
    "id": "lkYPlZfsbZT0",
    "papermill": {
     "duration": 0.009072,
     "end_time": "2024-09-24T05:36:41.669820",
     "exception": false,
     "start_time": "2024-09-24T05:36:41.660748",
     "status": "completed"
    },
    "tags": []
   },
   "source": [
    "## Install YOLO-NAS\n"
   ]
  },
  {
   "cell_type": "code",
   "execution_count": 1,
   "id": "ea212232",
   "metadata": {
    "execution": {
     "iopub.execute_input": "2024-09-24T05:36:41.687580Z",
     "iopub.status.busy": "2024-09-24T05:36:41.687243Z",
     "iopub.status.idle": "2024-09-24T05:39:06.273919Z",
     "shell.execute_reply": "2024-09-24T05:39:06.272756Z"
    },
    "id": "SdQ5JGblbJTk",
    "papermill": {
     "duration": 144.598283,
     "end_time": "2024-09-24T05:39:06.276421",
     "exception": false,
     "start_time": "2024-09-24T05:36:41.678138",
     "status": "completed"
    },
    "tags": []
   },
   "outputs": [
    {
     "name": "stdout",
     "output_type": "stream",
     "text": [
      "\u001b[31mERROR: pip's dependency resolver does not currently take into account all the packages that are installed. This behaviour is the source of the following dependency conflicts.\r\n",
      "cudf 24.8.2 requires cubinlinker, which is not installed.\r\n",
      "cudf 24.8.2 requires cupy-cuda11x>=12.0.0, which is not installed.\r\n",
      "cudf 24.8.2 requires ptxcompiler, which is not installed.\r\n",
      "cuml 24.8.0 requires cupy-cuda11x>=12.0.0, which is not installed.\r\n",
      "dask-cudf 24.8.2 requires cupy-cuda11x>=12.0.0, which is not installed.\r\n",
      "ucxx 0.39.1 requires libucx>=1.15.0, which is not installed.\r\n",
      "aiobotocore 2.13.2 requires botocore<1.34.132,>=1.34.70, but you have botocore 1.29.165 which is incompatible.\r\n",
      "albucore 0.0.13 requires numpy<2,>=1.24.4, but you have numpy 1.23.0 which is incompatible.\r\n",
      "apache-beam 2.46.0 requires cloudpickle~=2.2.1, but you have cloudpickle 3.0.0 which is incompatible.\r\n",
      "apache-beam 2.46.0 requires dill<0.3.2,>=0.3.1.1, but you have dill 0.3.8 which is incompatible.\r\n",
      "apache-beam 2.46.0 requires pyarrow<10.0.0,>=3.0.0, but you have pyarrow 16.1.0 which is incompatible.\r\n",
      "bayesian-optimization 1.5.1 requires numpy>=1.25, but you have numpy 1.23.0 which is incompatible.\r\n",
      "chex 0.1.86 requires numpy>=1.24.1, but you have numpy 1.23.0 which is incompatible.\r\n",
      "cudf 24.8.2 requires cuda-python<12.0a0,>=11.7.1, but you have cuda-python 12.6.0 which is incompatible.\r\n",
      "featuretools 1.31.0 requires numpy>=1.25.0, but you have numpy 1.23.0 which is incompatible.\r\n",
      "ibis-framework 7.1.0 requires pyarrow<15,>=2, but you have pyarrow 16.1.0 which is incompatible.\r\n",
      "libpysal 4.9.2 requires packaging>=22, but you have packaging 21.3 which is incompatible.\r\n",
      "libpysal 4.9.2 requires shapely>=2.0.1, but you have shapely 1.8.5.post1 which is incompatible.\r\n",
      "momepy 0.7.2 requires shapely>=2, but you have shapely 1.8.5.post1 which is incompatible.\r\n",
      "osmnx 1.9.4 requires shapely<2.1,>=2.0, but you have shapely 1.8.5.post1 which is incompatible.\r\n",
      "pointpats 2.5.0 requires numpy>=1.24, but you have numpy 1.23.0 which is incompatible.\r\n",
      "pointpats 2.5.0 requires shapely>=2, but you have shapely 1.8.5.post1 which is incompatible.\r\n",
      "pyldavis 3.4.1 requires numpy>=1.24.2, but you have numpy 1.23.0 which is incompatible.\r\n",
      "rmm 24.8.2 requires cuda-python<12.0a0,>=11.7.1, but you have cuda-python 12.6.0 which is incompatible.\r\n",
      "spaghetti 1.7.6 requires shapely>=2.0.1, but you have shapely 1.8.5.post1 which is incompatible.\r\n",
      "spopt 0.6.1 requires shapely>=2.0.1, but you have shapely 1.8.5.post1 which is incompatible.\r\n",
      "tensorflow 2.16.1 requires numpy<2.0.0,>=1.23.5; python_version <= \"3.11\", but you have numpy 1.23.0 which is incompatible.\r\n",
      "tsfresh 0.20.3 requires scipy>=1.14.0; python_version >= \"3.10\", but you have scipy 1.13.1 which is incompatible.\r\n",
      "woodwork 0.31.0 requires numpy>=1.25.0, but you have numpy 1.23.0 which is incompatible.\r\n",
      "xarray 2024.7.0 requires packaging>=23.1, but you have packaging 21.3 which is incompatible.\u001b[0m\u001b[31m\r\n",
      "\u001b[0m\u001b[31mERROR: pip's dependency resolver does not currently take into account all the packages that are installed. This behaviour is the source of the following dependency conflicts.\r\n",
      "cudf 24.8.2 requires cubinlinker, which is not installed.\r\n",
      "cudf 24.8.2 requires cupy-cuda11x>=12.0.0, which is not installed.\r\n",
      "cudf 24.8.2 requires ptxcompiler, which is not installed.\r\n",
      "cuml 24.8.0 requires cupy-cuda11x>=12.0.0, which is not installed.\r\n",
      "dask-cudf 24.8.2 requires cupy-cuda11x>=12.0.0, which is not installed.\r\n",
      "ucxx 0.39.1 requires libucx>=1.15.0, which is not installed.\r\n",
      "apache-beam 2.46.0 requires cloudpickle~=2.2.1, but you have cloudpickle 3.0.0 which is incompatible.\r\n",
      "apache-beam 2.46.0 requires dill<0.3.2,>=0.3.1.1, but you have dill 0.3.8 which is incompatible.\r\n",
      "apache-beam 2.46.0 requires numpy<1.25.0,>=1.14.3, but you have numpy 1.26.4 which is incompatible.\r\n",
      "apache-beam 2.46.0 requires pyarrow<10.0.0,>=3.0.0, but you have pyarrow 16.1.0 which is incompatible.\r\n",
      "cudf 24.8.2 requires cuda-python<12.0a0,>=11.7.1, but you have cuda-python 12.6.0 which is incompatible.\r\n",
      "ibis-framework 7.1.0 requires pyarrow<15,>=2, but you have pyarrow 16.1.0 which is incompatible.\r\n",
      "libpysal 4.9.2 requires packaging>=22, but you have packaging 21.3 which is incompatible.\r\n",
      "libpysal 4.9.2 requires shapely>=2.0.1, but you have shapely 1.8.5.post1 which is incompatible.\r\n",
      "momepy 0.7.2 requires shapely>=2, but you have shapely 1.8.5.post1 which is incompatible.\r\n",
      "osmnx 1.9.4 requires shapely<2.1,>=2.0, but you have shapely 1.8.5.post1 which is incompatible.\r\n",
      "pointpats 2.5.0 requires shapely>=2, but you have shapely 1.8.5.post1 which is incompatible.\r\n",
      "rmm 24.8.2 requires cuda-python<12.0a0,>=11.7.1, but you have cuda-python 12.6.0 which is incompatible.\r\n",
      "spaghetti 1.7.6 requires shapely>=2.0.1, but you have shapely 1.8.5.post1 which is incompatible.\r\n",
      "spopt 0.6.1 requires shapely>=2.0.1, but you have shapely 1.8.5.post1 which is incompatible.\r\n",
      "super-gradients 3.7.1+master requires numpy<=1.23, but you have numpy 1.26.4 which is incompatible.\r\n",
      "tsfresh 0.20.3 requires scipy>=1.14.0; python_version >= \"3.10\", but you have scipy 1.13.1 which is incompatible.\r\n",
      "xarray 2024.7.0 requires packaging>=23.1, but you have packaging 21.3 which is incompatible.\u001b[0m\u001b[31m\r\n",
      "\u001b[0m"
     ]
    }
   ],
   "source": [
    "!pip install -q git+https://github.com/Deci-AI/super-gradients.git@stable\n",
    "!pip install -q roboflow\n",
    "!pip install -q supervision"
   ]
  },
  {
   "cell_type": "code",
   "execution_count": 2,
   "id": "f9ecc315",
   "metadata": {
    "execution": {
     "iopub.execute_input": "2024-09-24T05:39:06.295026Z",
     "iopub.status.busy": "2024-09-24T05:39:06.294705Z",
     "iopub.status.idle": "2024-09-24T05:39:06.299728Z",
     "shell.execute_reply": "2024-09-24T05:39:06.298930Z"
    },
    "id": "gyUQ1xT5ijdY",
    "outputId": "5fcbb3e1-485f-42c0-9a02-e44f627e7b58",
    "papermill": {
     "duration": 0.016724,
     "end_time": "2024-09-24T05:39:06.301860",
     "exception": false,
     "start_time": "2024-09-24T05:39:06.285136",
     "status": "completed"
    },
    "tags": []
   },
   "outputs": [
    {
     "name": "stdout",
     "output_type": "stream",
     "text": [
      "/kaggle/working\n"
     ]
    }
   ],
   "source": [
    "import os\n",
    "HOME = os.getcwd()\n",
    "print(HOME)"
   ]
  },
  {
   "cell_type": "code",
   "execution_count": 3,
   "id": "446fe2db",
   "metadata": {
    "execution": {
     "iopub.execute_input": "2024-09-24T05:39:06.320133Z",
     "iopub.status.busy": "2024-09-24T05:39:06.319823Z",
     "iopub.status.idle": "2024-09-24T05:39:10.153782Z",
     "shell.execute_reply": "2024-09-24T05:39:10.152907Z"
    },
    "id": "xh_YA7Z4k0jd",
    "papermill": {
     "duration": 3.845821,
     "end_time": "2024-09-24T05:39:10.156188",
     "exception": false,
     "start_time": "2024-09-24T05:39:06.310367",
     "status": "completed"
    },
    "tags": []
   },
   "outputs": [],
   "source": [
    "import torch\n",
    "\n",
    "DEVICE = 'cuda' if torch.cuda.is_available() else \"cpu\"\n",
    "MODEL_ARCH = 'yolo_nas_l'"
   ]
  },
  {
   "cell_type": "code",
   "execution_count": 4,
   "id": "3ddc1320",
   "metadata": {
    "execution": {
     "iopub.execute_input": "2024-09-24T05:39:10.176278Z",
     "iopub.status.busy": "2024-09-24T05:39:10.175518Z",
     "iopub.status.idle": "2024-09-24T05:39:35.049392Z",
     "shell.execute_reply": "2024-09-24T05:39:35.048965Z"
    },
    "id": "WV7QtETgcaAh",
    "papermill": {
     "duration": 24.886076,
     "end_time": "2024-09-24T05:39:35.051807",
     "exception": false,
     "start_time": "2024-09-24T05:39:10.165731",
     "status": "completed"
    },
    "tags": []
   },
   "outputs": [
    {
     "name": "stdout",
     "output_type": "stream",
     "text": [
      "The console stream is logged into /root/sg_logs/console.log\n"
     ]
    },
    {
     "name": "stderr",
     "output_type": "stream",
     "text": [
      "[2024-09-24 05:39:10] INFO - crash_tips_setup.py - Crash tips is enabled. You can set your environment variable to CRASH_HANDLER=FALSE to disable it\n",
      "[2024-09-24 05:39:27] INFO - utils.py - NumExpr defaulting to 4 threads.\n"
     ]
    },
    {
     "name": "stdout",
     "output_type": "stream",
     "text": [
      "[WARNING]No module named 'pycocotools'\n"
     ]
    },
    {
     "name": "stderr",
     "output_type": "stream",
     "text": [
      "[2024-09-24 05:39:31] INFO - env_sanity_check.py - Library check is not supported when super_gradients installed through \"git+https://github.com/...\" command\n",
      "[2024-09-24 05:39:32] WARNING - checkpoint_utils.py - :warning: The pre-trained models provided by SuperGradients may have their own licenses or terms and conditions derived from the dataset used for pre-training.\n",
      " It is your responsibility to determine whether you have permission to use the models for your use case.\n",
      " The model you have requested was pre-trained on the coco dataset, published under the following terms: https://cocodataset.org/#termsofuse\n",
      "[2024-09-24 05:39:32] INFO - checkpoint_utils.py - License Notification: YOLO-NAS pre-trained weights are subjected to the specific license terms and conditions detailed in \n",
      "https://github.com/Deci-AI/super-gradients/blob/master/LICENSE.YOLONAS.md\n",
      "By downloading the pre-trained weight files you agree to comply with these terms.\n",
      "Downloading: \"https://sghub.deci.ai/models/yolo_nas_l_coco.pth\" to /root/.cache/torch/hub/checkpoints/yolo_nas_l_coco.pth\n",
      "100%|██████████| 256M/256M [00:01<00:00, 249MB/s]\n",
      "[2024-09-24 05:39:34] INFO - checkpoint_utils.py - Successfully loaded pretrained weights for architecture yolo_nas_l\n"
     ]
    }
   ],
   "source": [
    "from super_gradients.training import models\n",
    "\n",
    "model = models.get(MODEL_ARCH, pretrained_weights=\"coco\").to(DEVICE)"
   ]
  },
  {
   "cell_type": "code",
   "execution_count": 5,
   "id": "c56fc24c",
   "metadata": {
    "execution": {
     "iopub.execute_input": "2024-09-24T05:39:35.074596Z",
     "iopub.status.busy": "2024-09-24T05:39:35.073949Z",
     "iopub.status.idle": "2024-09-24T05:40:09.151425Z",
     "shell.execute_reply": "2024-09-24T05:40:09.150971Z"
    },
    "id": "clSaBPhCi2v3",
    "outputId": "ac5ebc7e-f1fa-4edb-b397-4d58af52d978",
    "papermill": {
     "duration": 34.091254,
     "end_time": "2024-09-24T05:40:09.153833",
     "exception": false,
     "start_time": "2024-09-24T05:39:35.062579",
     "status": "completed"
    },
    "tags": []
   },
   "outputs": [
    {
     "name": "stdout",
     "output_type": "stream",
     "text": [
      "/kaggle/working\n"
     ]
    },
    {
     "name": "stderr",
     "output_type": "stream",
     "text": [
      "/opt/conda/lib/python3.10/pty.py:89: RuntimeWarning: os.fork() was called. os.fork() is incompatible with multithreaded code, and JAX is multithreaded, so this will likely lead to a deadlock.\n",
      "  pid, fd = os.forkpty()\n"
     ]
    },
    {
     "name": "stdout",
     "output_type": "stream",
     "text": [
      "Requirement already satisfied: roboflow in /opt/conda/lib/python3.10/site-packages (1.1.45)\r\n",
      "Requirement already satisfied: certifi in /opt/conda/lib/python3.10/site-packages (from roboflow) (2024.7.4)\r\n",
      "Requirement already satisfied: idna==3.7 in /opt/conda/lib/python3.10/site-packages (from roboflow) (3.7)\r\n",
      "Requirement already satisfied: cycler in /opt/conda/lib/python3.10/site-packages (from roboflow) (0.12.1)\r\n",
      "Requirement already satisfied: kiwisolver>=1.3.1 in /opt/conda/lib/python3.10/site-packages (from roboflow) (1.4.5)\r\n",
      "Requirement already satisfied: matplotlib in /opt/conda/lib/python3.10/site-packages (from roboflow) (3.7.5)\r\n",
      "Requirement already satisfied: numpy>=1.18.5 in /opt/conda/lib/python3.10/site-packages (from roboflow) (1.26.4)\r\n",
      "Requirement already satisfied: opencv-python-headless==4.10.0.84 in /opt/conda/lib/python3.10/site-packages (from roboflow) (4.10.0.84)\r\n",
      "Requirement already satisfied: Pillow>=7.1.2 in /opt/conda/lib/python3.10/site-packages (from roboflow) (10.4.0)\r\n",
      "Requirement already satisfied: python-dateutil in /opt/conda/lib/python3.10/site-packages (from roboflow) (2.9.0.post0)\r\n",
      "Requirement already satisfied: python-dotenv in /opt/conda/lib/python3.10/site-packages (from roboflow) (1.0.1)\r\n",
      "Requirement already satisfied: requests in /opt/conda/lib/python3.10/site-packages (from roboflow) (2.32.3)\r\n",
      "Requirement already satisfied: six in /opt/conda/lib/python3.10/site-packages (from roboflow) (1.16.0)\r\n",
      "Requirement already satisfied: urllib3>=1.26.6 in /opt/conda/lib/python3.10/site-packages (from roboflow) (1.26.18)\r\n",
      "Requirement already satisfied: tqdm>=4.41.0 in /opt/conda/lib/python3.10/site-packages (from roboflow) (4.66.4)\r\n",
      "Requirement already satisfied: PyYAML>=5.3.1 in /opt/conda/lib/python3.10/site-packages (from roboflow) (6.0.2)\r\n",
      "Requirement already satisfied: requests-toolbelt in /opt/conda/lib/python3.10/site-packages (from roboflow) (0.10.1)\r\n",
      "Requirement already satisfied: filetype in /opt/conda/lib/python3.10/site-packages (from roboflow) (1.2.0)\r\n",
      "Requirement already satisfied: contourpy>=1.0.1 in /opt/conda/lib/python3.10/site-packages (from matplotlib->roboflow) (1.2.1)\r\n",
      "Requirement already satisfied: fonttools>=4.22.0 in /opt/conda/lib/python3.10/site-packages (from matplotlib->roboflow) (4.53.0)\r\n",
      "Requirement already satisfied: packaging>=20.0 in /opt/conda/lib/python3.10/site-packages (from matplotlib->roboflow) (21.3)\r\n",
      "Requirement already satisfied: pyparsing>=2.3.1 in /opt/conda/lib/python3.10/site-packages (from matplotlib->roboflow) (3.1.2)\r\n",
      "Requirement already satisfied: charset-normalizer<4,>=2 in /opt/conda/lib/python3.10/site-packages (from requests->roboflow) (3.3.2)\r\n",
      "Requirement already satisfied: roboflow in /opt/conda/lib/python3.10/site-packages (1.1.45)\r\n",
      "Requirement already satisfied: certifi in /opt/conda/lib/python3.10/site-packages (from roboflow) (2024.7.4)\r\n",
      "Requirement already satisfied: idna==3.7 in /opt/conda/lib/python3.10/site-packages (from roboflow) (3.7)\r\n",
      "Requirement already satisfied: cycler in /opt/conda/lib/python3.10/site-packages (from roboflow) (0.12.1)\r\n",
      "Requirement already satisfied: kiwisolver>=1.3.1 in /opt/conda/lib/python3.10/site-packages (from roboflow) (1.4.5)\r\n",
      "Requirement already satisfied: matplotlib in /opt/conda/lib/python3.10/site-packages (from roboflow) (3.7.5)\r\n",
      "Requirement already satisfied: numpy>=1.18.5 in /opt/conda/lib/python3.10/site-packages (from roboflow) (1.26.4)\r\n",
      "Requirement already satisfied: opencv-python-headless==4.10.0.84 in /opt/conda/lib/python3.10/site-packages (from roboflow) (4.10.0.84)\r\n",
      "Requirement already satisfied: Pillow>=7.1.2 in /opt/conda/lib/python3.10/site-packages (from roboflow) (10.4.0)\r\n",
      "Requirement already satisfied: python-dateutil in /opt/conda/lib/python3.10/site-packages (from roboflow) (2.9.0.post0)\r\n",
      "Requirement already satisfied: python-dotenv in /opt/conda/lib/python3.10/site-packages (from roboflow) (1.0.1)\r\n",
      "Requirement already satisfied: requests in /opt/conda/lib/python3.10/site-packages (from roboflow) (2.32.3)\r\n",
      "Requirement already satisfied: six in /opt/conda/lib/python3.10/site-packages (from roboflow) (1.16.0)\r\n",
      "Requirement already satisfied: urllib3>=1.26.6 in /opt/conda/lib/python3.10/site-packages (from roboflow) (1.26.18)\r\n",
      "Requirement already satisfied: tqdm>=4.41.0 in /opt/conda/lib/python3.10/site-packages (from roboflow) (4.66.4)\r\n",
      "Requirement already satisfied: PyYAML>=5.3.1 in /opt/conda/lib/python3.10/site-packages (from roboflow) (6.0.2)\r\n",
      "Requirement already satisfied: requests-toolbelt in /opt/conda/lib/python3.10/site-packages (from roboflow) (0.10.1)\r\n",
      "Requirement already satisfied: filetype in /opt/conda/lib/python3.10/site-packages (from roboflow) (1.2.0)\r\n",
      "Requirement already satisfied: contourpy>=1.0.1 in /opt/conda/lib/python3.10/site-packages (from matplotlib->roboflow) (1.2.1)\r\n",
      "Requirement already satisfied: fonttools>=4.22.0 in /opt/conda/lib/python3.10/site-packages (from matplotlib->roboflow) (4.53.0)\r\n",
      "Requirement already satisfied: packaging>=20.0 in /opt/conda/lib/python3.10/site-packages (from matplotlib->roboflow) (21.3)\r\n",
      "Requirement already satisfied: pyparsing>=2.3.1 in /opt/conda/lib/python3.10/site-packages (from matplotlib->roboflow) (3.1.2)\r\n",
      "Requirement already satisfied: charset-normalizer<4,>=2 in /opt/conda/lib/python3.10/site-packages (from requests->roboflow) (3.3.2)\r\n",
      "loading Roboflow workspace...\n",
      "loading Roboflow project...\n"
     ]
    },
    {
     "name": "stderr",
     "output_type": "stream",
     "text": [
      "Downloading Dataset Version Zip in Fighter-Jet2-1 to yolov5pytorch:: 100%|██████████| 181237/181237 [00:04<00:00, 37972.59it/s]\n",
      "Extracting Dataset Version Zip to Fighter-Jet2-1 in yolov5pytorch::   9%|▉         | 683/7696 [00:00<00:01, 6823.74it/s]"
     ]
    },
    {
     "name": "stdout",
     "output_type": "stream",
     "text": [
      "\n"
     ]
    },
    {
     "name": "stderr",
     "output_type": "stream",
     "text": [
      "Extracting Dataset Version Zip to Fighter-Jet2-1 in yolov5pytorch::  78%|███████▊  | 6006/7696 [00:00<00:00, 8426.93it/s]"
     ]
    }
   ],
   "source": [
    "%cd {HOME}\n",
    "\n",
    "!pip install roboflow\n",
    "\n",
    "!pip install roboflow\n",
    "\n",
    "from roboflow import Roboflow\n",
    "rf = Roboflow(api_key=\"OX5LGF0zNUWp6nV9jsTi\")\n",
    "project = rf.workspace(\"husseinkhan\").project(\"fighter-jet2\")\n",
    "version = project.version(1)\n",
    "dataset = version.download(\"yolov5\")"
   ]
  },
  {
   "cell_type": "code",
   "execution_count": 6,
   "id": "ecffb7a9",
   "metadata": {
    "execution": {
     "iopub.execute_input": "2024-09-24T05:40:09.181068Z",
     "iopub.status.busy": "2024-09-24T05:40:09.180656Z",
     "iopub.status.idle": "2024-09-24T05:40:09.184579Z",
     "shell.execute_reply": "2024-09-24T05:40:09.184305Z"
    },
    "id": "y6IjTSfetvTl",
    "outputId": "f0a6a95a-318c-41e8-8980-aae2c2ef7a06",
    "papermill": {
     "duration": 0.020081,
     "end_time": "2024-09-24T05:40:09.186628",
     "exception": false,
     "start_time": "2024-09-24T05:40:09.166547",
     "status": "completed"
    },
    "tags": []
   },
   "outputs": [],
   "source": [
    "LOCATION = dataset.location\n",
    "print(\"location:\", LOCATION)\n",
    "CLASSES = sorted(project.classes.keys())\n",
    "print(\"classes:\", CLASSES)"
   ]
  },
  {
   "cell_type": "code",
   "execution_count": 7,
   "id": "5c682546",
   "metadata": {
    "execution": {
     "iopub.execute_input": "2024-09-24T05:40:09.213199Z",
     "iopub.status.busy": "2024-09-24T05:40:09.212914Z",
     "iopub.status.idle": "2024-09-24T05:40:09.215791Z",
     "shell.execute_reply": "2024-09-24T05:40:09.215542Z"
    },
    "id": "pCW34CVDHuKr",
    "papermill": {
     "duration": 0.018816,
     "end_time": "2024-09-24T05:40:09.218181",
     "exception": false,
     "start_time": "2024-09-24T05:40:09.199365",
     "status": "completed"
    },
    "tags": []
   },
   "outputs": [],
   "source": [
    "MODEL_ARCH = 'yolo_nas_l'\n",
    "BATCH_SIZE = 8\n",
    "MAX_EPOCHS = 25\n",
    "CHECKPOINT_DIR = f'{HOME}/checkpoints'\n",
    "EXPERIMENT_NAME = project.name.lower().replace(\" \", \"_\")"
   ]
  },
  {
   "cell_type": "code",
   "execution_count": 8,
   "id": "afd6ca6a",
   "metadata": {
    "execution": {
     "iopub.execute_input": "2024-09-24T05:40:09.245498Z",
     "iopub.status.busy": "2024-09-24T05:40:09.245198Z",
     "iopub.status.idle": "2024-09-24T05:40:09.254808Z",
     "shell.execute_reply": "2024-09-24T05:40:09.254497Z"
    },
    "id": "sGBOHyPc11LA",
    "papermill": {
     "duration": 0.025902,
     "end_time": "2024-09-24T05:40:09.256822",
     "exception": false,
     "start_time": "2024-09-24T05:40:09.230920",
     "status": "completed"
    },
    "tags": []
   },
   "outputs": [],
   "source": [
    "from super_gradients.training import Trainer\n",
    "\n",
    "trainer = Trainer(experiment_name=EXPERIMENT_NAME, ckpt_root_dir=CHECKPOINT_DIR)"
   ]
  },
  {
   "cell_type": "code",
   "execution_count": 9,
   "id": "8b234b38",
   "metadata": {
    "execution": {
     "iopub.execute_input": "2024-09-24T05:40:09.283970Z",
     "iopub.status.busy": "2024-09-24T05:40:09.283252Z",
     "iopub.status.idle": "2024-09-24T05:40:09.286473Z",
     "shell.execute_reply": "2024-09-24T05:40:09.286183Z"
    },
    "id": "0K0strkSsae3",
    "papermill": {
     "duration": 0.019151,
     "end_time": "2024-09-24T05:40:09.288818",
     "exception": false,
     "start_time": "2024-09-24T05:40:09.269667",
     "status": "completed"
    },
    "tags": []
   },
   "outputs": [],
   "source": [
    "dataset_params = {\n",
    "    'data_dir': LOCATION,\n",
    "    'train_images_dir':'train/images',\n",
    "    'train_labels_dir':'train/labels',\n",
    "    'val_images_dir':'valid/images',\n",
    "    'val_labels_dir':'valid/labels',\n",
    "    'test_images_dir':'test/images',\n",
    "    'test_labels_dir':'test/labels',\n",
    "    'classes': CLASSES\n",
    "}"
   ]
  },
  {
   "cell_type": "code",
   "execution_count": 10,
   "id": "94918d8e",
   "metadata": {
    "execution": {
     "iopub.execute_input": "2024-09-24T05:40:09.315576Z",
     "iopub.status.busy": "2024-09-24T05:40:09.315291Z",
     "iopub.status.idle": "2024-09-24T05:40:10.678339Z",
     "shell.execute_reply": "2024-09-24T05:40:10.678014Z"
    },
    "id": "INjHea8ptAtQ",
    "outputId": "b45c3445-a1a4-4713-84d8-f94506b4b156",
    "papermill": {
     "duration": 1.378683,
     "end_time": "2024-09-24T05:40:10.680448",
     "exception": false,
     "start_time": "2024-09-24T05:40:09.301765",
     "status": "completed"
    },
    "tags": []
   },
   "outputs": [
    {
     "name": "stderr",
     "output_type": "stream",
     "text": [
      "[2024-09-24 05:40:09] INFO - detection_dataset.py - Dataset Initialization in progress. `cache_annotations=True` causes the process to take longer due to full dataset indexing.\n",
      "Indexing dataset annotations: 100%|██████████| 2689/2689 [00:00<00:00, 5473.53it/s]\n",
      "[2024-09-24 05:40:10] INFO - detection_dataset.py - Dataset Initialization in progress. `cache_annotations=True` causes the process to take longer due to full dataset indexing.\n",
      "Indexing dataset annotations: 100%|██████████| 769/769 [00:00<00:00, 5584.89it/s]\n",
      "[2024-09-24 05:40:10] INFO - detection_dataset.py - Dataset Initialization in progress. `cache_annotations=True` causes the process to take longer due to full dataset indexing.\n"
     ]
    }
   ],
   "source": [
    "from super_gradients.training.dataloaders.dataloaders import (\n",
    "    coco_detection_yolo_format_train, coco_detection_yolo_format_val)\n",
    "\n",
    "train_data = coco_detection_yolo_format_train(\n",
    "    dataset_params={\n",
    "        'data_dir': dataset_params['data_dir'],\n",
    "        'images_dir': dataset_params['train_images_dir'],\n",
    "        'labels_dir': dataset_params['train_labels_dir'],\n",
    "        'classes': dataset_params['classes']\n",
    "    },\n",
    "    dataloader_params={\n",
    "        'batch_size': BATCH_SIZE,\n",
    "        'num_workers': 2\n",
    "    }\n",
    ")\n",
    "\n",
    "val_data = coco_detection_yolo_format_val(\n",
    "    dataset_params={\n",
    "        'data_dir': dataset_params['data_dir'],\n",
    "        'images_dir': dataset_params['val_images_dir'],\n",
    "        'labels_dir': dataset_params['val_labels_dir'],\n",
    "        'classes': dataset_params['classes']\n",
    "    },\n",
    "    dataloader_params={\n",
    "        'batch_size': BATCH_SIZE,\n",
    "        'num_workers': 2\n",
    "    }\n",
    ")\n",
    "\n",
    "test_data = coco_detection_yolo_format_val(\n",
    "    dataset_params={\n",
    "        'data_dir': dataset_params['data_dir'],\n",
    "        'images_dir': dataset_params['test_images_dir'],\n",
    "        'labels_dir': dataset_params['test_labels_dir'],\n",
    "        'classes': dataset_params['classes']\n",
    "    },\n",
    "    dataloader_params={\n",
    "        'batch_size': BATCH_SIZE,\n",
    "        'num_workers': 2\n",
    "    }\n",
    ")"
   ]
  },
  {
   "cell_type": "markdown",
   "id": "b5addac4",
   "metadata": {
    "id": "Yyo084RCO_6D",
    "papermill": {
     "duration": 0.0133,
     "end_time": "2024-09-24T05:40:10.707102",
     "exception": false,
     "start_time": "2024-09-24T05:40:10.693802",
     "status": "completed"
    },
    "tags": []
   },
   "source": [
    "**NOTE:** Let's inspect our dataset"
   ]
  },
  {
   "cell_type": "code",
   "execution_count": 11,
   "id": "85e40665",
   "metadata": {
    "execution": {
     "iopub.execute_input": "2024-09-24T05:40:10.734634Z",
     "iopub.status.busy": "2024-09-24T05:40:10.734324Z",
     "iopub.status.idle": "2024-09-24T05:40:10.739313Z",
     "shell.execute_reply": "2024-09-24T05:40:10.739046Z"
    },
    "id": "bhgnHgJIw48k",
    "papermill": {
     "duration": 0.022458,
     "end_time": "2024-09-24T05:40:10.742648",
     "exception": false,
     "start_time": "2024-09-24T05:40:10.720190",
     "status": "completed"
    },
    "tags": []
   },
   "outputs": [
    {
     "data": {
      "text/plain": [
       "[<super_gradients.training.transforms.transforms.DetectionMosaic at 0x7d7ae8297280>,\n",
       " <super_gradients.training.transforms.transforms.DetectionRandomAffine at 0x7d7ae82974c0>,\n",
       " <super_gradients.training.transforms.transforms.DetectionMixup at 0x7d7ae8297220>,\n",
       " <super_gradients.training.transforms.transforms.DetectionHSV at 0x7d7ae82971f0>,\n",
       " <super_gradients.training.transforms.transforms.DetectionHorizontalFlip at 0x7d7ae82972e0>,\n",
       " <super_gradients.training.transforms.transforms.DetectionPaddedRescale at 0x7d7ae8294ac0>,\n",
       " <super_gradients.training.transforms.transforms.DetectionTargetsFormatTransform at 0x7d7ae8294940>]"
      ]
     },
     "execution_count": 11,
     "metadata": {},
     "output_type": "execute_result"
    }
   ],
   "source": [
    "train_data.dataset.transforms"
   ]
  },
  {
   "cell_type": "markdown",
   "id": "5b0c24c6",
   "metadata": {
    "id": "0QOZ87k9PxIo",
    "papermill": {
     "duration": 0.013255,
     "end_time": "2024-09-24T05:40:10.769051",
     "exception": false,
     "start_time": "2024-09-24T05:40:10.755796",
     "status": "completed"
    },
    "tags": []
   },
   "source": [
    "### Instantiate the model"
   ]
  },
  {
   "cell_type": "code",
   "execution_count": 12,
   "id": "000e9be0",
   "metadata": {
    "execution": {
     "iopub.execute_input": "2024-09-24T05:40:10.796692Z",
     "iopub.status.busy": "2024-09-24T05:40:10.796386Z",
     "iopub.status.idle": "2024-09-24T05:40:12.022078Z",
     "shell.execute_reply": "2024-09-24T05:40:12.021684Z"
    },
    "id": "GyijtlTLxAsU",
    "outputId": "1b0c6f3e-4e28-48b1-b559-508dd7a20b82",
    "papermill": {
     "duration": 1.242197,
     "end_time": "2024-09-24T05:40:12.024474",
     "exception": false,
     "start_time": "2024-09-24T05:40:10.782277",
     "status": "completed"
    },
    "tags": []
   },
   "outputs": [
    {
     "name": "stderr",
     "output_type": "stream",
     "text": [
      "[2024-09-24 05:40:11] WARNING - checkpoint_utils.py - :warning: The pre-trained models provided by SuperGradients may have their own licenses or terms and conditions derived from the dataset used for pre-training.\n",
      " It is your responsibility to determine whether you have permission to use the models for your use case.\n",
      " The model you have requested was pre-trained on the coco dataset, published under the following terms: https://cocodataset.org/#termsofuse\n",
      "[2024-09-24 05:40:11] INFO - checkpoint_utils.py - License Notification: YOLO-NAS pre-trained weights are subjected to the specific license terms and conditions detailed in \n",
      "https://github.com/Deci-AI/super-gradients/blob/master/LICENSE.YOLONAS.md\n",
      "By downloading the pre-trained weight files you agree to comply with these terms.\n",
      "[2024-09-24 05:40:11] INFO - checkpoint_utils.py - Successfully loaded pretrained weights for architecture yolo_nas_l\n"
     ]
    }
   ],
   "source": [
    "from super_gradients.training import models\n",
    "\n",
    "model = models.get(\n",
    "    MODEL_ARCH,\n",
    "    num_classes=len(dataset_params['classes']),\n",
    "    pretrained_weights=\"coco\"\n",
    ")"
   ]
  },
  {
   "cell_type": "markdown",
   "id": "b606a1c5",
   "metadata": {
    "id": "YTr4yUNyPOQt",
    "papermill": {
     "duration": 0.016477,
     "end_time": "2024-09-24T05:40:12.058154",
     "exception": false,
     "start_time": "2024-09-24T05:40:12.041677",
     "status": "completed"
    },
    "tags": []
   },
   "source": [
    "### Define metrics and training parameters"
   ]
  },
  {
   "cell_type": "code",
   "execution_count": 13,
   "id": "7273a3ba",
   "metadata": {
    "execution": {
     "iopub.execute_input": "2024-09-24T05:40:12.087534Z",
     "iopub.status.busy": "2024-09-24T05:40:12.086688Z",
     "iopub.status.idle": "2024-09-24T05:40:12.096103Z",
     "shell.execute_reply": "2024-09-24T05:40:12.095771Z"
    },
    "id": "9zwM8lqxyjbm",
    "papermill": {
     "duration": 0.026283,
     "end_time": "2024-09-24T05:40:12.098112",
     "exception": false,
     "start_time": "2024-09-24T05:40:12.071829",
     "status": "completed"
    },
    "tags": []
   },
   "outputs": [],
   "source": [
    "from super_gradients.training.losses import PPYoloELoss\n",
    "from super_gradients.training.metrics import DetectionMetrics_050\n",
    "from super_gradients.training.models.detection_models.pp_yolo_e import PPYoloEPostPredictionCallback\n",
    "\n",
    "train_params = {\n",
    "    'silent_mode': False,\n",
    "    \"average_best_models\":True,\n",
    "    \"warmup_mode\": \"linear_epoch_step\",\n",
    "    \"warmup_initial_lr\": 1e-6,\n",
    "    \"lr_warmup_epochs\": 3,\n",
    "    \"initial_lr\": 5e-4,\n",
    "    \"lr_mode\": \"cosine\",\n",
    "    \"cosine_final_lr_ratio\": 0.1,\n",
    "    \"optimizer\": \"Adam\",\n",
    "    \"optimizer_params\": {\"weight_decay\": 0.0001},\n",
    "    \"zero_weight_decay_on_bias_and_bn\": True,\n",
    "    \"ema\": True,\n",
    "    \"ema_params\": {\"decay\": 0.9, \"decay_type\": \"threshold\"},\n",
    "    \"max_epochs\": MAX_EPOCHS,\n",
    "    \"mixed_precision\": True,\n",
    "    \"loss\": PPYoloELoss(\n",
    "        use_static_assigner=False,\n",
    "        num_classes=len(dataset_params['classes']),\n",
    "        reg_max=16\n",
    "    ),\n",
    "    \"valid_metrics_list\": [\n",
    "        DetectionMetrics_050(\n",
    "            score_thres=0.1,\n",
    "            top_k_predictions=300,\n",
    "            num_cls=len(dataset_params['classes']),\n",
    "            normalize_targets=True,\n",
    "            post_prediction_callback=PPYoloEPostPredictionCallback(\n",
    "                score_threshold=0.01,\n",
    "                nms_top_k=1000,\n",
    "                max_predictions=300,\n",
    "                nms_threshold=0.7\n",
    "            )\n",
    "        )\n",
    "    ],\n",
    "    \"metric_to_watch\": 'mAP@0.50'\n",
    "}"
   ]
  },
  {
   "cell_type": "markdown",
   "id": "6bdc9cfe",
   "metadata": {
    "id": "yHKsBDTlPk1d",
    "papermill": {
     "duration": 0.0156,
     "end_time": "2024-09-24T05:40:12.127737",
     "exception": false,
     "start_time": "2024-09-24T05:40:12.112137",
     "status": "completed"
    },
    "tags": []
   },
   "source": [
    "### Train the model"
   ]
  },
  {
   "cell_type": "code",
   "execution_count": 14,
   "id": "a02f1a99",
   "metadata": {
    "_kg_hide-output": true,
    "execution": {
     "iopub.execute_input": "2024-09-24T05:40:12.158831Z",
     "iopub.status.busy": "2024-09-24T05:40:12.157947Z",
     "iopub.status.idle": "2024-09-24T07:25:18.244960Z",
     "shell.execute_reply": "2024-09-24T07:25:18.244464Z"
    },
    "id": "1mz05df_yx9b",
    "papermill": {
     "duration": 6306.105771,
     "end_time": "2024-09-24T07:25:18.247708",
     "exception": false,
     "start_time": "2024-09-24T05:40:12.141937",
     "status": "completed"
    },
    "tags": []
   },
   "outputs": [
    {
     "name": "stderr",
     "output_type": "stream",
     "text": [
      "[2024-09-24 05:40:12] INFO - sg_trainer.py - Starting a new run with `run_id=RUN_20240924_054012_306107`\n",
      "[2024-09-24 05:40:12] INFO - sg_trainer.py - Checkpoints directory: /kaggle/working/checkpoints/fighter_jet2/RUN_20240924_054012_306107\n",
      "[2024-09-24 05:40:12] INFO - sg_trainer.py - Using EMA with params {'decay': 0.9, 'decay_type': 'threshold'}\n"
     ]
    },
    {
     "name": "stdout",
     "output_type": "stream",
     "text": [
      "The console stream is now moved to /kaggle/working/checkpoints/fighter_jet2/RUN_20240924_054012_306107/console_Sep24_05_40_12.txt\n"
     ]
    },
    {
     "name": "stderr",
     "output_type": "stream",
     "text": [
      "Object name `linear_epoch_step` is now deprecated. Please replace it with `LinearEpochLRWarmup`.\n",
      "initialize_param_groups and update_param_groups usages are deprecated since 3.4.0, will be removed in 3.5.0 and have no effect. \n",
      " Assign different learning rates by passing a mapping of layer name prefixes to lr values through initial_lr training hyperparameter (i.e initial_lr={'backbone': 0.01, 'default':0.1})\n",
      "`torch.cuda.amp.GradScaler(args...)` is deprecated. Please use `torch.amp.GradScaler('cuda', args...)` instead.\n",
      "os.fork() was called. os.fork() is incompatible with multithreaded code, and JAX is multithreaded, so this will likely lead to a deadlock.\n",
      "[2024-09-24 05:40:14] INFO - sg_trainer_utils.py - TRAINING PARAMETERS:\n",
      "    - Mode:                         Single GPU\n",
      "    - Number of GPUs:               1          (2 available on the machine)\n",
      "    - Full dataset size:            2675       (len(train_set))\n",
      "    - Batch size per GPU:           8          (batch_size)\n",
      "    - Batch Accumulate:             1          (batch_accumulate)\n",
      "    - Total batch size:             8          (num_gpus * batch_size)\n",
      "    - Effective Batch size:         8          (num_gpus * batch_size * batch_accumulate)\n",
      "    - Iterations per epoch:         334        (len(train_loader))\n",
      "    - Gradient updates per epoch:   334        (len(train_loader) / batch_accumulate)\n",
      "    - Model: YoloNAS_L  (66.92M parameters, 66.92M optimized)\n",
      "    - Learning Rates and Weight Decays:\n",
      "      - default: (66.92M parameters). LR: 0.0005 (66.92M parameters) WD: 0.0, (84.74K parameters), WD: 0.0001, (66.84M parameters)\n",
      "\n",
      "[2024-09-24 05:40:14] INFO - sg_trainer.py - Started training for 25 epochs (0/24)\n",
      "\n",
      "Train epoch 0:   0%|          | 0/334 [00:00<?, ?it/s]`torch.cuda.amp.autocast(args...)` is deprecated. Please use `torch.amp.autocast('cuda', args...)` instead.\n",
      "Train epoch 0: 100%|██████████| 334/334 [03:18<00:00,  1.68it/s, PPYoloELoss/loss=3.52, PPYoloELoss/loss_cls=2.26, PPYoloELoss/loss_dfl=0.622, PPYoloELoss/loss_iou=0.635, gpu_mem=7.56]\n",
      "Validating: 100%|██████████| 96/96 [00:35<00:00,  2.73it/s]\n",
      "[2024-09-24 05:44:11] INFO - base_sg_logger.py - Checkpoint saved in /kaggle/working/checkpoints/fighter_jet2/RUN_20240924_054012_306107/ckpt_best.pth\n",
      "[2024-09-24 05:44:11] INFO - sg_trainer.py - Best checkpoint overriden: validation mAP@0.50: 0.0065743038430809975\n",
      "You are using `torch.load` with `weights_only=False` (the current default value), which uses the default pickle module implicitly. It is possible to construct malicious pickle data which will execute arbitrary code during unpickling (See https://github.com/pytorch/pytorch/blob/main/SECURITY.md#untrusted-models for more details). In a future release, the default value for `weights_only` will be flipped to `True`. This limits the functions that could be executed during unpickling. Arbitrary objects will no longer be allowed to be loaded via this mode unless they are explicitly allowlisted by the user via `torch.serialization.add_safe_globals`. We recommend you start setting `weights_only=True` for any use case where you don't have full control of the loaded file. Please open an issue on GitHub for any issues related to this experimental feature.\n"
     ]
    },
    {
     "name": "stdout",
     "output_type": "stream",
     "text": [
      "===========================================================\n",
      "SUMMARY OF EPOCH 0\n",
      "├── Train\n",
      "│   ├── Ppyoloeloss/loss_cls = 2.262\n",
      "│   ├── Ppyoloeloss/loss_iou = 0.6355\n",
      "│   ├── Ppyoloeloss/loss_dfl = 0.6216\n",
      "│   └── Ppyoloeloss/loss = 3.5191\n",
      "└── Validation\n",
      "    ├── Ppyoloeloss/loss_cls = 2.4634\n",
      "    ├── Ppyoloeloss/loss_iou = 0.425\n",
      "    ├── Ppyoloeloss/loss_dfl = 0.4923\n",
      "    ├── Ppyoloeloss/loss = 3.3806\n",
      "    ├── Precision@0.50 = 0.0076\n",
      "    ├── Recall@0.50 = 0.0009\n",
      "    ├── Map@0.50 = 0.0066\n",
      "    ├── F1@0.50 = 0.0016\n",
      "    └── Best_score_threshold = 0.05\n",
      "\n",
      "===========================================================\n"
     ]
    },
    {
     "name": "stderr",
     "output_type": "stream",
     "text": [
      "Train epoch 1: 100%|██████████| 334/334 [03:17<00:00,  1.70it/s, PPYoloELoss/loss=2.36, PPYoloELoss/loss_cls=1.42, PPYoloELoss/loss_dfl=0.47, PPYoloELoss/loss_iou=0.469, gpu_mem=9.13]\n",
      "Validating epoch 1: 100%|██████████| 96/96 [00:35<00:00,  2.68it/s]\n",
      "[2024-09-24 05:48:09] INFO - base_sg_logger.py - Checkpoint saved in /kaggle/working/checkpoints/fighter_jet2/RUN_20240924_054012_306107/ckpt_best.pth\n",
      "[2024-09-24 05:48:09] INFO - sg_trainer.py - Best checkpoint overriden: validation mAP@0.50: 0.41626977920532227\n"
     ]
    },
    {
     "name": "stdout",
     "output_type": "stream",
     "text": [
      "===========================================================\n",
      "SUMMARY OF EPOCH 1\n",
      "├── Train\n",
      "│   ├── Ppyoloeloss/loss_cls = 1.4175\n",
      "│   │   ├── Epoch N-1      = 2.262  (\u001b[32m↘ -0.8446\u001b[0m)\n",
      "│   │   └── Best until now = 2.262  (\u001b[32m↘ -0.8446\u001b[0m)\n",
      "│   ├── Ppyoloeloss/loss_iou = 0.4686\n",
      "│   │   ├── Epoch N-1      = 0.6355 (\u001b[32m↘ -0.1668\u001b[0m)\n",
      "│   │   └── Best until now = 0.6355 (\u001b[32m↘ -0.1668\u001b[0m)\n",
      "│   ├── Ppyoloeloss/loss_dfl = 0.4704\n",
      "│   │   ├── Epoch N-1      = 0.6216 (\u001b[32m↘ -0.1512\u001b[0m)\n",
      "│   │   └── Best until now = 0.6216 (\u001b[32m↘ -0.1512\u001b[0m)\n",
      "│   └── Ppyoloeloss/loss = 2.3565\n",
      "│       ├── Epoch N-1      = 3.5191 (\u001b[32m↘ -1.1626\u001b[0m)\n",
      "│       └── Best until now = 3.5191 (\u001b[32m↘ -1.1626\u001b[0m)\n",
      "└── Validation\n",
      "    ├── Ppyoloeloss/loss_cls = 1.0903\n",
      "    │   ├── Epoch N-1      = 2.4634 (\u001b[32m↘ -1.3731\u001b[0m)\n",
      "    │   └── Best until now = 2.4634 (\u001b[32m↘ -1.3731\u001b[0m)\n",
      "    ├── Ppyoloeloss/loss_iou = 0.3599\n",
      "    │   ├── Epoch N-1      = 0.425  (\u001b[32m↘ -0.0651\u001b[0m)\n",
      "    │   └── Best until now = 0.425  (\u001b[32m↘ -0.0651\u001b[0m)\n",
      "    ├── Ppyoloeloss/loss_dfl = 0.414\n",
      "    │   ├── Epoch N-1      = 0.4923 (\u001b[32m↘ -0.0783\u001b[0m)\n",
      "    │   └── Best until now = 0.4923 (\u001b[32m↘ -0.0783\u001b[0m)\n",
      "    ├── Ppyoloeloss/loss = 1.8641\n",
      "    │   ├── Epoch N-1      = 3.3806 (\u001b[32m↘ -1.5164\u001b[0m)\n",
      "    │   └── Best until now = 3.3806 (\u001b[32m↘ -1.5164\u001b[0m)\n",
      "    ├── Precision@0.50 = 0.0581\n",
      "    │   ├── Epoch N-1      = 0.0076 (\u001b[32m↗ 0.0505\u001b[0m)\n",
      "    │   └── Best until now = 0.0076 (\u001b[32m↗ 0.0505\u001b[0m)\n",
      "    ├── Recall@0.50 = 0.9791\n",
      "    │   ├── Epoch N-1      = 0.0009 (\u001b[32m↗ 0.9782\u001b[0m)\n",
      "    │   └── Best until now = 0.0009 (\u001b[32m↗ 0.9782\u001b[0m)\n",
      "    ├── Map@0.50 = 0.4163\n",
      "    │   ├── Epoch N-1      = 0.0066 (\u001b[32m↗ 0.4097\u001b[0m)\n",
      "    │   └── Best until now = 0.0066 (\u001b[32m↗ 0.4097\u001b[0m)\n",
      "    ├── F1@0.50 = 0.1089\n",
      "    │   ├── Epoch N-1      = 0.0016 (\u001b[32m↗ 0.1073\u001b[0m)\n",
      "    │   └── Best until now = 0.0016 (\u001b[32m↗ 0.1073\u001b[0m)\n",
      "    └── Best_score_threshold = 0.35\n",
      "        ├── Epoch N-1      = 0.05   (↗ 0.3\u001b[0m)\n",
      "        └── Best until now = 0.05   (↗ 0.3\u001b[0m)\n",
      "\n",
      "===========================================================\n"
     ]
    },
    {
     "name": "stderr",
     "output_type": "stream",
     "text": [
      "Train epoch 2: 100%|██████████| 334/334 [03:17<00:00,  1.69it/s, PPYoloELoss/loss=2.09, PPYoloELoss/loss_cls=1.17, PPYoloELoss/loss_dfl=0.466, PPYoloELoss/loss_iou=0.45, gpu_mem=7.42]\n",
      "Validating epoch 2: 100%|██████████| 96/96 [00:35<00:00,  2.68it/s]\n",
      "[2024-09-24 05:52:17] INFO - base_sg_logger.py - Checkpoint saved in /kaggle/working/checkpoints/fighter_jet2/RUN_20240924_054012_306107/ckpt_best.pth\n",
      "[2024-09-24 05:52:17] INFO - sg_trainer.py - Best checkpoint overriden: validation mAP@0.50: 0.5832196474075317\n"
     ]
    },
    {
     "name": "stdout",
     "output_type": "stream",
     "text": [
      "===========================================================\n",
      "SUMMARY OF EPOCH 2\n",
      "├── Train\n",
      "│   ├── Ppyoloeloss/loss_cls = 1.1715\n",
      "│   │   ├── Epoch N-1      = 1.4175 (\u001b[32m↘ -0.246\u001b[0m)\n",
      "│   │   └── Best until now = 1.4175 (\u001b[32m↘ -0.246\u001b[0m)\n",
      "│   ├── Ppyoloeloss/loss_iou = 0.45\n",
      "│   │   ├── Epoch N-1      = 0.4686 (\u001b[32m↘ -0.0187\u001b[0m)\n",
      "│   │   └── Best until now = 0.4686 (\u001b[32m↘ -0.0187\u001b[0m)\n",
      "│   ├── Ppyoloeloss/loss_dfl = 0.4662\n",
      "│   │   ├── Epoch N-1      = 0.4704 (\u001b[32m↘ -0.0042\u001b[0m)\n",
      "│   │   └── Best until now = 0.4704 (\u001b[32m↘ -0.0042\u001b[0m)\n",
      "│   └── Ppyoloeloss/loss = 2.0877\n",
      "│       ├── Epoch N-1      = 2.3565 (\u001b[32m↘ -0.2689\u001b[0m)\n",
      "│       └── Best until now = 2.3565 (\u001b[32m↘ -0.2689\u001b[0m)\n",
      "└── Validation\n",
      "    ├── Ppyoloeloss/loss_cls = 0.9786\n",
      "    │   ├── Epoch N-1      = 1.0903 (\u001b[32m↘ -0.1116\u001b[0m)\n",
      "    │   └── Best until now = 1.0903 (\u001b[32m↘ -0.1116\u001b[0m)\n",
      "    ├── Ppyoloeloss/loss_iou = 0.3438\n",
      "    │   ├── Epoch N-1      = 0.3599 (\u001b[32m↘ -0.0161\u001b[0m)\n",
      "    │   └── Best until now = 0.3599 (\u001b[32m↘ -0.0161\u001b[0m)\n",
      "    ├── Ppyoloeloss/loss_dfl = 0.4171\n",
      "    │   ├── Epoch N-1      = 0.414  (\u001b[31m↗ 0.0031\u001b[0m)\n",
      "    │   └── Best until now = 0.414  (\u001b[31m↗ 0.0031\u001b[0m)\n",
      "    ├── Ppyoloeloss/loss = 1.7395\n",
      "    │   ├── Epoch N-1      = 1.8641 (\u001b[32m↘ -0.1247\u001b[0m)\n",
      "    │   └── Best until now = 1.8641 (\u001b[32m↘ -0.1247\u001b[0m)\n",
      "    ├── Precision@0.50 = 0.0596\n",
      "    │   ├── Epoch N-1      = 0.0581 (\u001b[32m↗ 0.0015\u001b[0m)\n",
      "    │   └── Best until now = 0.0581 (\u001b[32m↗ 0.0015\u001b[0m)\n",
      "    ├── Recall@0.50 = 0.9818\n",
      "    │   ├── Epoch N-1      = 0.9791 (\u001b[32m↗ 0.0027\u001b[0m)\n",
      "    │   └── Best until now = 0.9791 (\u001b[32m↗ 0.0027\u001b[0m)\n",
      "    ├── Map@0.50 = 0.5832\n",
      "    │   ├── Epoch N-1      = 0.4163 (\u001b[32m↗ 0.1669\u001b[0m)\n",
      "    │   └── Best until now = 0.4163 (\u001b[32m↗ 0.1669\u001b[0m)\n",
      "    ├── F1@0.50 = 0.1108\n",
      "    │   ├── Epoch N-1      = 0.1089 (\u001b[32m↗ 0.0019\u001b[0m)\n",
      "    │   └── Best until now = 0.1089 (\u001b[32m↗ 0.0019\u001b[0m)\n",
      "    └── Best_score_threshold = 0.39\n",
      "        ├── Epoch N-1      = 0.35   (↗ 0.04\u001b[0m)\n",
      "        └── Best until now = 0.05   (↗ 0.34\u001b[0m)\n",
      "\n",
      "===========================================================\n"
     ]
    },
    {
     "name": "stderr",
     "output_type": "stream",
     "text": [
      "Train epoch 3: 100%|██████████| 334/334 [03:17<00:00,  1.69it/s, PPYoloELoss/loss=2.02, PPYoloELoss/loss_cls=1.1, PPYoloELoss/loss_dfl=0.475, PPYoloELoss/loss_iou=0.447, gpu_mem=8.01]\n",
      "Validating epoch 3: 100%|██████████| 96/96 [00:35<00:00,  2.67it/s]\n",
      "[2024-09-24 05:56:22] INFO - base_sg_logger.py - Checkpoint saved in /kaggle/working/checkpoints/fighter_jet2/RUN_20240924_054012_306107/ckpt_best.pth\n",
      "[2024-09-24 05:56:22] INFO - sg_trainer.py - Best checkpoint overriden: validation mAP@0.50: 0.6990818381309509\n"
     ]
    },
    {
     "name": "stdout",
     "output_type": "stream",
     "text": [
      "===========================================================\n",
      "SUMMARY OF EPOCH 3\n",
      "├── Train\n",
      "│   ├── Ppyoloeloss/loss_cls = 1.096\n",
      "│   │   ├── Epoch N-1      = 1.1715 (\u001b[32m↘ -0.0755\u001b[0m)\n",
      "│   │   └── Best until now = 1.1715 (\u001b[32m↘ -0.0755\u001b[0m)\n",
      "│   ├── Ppyoloeloss/loss_iou = 0.4466\n",
      "│   │   ├── Epoch N-1      = 0.45   (\u001b[32m↘ -0.0034\u001b[0m)\n",
      "│   │   └── Best until now = 0.45   (\u001b[32m↘ -0.0034\u001b[0m)\n",
      "│   ├── Ppyoloeloss/loss_dfl = 0.4754\n",
      "│   │   ├── Epoch N-1      = 0.4662 (\u001b[31m↗ 0.0091\u001b[0m)\n",
      "│   │   └── Best until now = 0.4662 (\u001b[31m↗ 0.0091\u001b[0m)\n",
      "│   └── Ppyoloeloss/loss = 2.018\n",
      "│       ├── Epoch N-1      = 2.0877 (\u001b[32m↘ -0.0697\u001b[0m)\n",
      "│       └── Best until now = 2.0877 (\u001b[32m↘ -0.0697\u001b[0m)\n",
      "└── Validation\n",
      "    ├── Ppyoloeloss/loss_cls = 0.8555\n",
      "    │   ├── Epoch N-1      = 0.9786 (\u001b[32m↘ -0.1232\u001b[0m)\n",
      "    │   └── Best until now = 0.9786 (\u001b[32m↘ -0.1232\u001b[0m)\n",
      "    ├── Ppyoloeloss/loss_iou = 0.3422\n",
      "    │   ├── Epoch N-1      = 0.3438 (\u001b[32m↘ -0.0016\u001b[0m)\n",
      "    │   └── Best until now = 0.3438 (\u001b[32m↘ -0.0016\u001b[0m)\n",
      "    ├── Ppyoloeloss/loss_dfl = 0.4318\n",
      "    │   ├── Epoch N-1      = 0.4171 (\u001b[31m↗ 0.0147\u001b[0m)\n",
      "    │   └── Best until now = 0.414  (\u001b[31m↗ 0.0178\u001b[0m)\n",
      "    ├── Ppyoloeloss/loss = 1.6294\n",
      "    │   ├── Epoch N-1      = 1.7395 (\u001b[32m↘ -0.1101\u001b[0m)\n",
      "    │   └── Best until now = 1.7395 (\u001b[32m↘ -0.1101\u001b[0m)\n",
      "    ├── Precision@0.50 = 0.0599\n",
      "    │   ├── Epoch N-1      = 0.0596 (\u001b[32m↗ 0.0002\u001b[0m)\n",
      "    │   └── Best until now = 0.0596 (\u001b[32m↗ 0.0002\u001b[0m)\n",
      "    ├── Recall@0.50 = 0.9923\n",
      "    │   ├── Epoch N-1      = 0.9818 (\u001b[32m↗ 0.0105\u001b[0m)\n",
      "    │   └── Best until now = 0.9818 (\u001b[32m↗ 0.0105\u001b[0m)\n",
      "    ├── Map@0.50 = 0.6991\n",
      "    │   ├── Epoch N-1      = 0.5832 (\u001b[32m↗ 0.1159\u001b[0m)\n",
      "    │   └── Best until now = 0.5832 (\u001b[32m↗ 0.1159\u001b[0m)\n",
      "    ├── F1@0.50 = 0.112\n",
      "    │   ├── Epoch N-1      = 0.1108 (\u001b[32m↗ 0.0012\u001b[0m)\n",
      "    │   └── Best until now = 0.1108 (\u001b[32m↗ 0.0012\u001b[0m)\n",
      "    └── Best_score_threshold = 0.44\n",
      "        ├── Epoch N-1      = 0.39   (↗ 0.05\u001b[0m)\n",
      "        └── Best until now = 0.05   (↗ 0.39\u001b[0m)\n",
      "\n",
      "===========================================================\n"
     ]
    },
    {
     "name": "stderr",
     "output_type": "stream",
     "text": [
      "Train epoch 4: 100%|██████████| 334/334 [03:16<00:00,  1.70it/s, PPYoloELoss/loss=1.92, PPYoloELoss/loss_cls=1.02, PPYoloELoss/loss_dfl=0.467, PPYoloELoss/loss_iou=0.435, gpu_mem=8.78]\n",
      "Validating epoch 4: 100%|██████████| 96/96 [00:36<00:00,  2.66it/s]\n",
      "[2024-09-24 06:00:25] INFO - base_sg_logger.py - Checkpoint saved in /kaggle/working/checkpoints/fighter_jet2/RUN_20240924_054012_306107/ckpt_best.pth\n",
      "[2024-09-24 06:00:25] INFO - sg_trainer.py - Best checkpoint overriden: validation mAP@0.50: 0.7553747296333313\n"
     ]
    },
    {
     "name": "stdout",
     "output_type": "stream",
     "text": [
      "===========================================================\n",
      "SUMMARY OF EPOCH 4\n",
      "├── Train\n",
      "│   ├── Ppyoloeloss/loss_cls = 1.0188\n",
      "│   │   ├── Epoch N-1      = 1.096  (\u001b[32m↘ -0.0772\u001b[0m)\n",
      "│   │   └── Best until now = 1.096  (\u001b[32m↘ -0.0772\u001b[0m)\n",
      "│   ├── Ppyoloeloss/loss_iou = 0.4348\n",
      "│   │   ├── Epoch N-1      = 0.4466 (\u001b[32m↘ -0.0118\u001b[0m)\n",
      "│   │   └── Best until now = 0.4466 (\u001b[32m↘ -0.0118\u001b[0m)\n",
      "│   ├── Ppyoloeloss/loss_dfl = 0.467\n",
      "│   │   ├── Epoch N-1      = 0.4754 (\u001b[32m↘ -0.0084\u001b[0m)\n",
      "│   │   └── Best until now = 0.4662 (\u001b[31m↗ 0.0008\u001b[0m)\n",
      "│   └── Ppyoloeloss/loss = 1.9206\n",
      "│       ├── Epoch N-1      = 2.018  (\u001b[32m↘ -0.0974\u001b[0m)\n",
      "│       └── Best until now = 2.018  (\u001b[32m↘ -0.0974\u001b[0m)\n",
      "└── Validation\n",
      "    ├── Ppyoloeloss/loss_cls = 0.8704\n",
      "    │   ├── Epoch N-1      = 0.8555 (\u001b[31m↗ 0.0149\u001b[0m)\n",
      "    │   └── Best until now = 0.8555 (\u001b[31m↗ 0.0149\u001b[0m)\n",
      "    ├── Ppyoloeloss/loss_iou = 0.3355\n",
      "    │   ├── Epoch N-1      = 0.3422 (\u001b[32m↘ -0.0066\u001b[0m)\n",
      "    │   └── Best until now = 0.3422 (\u001b[32m↘ -0.0066\u001b[0m)\n",
      "    ├── Ppyoloeloss/loss_dfl = 0.4251\n",
      "    │   ├── Epoch N-1      = 0.4318 (\u001b[32m↘ -0.0067\u001b[0m)\n",
      "    │   └── Best until now = 0.414  (\u001b[31m↗ 0.0111\u001b[0m)\n",
      "    ├── Ppyoloeloss/loss = 1.631\n",
      "    │   ├── Epoch N-1      = 1.6294 (\u001b[31m↗ 0.0016\u001b[0m)\n",
      "    │   └── Best until now = 1.6294 (\u001b[31m↗ 0.0016\u001b[0m)\n",
      "    ├── Precision@0.50 = 0.0537\n",
      "    │   ├── Epoch N-1      = 0.0599 (\u001b[31m↘ -0.0062\u001b[0m)\n",
      "    │   └── Best until now = 0.0599 (\u001b[31m↘ -0.0062\u001b[0m)\n",
      "    ├── Recall@0.50 = 0.9899\n",
      "    │   ├── Epoch N-1      = 0.9923 (\u001b[31m↘ -0.0024\u001b[0m)\n",
      "    │   └── Best until now = 0.9923 (\u001b[31m↘ -0.0024\u001b[0m)\n",
      "    ├── Map@0.50 = 0.7554\n",
      "    │   ├── Epoch N-1      = 0.6991 (\u001b[32m↗ 0.0563\u001b[0m)\n",
      "    │   └── Best until now = 0.6991 (\u001b[32m↗ 0.0563\u001b[0m)\n",
      "    ├── F1@0.50 = 0.1004\n",
      "    │   ├── Epoch N-1      = 0.112  (\u001b[31m↘ -0.0116\u001b[0m)\n",
      "    │   └── Best until now = 0.112  (\u001b[31m↘ -0.0116\u001b[0m)\n",
      "    └── Best_score_threshold = 0.44\n",
      "        ├── Epoch N-1      = 0.44   (= 0.0\u001b[0m)\n",
      "        └── Best until now = 0.05   (↗ 0.39\u001b[0m)\n",
      "\n",
      "===========================================================\n"
     ]
    },
    {
     "name": "stderr",
     "output_type": "stream",
     "text": [
      "Train epoch 5: 100%|██████████| 334/334 [03:16<00:00,  1.70it/s, PPYoloELoss/loss=1.87, PPYoloELoss/loss_cls=0.975, PPYoloELoss/loss_dfl=0.464, PPYoloELoss/loss_iou=0.427, gpu_mem=7.54]\n",
      "Validating epoch 5: 100%|██████████| 96/96 [00:35<00:00,  2.67it/s]\n",
      "[2024-09-24 06:04:35] INFO - base_sg_logger.py - Checkpoint saved in /kaggle/working/checkpoints/fighter_jet2/RUN_20240924_054012_306107/ckpt_best.pth\n",
      "[2024-09-24 06:04:35] INFO - sg_trainer.py - Best checkpoint overriden: validation mAP@0.50: 0.792765736579895\n"
     ]
    },
    {
     "name": "stdout",
     "output_type": "stream",
     "text": [
      "===========================================================\n",
      "SUMMARY OF EPOCH 5\n",
      "├── Train\n",
      "│   ├── Ppyoloeloss/loss_cls = 0.975\n",
      "│   │   ├── Epoch N-1      = 1.0188 (\u001b[32m↘ -0.0438\u001b[0m)\n",
      "│   │   └── Best until now = 1.0188 (\u001b[32m↘ -0.0438\u001b[0m)\n",
      "│   ├── Ppyoloeloss/loss_iou = 0.4271\n",
      "│   │   ├── Epoch N-1      = 0.4348 (\u001b[32m↘ -0.0077\u001b[0m)\n",
      "│   │   └── Best until now = 0.4348 (\u001b[32m↘ -0.0077\u001b[0m)\n",
      "│   ├── Ppyoloeloss/loss_dfl = 0.4644\n",
      "│   │   ├── Epoch N-1      = 0.467  (\u001b[32m↘ -0.0026\u001b[0m)\n",
      "│   │   └── Best until now = 0.4662 (\u001b[32m↘ -0.0018\u001b[0m)\n",
      "│   └── Ppyoloeloss/loss = 1.8665\n",
      "│       ├── Epoch N-1      = 1.9206 (\u001b[32m↘ -0.0541\u001b[0m)\n",
      "│       └── Best until now = 1.9206 (\u001b[32m↘ -0.0541\u001b[0m)\n",
      "└── Validation\n",
      "    ├── Ppyoloeloss/loss_cls = 0.8255\n",
      "    │   ├── Epoch N-1      = 0.8704 (\u001b[32m↘ -0.0449\u001b[0m)\n",
      "    │   └── Best until now = 0.8555 (\u001b[32m↘ -0.03\u001b[0m)\n",
      "    ├── Ppyoloeloss/loss_iou = 0.328\n",
      "    │   ├── Epoch N-1      = 0.3355 (\u001b[32m↘ -0.0076\u001b[0m)\n",
      "    │   └── Best until now = 0.3355 (\u001b[32m↘ -0.0076\u001b[0m)\n",
      "    ├── Ppyoloeloss/loss_dfl = 0.4222\n",
      "    │   ├── Epoch N-1      = 0.4251 (\u001b[32m↘ -0.0029\u001b[0m)\n",
      "    │   └── Best until now = 0.414  (\u001b[31m↗ 0.0082\u001b[0m)\n",
      "    ├── Ppyoloeloss/loss = 1.5756\n",
      "    │   ├── Epoch N-1      = 1.631  (\u001b[32m↘ -0.0554\u001b[0m)\n",
      "    │   └── Best until now = 1.6294 (\u001b[32m↘ -0.0538\u001b[0m)\n",
      "    ├── Precision@0.50 = 0.0649\n",
      "    │   ├── Epoch N-1      = 0.0537 (\u001b[32m↗ 0.0112\u001b[0m)\n",
      "    │   └── Best until now = 0.0599 (\u001b[32m↗ 0.005\u001b[0m)\n",
      "    ├── Recall@0.50 = 0.9895\n",
      "    │   ├── Epoch N-1      = 0.9899 (\u001b[31m↘ -0.0003\u001b[0m)\n",
      "    │   └── Best until now = 0.9923 (\u001b[31m↘ -0.0028\u001b[0m)\n",
      "    ├── Map@0.50 = 0.7928\n",
      "    │   ├── Epoch N-1      = 0.7554 (\u001b[32m↗ 0.0374\u001b[0m)\n",
      "    │   └── Best until now = 0.7554 (\u001b[32m↗ 0.0374\u001b[0m)\n",
      "    ├── F1@0.50 = 0.1205\n",
      "    │   ├── Epoch N-1      = 0.1004 (\u001b[32m↗ 0.0201\u001b[0m)\n",
      "    │   └── Best until now = 0.112  (\u001b[32m↗ 0.0085\u001b[0m)\n",
      "    └── Best_score_threshold = 0.44\n",
      "        ├── Epoch N-1      = 0.44   (= 0.0\u001b[0m)\n",
      "        └── Best until now = 0.05   (↗ 0.39\u001b[0m)\n",
      "\n",
      "===========================================================\n"
     ]
    },
    {
     "name": "stderr",
     "output_type": "stream",
     "text": [
      "Train epoch 6: 100%|██████████| 334/334 [03:16<00:00,  1.70it/s, PPYoloELoss/loss=1.81, PPYoloELoss/loss_cls=0.937, PPYoloELoss/loss_dfl=0.456, PPYoloELoss/loss_iou=0.42, gpu_mem=7.74]\n",
      "Validating epoch 6: 100%|██████████| 96/96 [00:35<00:00,  2.67it/s]\n",
      "[2024-09-24 06:08:50] INFO - base_sg_logger.py - Checkpoint saved in /kaggle/working/checkpoints/fighter_jet2/RUN_20240924_054012_306107/ckpt_best.pth\n",
      "[2024-09-24 06:08:50] INFO - sg_trainer.py - Best checkpoint overriden: validation mAP@0.50: 0.8398063778877258\n"
     ]
    },
    {
     "name": "stdout",
     "output_type": "stream",
     "text": [
      "===========================================================\n",
      "SUMMARY OF EPOCH 6\n",
      "├── Train\n",
      "│   ├── Ppyoloeloss/loss_cls = 0.9371\n",
      "│   │   ├── Epoch N-1      = 0.975  (\u001b[32m↘ -0.0379\u001b[0m)\n",
      "│   │   └── Best until now = 0.975  (\u001b[32m↘ -0.0379\u001b[0m)\n",
      "│   ├── Ppyoloeloss/loss_iou = 0.4199\n",
      "│   │   ├── Epoch N-1      = 0.4271 (\u001b[32m↘ -0.0072\u001b[0m)\n",
      "│   │   └── Best until now = 0.4271 (\u001b[32m↘ -0.0072\u001b[0m)\n",
      "│   ├── Ppyoloeloss/loss_dfl = 0.4556\n",
      "│   │   ├── Epoch N-1      = 0.4644 (\u001b[32m↘ -0.0088\u001b[0m)\n",
      "│   │   └── Best until now = 0.4644 (\u001b[32m↘ -0.0088\u001b[0m)\n",
      "│   └── Ppyoloeloss/loss = 1.8126\n",
      "│       ├── Epoch N-1      = 1.8665 (\u001b[32m↘ -0.0539\u001b[0m)\n",
      "│       └── Best until now = 1.8665 (\u001b[32m↘ -0.0539\u001b[0m)\n",
      "└── Validation\n",
      "    ├── Ppyoloeloss/loss_cls = 0.7918\n",
      "    │   ├── Epoch N-1      = 0.8255 (\u001b[32m↘ -0.0337\u001b[0m)\n",
      "    │   └── Best until now = 0.8255 (\u001b[32m↘ -0.0337\u001b[0m)\n",
      "    ├── Ppyoloeloss/loss_iou = 0.322\n",
      "    │   ├── Epoch N-1      = 0.328  (\u001b[32m↘ -0.006\u001b[0m)\n",
      "    │   └── Best until now = 0.328  (\u001b[32m↘ -0.006\u001b[0m)\n",
      "    ├── Ppyoloeloss/loss_dfl = 0.4197\n",
      "    │   ├── Epoch N-1      = 0.4222 (\u001b[32m↘ -0.0025\u001b[0m)\n",
      "    │   └── Best until now = 0.414  (\u001b[31m↗ 0.0057\u001b[0m)\n",
      "    ├── Ppyoloeloss/loss = 1.5334\n",
      "    │   ├── Epoch N-1      = 1.5756 (\u001b[32m↘ -0.0422\u001b[0m)\n",
      "    │   └── Best until now = 1.5756 (\u001b[32m↘ -0.0422\u001b[0m)\n",
      "    ├── Precision@0.50 = 0.0591\n",
      "    │   ├── Epoch N-1      = 0.0649 (\u001b[31m↘ -0.0058\u001b[0m)\n",
      "    │   └── Best until now = 0.0649 (\u001b[31m↘ -0.0058\u001b[0m)\n",
      "    ├── Recall@0.50 = 0.9922\n",
      "    │   ├── Epoch N-1      = 0.9895 (\u001b[32m↗ 0.0027\u001b[0m)\n",
      "    │   └── Best until now = 0.9923 (\u001b[31m↘ -0.0001\u001b[0m)\n",
      "    ├── Map@0.50 = 0.8398\n",
      "    │   ├── Epoch N-1      = 0.7928 (\u001b[32m↗ 0.047\u001b[0m)\n",
      "    │   └── Best until now = 0.7928 (\u001b[32m↗ 0.047\u001b[0m)\n",
      "    ├── F1@0.50 = 0.11\n",
      "    │   ├── Epoch N-1      = 0.1205 (\u001b[31m↘ -0.0105\u001b[0m)\n",
      "    │   └── Best until now = 0.1205 (\u001b[31m↘ -0.0105\u001b[0m)\n",
      "    └── Best_score_threshold = 0.47\n",
      "        ├── Epoch N-1      = 0.44   (↗ 0.03\u001b[0m)\n",
      "        └── Best until now = 0.05   (↗ 0.42\u001b[0m)\n",
      "\n",
      "===========================================================\n"
     ]
    },
    {
     "name": "stderr",
     "output_type": "stream",
     "text": [
      "Train epoch 7: 100%|██████████| 334/334 [03:17<00:00,  1.69it/s, PPYoloELoss/loss=1.77, PPYoloELoss/loss_cls=0.905, PPYoloELoss/loss_dfl=0.45, PPYoloELoss/loss_iou=0.416, gpu_mem=8.15]\n",
      "Validating epoch 7: 100%|██████████| 96/96 [00:35<00:00,  2.67it/s]\n",
      "[2024-09-24 06:12:55] INFO - base_sg_logger.py - Checkpoint saved in /kaggle/working/checkpoints/fighter_jet2/RUN_20240924_054012_306107/ckpt_best.pth\n",
      "[2024-09-24 06:12:55] INFO - sg_trainer.py - Best checkpoint overriden: validation mAP@0.50: 0.8527415990829468\n"
     ]
    },
    {
     "name": "stdout",
     "output_type": "stream",
     "text": [
      "===========================================================\n",
      "SUMMARY OF EPOCH 7\n",
      "├── Train\n",
      "│   ├── Ppyoloeloss/loss_cls = 0.9046\n",
      "│   │   ├── Epoch N-1      = 0.9371 (\u001b[32m↘ -0.0324\u001b[0m)\n",
      "│   │   └── Best until now = 0.9371 (\u001b[32m↘ -0.0324\u001b[0m)\n",
      "│   ├── Ppyoloeloss/loss_iou = 0.4158\n",
      "│   │   ├── Epoch N-1      = 0.4199 (\u001b[32m↘ -0.0042\u001b[0m)\n",
      "│   │   └── Best until now = 0.4199 (\u001b[32m↘ -0.0042\u001b[0m)\n",
      "│   ├── Ppyoloeloss/loss_dfl = 0.45\n",
      "│   │   ├── Epoch N-1      = 0.4556 (\u001b[32m↘ -0.0056\u001b[0m)\n",
      "│   │   └── Best until now = 0.4556 (\u001b[32m↘ -0.0056\u001b[0m)\n",
      "│   └── Ppyoloeloss/loss = 1.7704\n",
      "│       ├── Epoch N-1      = 1.8126 (\u001b[32m↘ -0.0422\u001b[0m)\n",
      "│       └── Best until now = 1.8126 (\u001b[32m↘ -0.0422\u001b[0m)\n",
      "└── Validation\n",
      "    ├── Ppyoloeloss/loss_cls = 0.7522\n",
      "    │   ├── Epoch N-1      = 0.7918 (\u001b[32m↘ -0.0396\u001b[0m)\n",
      "    │   └── Best until now = 0.7918 (\u001b[32m↘ -0.0396\u001b[0m)\n",
      "    ├── Ppyoloeloss/loss_iou = 0.3212\n",
      "    │   ├── Epoch N-1      = 0.322  (\u001b[32m↘ -0.0008\u001b[0m)\n",
      "    │   └── Best until now = 0.322  (\u001b[32m↘ -0.0008\u001b[0m)\n",
      "    ├── Ppyoloeloss/loss_dfl = 0.413\n",
      "    │   ├── Epoch N-1      = 0.4197 (\u001b[32m↘ -0.0066\u001b[0m)\n",
      "    │   └── Best until now = 0.414  (\u001b[32m↘ -0.001\u001b[0m)\n",
      "    ├── Ppyoloeloss/loss = 1.4864\n",
      "    │   ├── Epoch N-1      = 1.5334 (\u001b[32m↘ -0.047\u001b[0m)\n",
      "    │   └── Best until now = 1.5334 (\u001b[32m↘ -0.047\u001b[0m)\n",
      "    ├── Precision@0.50 = 0.0675\n",
      "    │   ├── Epoch N-1      = 0.0591 (\u001b[32m↗ 0.0084\u001b[0m)\n",
      "    │   └── Best until now = 0.0649 (\u001b[32m↗ 0.0026\u001b[0m)\n",
      "    ├── Recall@0.50 = 0.9917\n",
      "    │   ├── Epoch N-1      = 0.9922 (\u001b[31m↘ -0.0005\u001b[0m)\n",
      "    │   └── Best until now = 0.9923 (\u001b[31m↘ -0.0006\u001b[0m)\n",
      "    ├── Map@0.50 = 0.8527\n",
      "    │   ├── Epoch N-1      = 0.8398 (\u001b[32m↗ 0.0129\u001b[0m)\n",
      "    │   └── Best until now = 0.8398 (\u001b[32m↗ 0.0129\u001b[0m)\n",
      "    ├── F1@0.50 = 0.1254\n",
      "    │   ├── Epoch N-1      = 0.11   (\u001b[32m↗ 0.0154\u001b[0m)\n",
      "    │   └── Best until now = 0.1205 (\u001b[32m↗ 0.0049\u001b[0m)\n",
      "    └── Best_score_threshold = 0.43\n",
      "        ├── Epoch N-1      = 0.47   (↘ -0.04\u001b[0m)\n",
      "        └── Best until now = 0.05   (↗ 0.38\u001b[0m)\n",
      "\n",
      "===========================================================\n"
     ]
    },
    {
     "name": "stderr",
     "output_type": "stream",
     "text": [
      "Train epoch 8: 100%|██████████| 334/334 [03:17<00:00,  1.69it/s, PPYoloELoss/loss=1.75, PPYoloELoss/loss_cls=0.882, PPYoloELoss/loss_dfl=0.455, PPYoloELoss/loss_iou=0.411, gpu_mem=8.76]\n",
      "Validating epoch 8: 100%|██████████| 96/96 [00:35<00:00,  2.67it/s]\n"
     ]
    },
    {
     "name": "stdout",
     "output_type": "stream",
     "text": [
      "===========================================================\n",
      "SUMMARY OF EPOCH 8\n",
      "├── Train\n",
      "│   ├── Ppyoloeloss/loss_cls = 0.8817\n",
      "│   │   ├── Epoch N-1      = 0.9046 (\u001b[32m↘ -0.0229\u001b[0m)\n",
      "│   │   └── Best until now = 0.9046 (\u001b[32m↘ -0.0229\u001b[0m)\n",
      "│   ├── Ppyoloeloss/loss_iou = 0.4108\n",
      "│   │   ├── Epoch N-1      = 0.4158 (\u001b[32m↘ -0.0049\u001b[0m)\n",
      "│   │   └── Best until now = 0.4158 (\u001b[32m↘ -0.0049\u001b[0m)\n",
      "│   ├── Ppyoloeloss/loss_dfl = 0.4553\n",
      "│   │   ├── Epoch N-1      = 0.45   (\u001b[31m↗ 0.0053\u001b[0m)\n",
      "│   │   └── Best until now = 0.45   (\u001b[31m↗ 0.0053\u001b[0m)\n",
      "│   └── Ppyoloeloss/loss = 1.7479\n",
      "│       ├── Epoch N-1      = 1.7704 (\u001b[32m↘ -0.0225\u001b[0m)\n",
      "│       └── Best until now = 1.7704 (\u001b[32m↘ -0.0225\u001b[0m)\n",
      "└── Validation\n",
      "    ├── Ppyoloeloss/loss_cls = 0.8468\n",
      "    │   ├── Epoch N-1      = 0.7522 (\u001b[31m↗ 0.0945\u001b[0m)\n",
      "    │   └── Best until now = 0.7522 (\u001b[31m↗ 0.0945\u001b[0m)\n",
      "    ├── Ppyoloeloss/loss_iou = 0.3331\n",
      "    │   ├── Epoch N-1      = 0.3212 (\u001b[31m↗ 0.012\u001b[0m)\n",
      "    │   └── Best until now = 0.3212 (\u001b[31m↗ 0.012\u001b[0m)\n",
      "    ├── Ppyoloeloss/loss_dfl = 0.4284\n",
      "    │   ├── Epoch N-1      = 0.413  (\u001b[31m↗ 0.0153\u001b[0m)\n",
      "    │   └── Best until now = 0.413  (\u001b[31m↗ 0.0153\u001b[0m)\n",
      "    ├── Ppyoloeloss/loss = 1.6083\n",
      "    │   ├── Epoch N-1      = 1.4864 (\u001b[31m↗ 0.1218\u001b[0m)\n",
      "    │   └── Best until now = 1.4864 (\u001b[31m↗ 0.1218\u001b[0m)\n",
      "    ├── Precision@0.50 = 0.0417\n",
      "    │   ├── Epoch N-1      = 0.0675 (\u001b[31m↘ -0.0258\u001b[0m)\n",
      "    │   └── Best until now = 0.0675 (\u001b[31m↘ -0.0258\u001b[0m)\n",
      "    ├── Recall@0.50 = 0.9927\n",
      "    │   ├── Epoch N-1      = 0.9917 (\u001b[32m↗ 0.0009\u001b[0m)\n",
      "    │   └── Best until now = 0.9923 (\u001b[32m↗ 0.0004\u001b[0m)\n",
      "    ├── Map@0.50 = 0.8522\n",
      "    │   ├── Epoch N-1      = 0.8527 (\u001b[31m↘ -0.0006\u001b[0m)\n",
      "    │   └── Best until now = 0.8527 (\u001b[31m↘ -0.0006\u001b[0m)\n",
      "    ├── F1@0.50 = 0.0793\n",
      "    │   ├── Epoch N-1      = 0.1254 (\u001b[31m↘ -0.0461\u001b[0m)\n",
      "    │   └── Best until now = 0.1254 (\u001b[31m↘ -0.0461\u001b[0m)\n",
      "    └── Best_score_threshold = 0.51\n",
      "        ├── Epoch N-1      = 0.43   (↗ 0.08\u001b[0m)\n",
      "        └── Best until now = 0.05   (↗ 0.46\u001b[0m)\n",
      "\n",
      "===========================================================\n"
     ]
    },
    {
     "name": "stderr",
     "output_type": "stream",
     "text": [
      "Train epoch 9: 100%|██████████| 334/334 [03:16<00:00,  1.70it/s, PPYoloELoss/loss=1.73, PPYoloELoss/loss_cls=0.867, PPYoloELoss/loss_dfl=0.448, PPYoloELoss/loss_iou=0.412, gpu_mem=7.68]\n",
      "Validating epoch 9: 100%|██████████| 96/96 [00:35<00:00,  2.67it/s]\n",
      "[2024-09-24 06:21:13] INFO - base_sg_logger.py - Checkpoint saved in /kaggle/working/checkpoints/fighter_jet2/RUN_20240924_054012_306107/ckpt_best.pth\n",
      "[2024-09-24 06:21:13] INFO - sg_trainer.py - Best checkpoint overriden: validation mAP@0.50: 0.9027706384658813\n"
     ]
    },
    {
     "name": "stdout",
     "output_type": "stream",
     "text": [
      "===========================================================\n",
      "SUMMARY OF EPOCH 9\n",
      "├── Train\n",
      "│   ├── Ppyoloeloss/loss_cls = 0.8669\n",
      "│   │   ├── Epoch N-1      = 0.8817 (\u001b[32m↘ -0.0148\u001b[0m)\n",
      "│   │   └── Best until now = 0.8817 (\u001b[32m↘ -0.0148\u001b[0m)\n",
      "│   ├── Ppyoloeloss/loss_iou = 0.4121\n",
      "│   │   ├── Epoch N-1      = 0.4108 (\u001b[31m↗ 0.0012\u001b[0m)\n",
      "│   │   └── Best until now = 0.4108 (\u001b[31m↗ 0.0012\u001b[0m)\n",
      "│   ├── Ppyoloeloss/loss_dfl = 0.4483\n",
      "│   │   ├── Epoch N-1      = 0.4553 (\u001b[32m↘ -0.0071\u001b[0m)\n",
      "│   │   └── Best until now = 0.45   (\u001b[32m↘ -0.0018\u001b[0m)\n",
      "│   └── Ppyoloeloss/loss = 1.7272\n",
      "│       ├── Epoch N-1      = 1.7479 (\u001b[32m↘ -0.0206\u001b[0m)\n",
      "│       └── Best until now = 1.7479 (\u001b[32m↘ -0.0206\u001b[0m)\n",
      "└── Validation\n",
      "    ├── Ppyoloeloss/loss_cls = 0.7447\n",
      "    │   ├── Epoch N-1      = 0.8468 (\u001b[32m↘ -0.1021\u001b[0m)\n",
      "    │   └── Best until now = 0.7522 (\u001b[32m↘ -0.0075\u001b[0m)\n",
      "    ├── Ppyoloeloss/loss_iou = 0.3203\n",
      "    │   ├── Epoch N-1      = 0.3331 (\u001b[32m↘ -0.0129\u001b[0m)\n",
      "    │   └── Best until now = 0.3212 (\u001b[32m↘ -0.0009\u001b[0m)\n",
      "    ├── Ppyoloeloss/loss_dfl = 0.4098\n",
      "    │   ├── Epoch N-1      = 0.4284 (\u001b[32m↘ -0.0185\u001b[0m)\n",
      "    │   └── Best until now = 0.413  (\u001b[32m↘ -0.0032\u001b[0m)\n",
      "    ├── Ppyoloeloss/loss = 1.4748\n",
      "    │   ├── Epoch N-1      = 1.6083 (\u001b[32m↘ -0.1335\u001b[0m)\n",
      "    │   └── Best until now = 1.4864 (\u001b[32m↘ -0.0116\u001b[0m)\n",
      "    ├── Precision@0.50 = 0.0561\n",
      "    │   ├── Epoch N-1      = 0.0417 (\u001b[32m↗ 0.0144\u001b[0m)\n",
      "    │   └── Best until now = 0.0675 (\u001b[31m↘ -0.0114\u001b[0m)\n",
      "    ├── Recall@0.50 = 0.9945\n",
      "    │   ├── Epoch N-1      = 0.9927 (\u001b[32m↗ 0.0019\u001b[0m)\n",
      "    │   └── Best until now = 0.9927 (\u001b[32m↗ 0.0019\u001b[0m)\n",
      "    ├── Map@0.50 = 0.9028\n",
      "    │   ├── Epoch N-1      = 0.8522 (\u001b[32m↗ 0.0506\u001b[0m)\n",
      "    │   └── Best until now = 0.8527 (\u001b[32m↗ 0.05\u001b[0m)\n",
      "    ├── F1@0.50 = 0.1046\n",
      "    │   ├── Epoch N-1      = 0.0793 (\u001b[32m↗ 0.0252\u001b[0m)\n",
      "    │   └── Best until now = 0.1254 (\u001b[31m↘ -0.0209\u001b[0m)\n",
      "    └── Best_score_threshold = 0.56\n",
      "        ├── Epoch N-1      = 0.51   (↗ 0.05\u001b[0m)\n",
      "        └── Best until now = 0.05   (↗ 0.51\u001b[0m)\n",
      "\n",
      "===========================================================\n"
     ]
    },
    {
     "name": "stderr",
     "output_type": "stream",
     "text": [
      "Train epoch 10: 100%|██████████| 334/334 [03:17<00:00,  1.69it/s, PPYoloELoss/loss=1.69, PPYoloELoss/loss_cls=0.845, PPYoloELoss/loss_dfl=0.441, PPYoloELoss/loss_iou=0.404, gpu_mem=8.17]\n",
      "Validating epoch 10: 100%|██████████| 96/96 [00:36<00:00,  2.66it/s]\n",
      "[2024-09-24 06:25:24] INFO - base_sg_logger.py - Checkpoint saved in /kaggle/working/checkpoints/fighter_jet2/RUN_20240924_054012_306107/ckpt_best.pth\n",
      "[2024-09-24 06:25:24] INFO - sg_trainer.py - Best checkpoint overriden: validation mAP@0.50: 0.9178592562675476\n"
     ]
    },
    {
     "name": "stdout",
     "output_type": "stream",
     "text": [
      "===========================================================\n",
      "SUMMARY OF EPOCH 10\n",
      "├── Train\n",
      "│   ├── Ppyoloeloss/loss_cls = 0.8449\n",
      "│   │   ├── Epoch N-1      = 0.8669 (\u001b[32m↘ -0.022\u001b[0m)\n",
      "│   │   └── Best until now = 0.8669 (\u001b[32m↘ -0.022\u001b[0m)\n",
      "│   ├── Ppyoloeloss/loss_iou = 0.4037\n",
      "│   │   ├── Epoch N-1      = 0.4121 (\u001b[32m↘ -0.0084\u001b[0m)\n",
      "│   │   └── Best until now = 0.4108 (\u001b[32m↘ -0.0071\u001b[0m)\n",
      "│   ├── Ppyoloeloss/loss_dfl = 0.4413\n",
      "│   │   ├── Epoch N-1      = 0.4483 (\u001b[32m↘ -0.007\u001b[0m)\n",
      "│   │   └── Best until now = 0.4483 (\u001b[32m↘ -0.007\u001b[0m)\n",
      "│   └── Ppyoloeloss/loss = 1.6898\n",
      "│       ├── Epoch N-1      = 1.7272 (\u001b[32m↘ -0.0374\u001b[0m)\n",
      "│       └── Best until now = 1.7272 (\u001b[32m↘ -0.0374\u001b[0m)\n",
      "└── Validation\n",
      "    ├── Ppyoloeloss/loss_cls = 0.7048\n",
      "    │   ├── Epoch N-1      = 0.7447 (\u001b[32m↘ -0.0399\u001b[0m)\n",
      "    │   └── Best until now = 0.7447 (\u001b[32m↘ -0.0399\u001b[0m)\n",
      "    ├── Ppyoloeloss/loss_iou = 0.3151\n",
      "    │   ├── Epoch N-1      = 0.3203 (\u001b[32m↘ -0.0051\u001b[0m)\n",
      "    │   └── Best until now = 0.3203 (\u001b[32m↘ -0.0051\u001b[0m)\n",
      "    ├── Ppyoloeloss/loss_dfl = 0.4062\n",
      "    │   ├── Epoch N-1      = 0.4098 (\u001b[32m↘ -0.0037\u001b[0m)\n",
      "    │   └── Best until now = 0.4098 (\u001b[32m↘ -0.0037\u001b[0m)\n",
      "    ├── Ppyoloeloss/loss = 1.4261\n",
      "    │   ├── Epoch N-1      = 1.4748 (\u001b[32m↘ -0.0487\u001b[0m)\n",
      "    │   └── Best until now = 1.4748 (\u001b[32m↘ -0.0487\u001b[0m)\n",
      "    ├── Precision@0.50 = 0.07\n",
      "    │   ├── Epoch N-1      = 0.0561 (\u001b[32m↗ 0.0139\u001b[0m)\n",
      "    │   └── Best until now = 0.0675 (\u001b[32m↗ 0.0024\u001b[0m)\n",
      "    ├── Recall@0.50 = 0.9943\n",
      "    │   ├── Epoch N-1      = 0.9945 (\u001b[31m↘ -0.0002\u001b[0m)\n",
      "    │   └── Best until now = 0.9945 (\u001b[31m↘ -0.0002\u001b[0m)\n",
      "    ├── Map@0.50 = 0.9179\n",
      "    │   ├── Epoch N-1      = 0.9028 (\u001b[32m↗ 0.0151\u001b[0m)\n",
      "    │   └── Best until now = 0.9028 (\u001b[32m↗ 0.0151\u001b[0m)\n",
      "    ├── F1@0.50 = 0.1299\n",
      "    │   ├── Epoch N-1      = 0.1046 (\u001b[32m↗ 0.0253\u001b[0m)\n",
      "    │   └── Best until now = 0.1254 (\u001b[32m↗ 0.0044\u001b[0m)\n",
      "    └── Best_score_threshold = 0.51\n",
      "        ├── Epoch N-1      = 0.56   (↘ -0.05\u001b[0m)\n",
      "        └── Best until now = 0.05   (↗ 0.46\u001b[0m)\n",
      "\n",
      "===========================================================\n"
     ]
    },
    {
     "name": "stderr",
     "output_type": "stream",
     "text": [
      "Train epoch 11: 100%|██████████| 334/334 [03:17<00:00,  1.70it/s, PPYoloELoss/loss=1.66, PPYoloELoss/loss_cls=0.825, PPYoloELoss/loss_dfl=0.441, PPYoloELoss/loss_iou=0.399, gpu_mem=8.76]\n",
      "Validating epoch 11: 100%|██████████| 96/96 [00:36<00:00,  2.66it/s]\n"
     ]
    },
    {
     "name": "stdout",
     "output_type": "stream",
     "text": [
      "===========================================================\n",
      "SUMMARY OF EPOCH 11\n",
      "├── Train\n",
      "│   ├── Ppyoloeloss/loss_cls = 0.825\n",
      "│   │   ├── Epoch N-1      = 0.8449 (\u001b[32m↘ -0.0198\u001b[0m)\n",
      "│   │   └── Best until now = 0.8449 (\u001b[32m↘ -0.0198\u001b[0m)\n",
      "│   ├── Ppyoloeloss/loss_iou = 0.3993\n",
      "│   │   ├── Epoch N-1      = 0.4037 (\u001b[32m↘ -0.0044\u001b[0m)\n",
      "│   │   └── Best until now = 0.4037 (\u001b[32m↘ -0.0044\u001b[0m)\n",
      "│   ├── Ppyoloeloss/loss_dfl = 0.4406\n",
      "│   │   ├── Epoch N-1      = 0.4413 (\u001b[32m↘ -0.0007\u001b[0m)\n",
      "│   │   └── Best until now = 0.4413 (\u001b[32m↘ -0.0007\u001b[0m)\n",
      "│   └── Ppyoloeloss/loss = 1.665\n",
      "│       ├── Epoch N-1      = 1.6898 (\u001b[32m↘ -0.0249\u001b[0m)\n",
      "│       └── Best until now = 1.6898 (\u001b[32m↘ -0.0249\u001b[0m)\n",
      "└── Validation\n",
      "    ├── Ppyoloeloss/loss_cls = 0.6968\n",
      "    │   ├── Epoch N-1      = 0.7048 (\u001b[32m↘ -0.008\u001b[0m)\n",
      "    │   └── Best until now = 0.7048 (\u001b[32m↘ -0.008\u001b[0m)\n",
      "    ├── Ppyoloeloss/loss_iou = 0.3319\n",
      "    │   ├── Epoch N-1      = 0.3151 (\u001b[31m↗ 0.0167\u001b[0m)\n",
      "    │   └── Best until now = 0.3151 (\u001b[31m↗ 0.0167\u001b[0m)\n",
      "    ├── Ppyoloeloss/loss_dfl = 0.4122\n",
      "    │   ├── Epoch N-1      = 0.4062 (\u001b[31m↗ 0.006\u001b[0m)\n",
      "    │   └── Best until now = 0.4062 (\u001b[31m↗ 0.006\u001b[0m)\n",
      "    ├── Ppyoloeloss/loss = 1.4408\n",
      "    │   ├── Epoch N-1      = 1.4261 (\u001b[31m↗ 0.0147\u001b[0m)\n",
      "    │   └── Best until now = 1.4261 (\u001b[31m↗ 0.0147\u001b[0m)\n",
      "    ├── Precision@0.50 = 0.1189\n",
      "    │   ├── Epoch N-1      = 0.07   (\u001b[32m↗ 0.049\u001b[0m)\n",
      "    │   └── Best until now = 0.07   (\u001b[32m↗ 0.049\u001b[0m)\n",
      "    ├── Recall@0.50 = 0.992\n",
      "    │   ├── Epoch N-1      = 0.9943 (\u001b[31m↘ -0.0023\u001b[0m)\n",
      "    │   └── Best until now = 0.9945 (\u001b[31m↘ -0.0025\u001b[0m)\n",
      "    ├── Map@0.50 = 0.8993\n",
      "    │   ├── Epoch N-1      = 0.9179 (\u001b[31m↘ -0.0186\u001b[0m)\n",
      "    │   └── Best until now = 0.9179 (\u001b[31m↘ -0.0186\u001b[0m)\n",
      "    ├── F1@0.50 = 0.2082\n",
      "    │   ├── Epoch N-1      = 0.1299 (\u001b[32m↗ 0.0784\u001b[0m)\n",
      "    │   └── Best until now = 0.1299 (\u001b[32m↗ 0.0784\u001b[0m)\n",
      "    └── Best_score_threshold = 0.51\n",
      "        ├── Epoch N-1      = 0.51   (= 0.0\u001b[0m)\n",
      "        └── Best until now = 0.05   (↗ 0.46\u001b[0m)\n",
      "\n",
      "===========================================================\n"
     ]
    },
    {
     "name": "stderr",
     "output_type": "stream",
     "text": [
      "Train epoch 12: 100%|██████████| 334/334 [03:16<00:00,  1.70it/s, PPYoloELoss/loss=1.66, PPYoloELoss/loss_cls=0.817, PPYoloELoss/loss_dfl=0.442, PPYoloELoss/loss_iou=0.402, gpu_mem=8.76]\n",
      "Validating epoch 12: 100%|██████████| 96/96 [00:36<00:00,  2.66it/s]\n",
      "[2024-09-24 06:33:52] INFO - base_sg_logger.py - Checkpoint saved in /kaggle/working/checkpoints/fighter_jet2/RUN_20240924_054012_306107/ckpt_best.pth\n",
      "[2024-09-24 06:33:52] INFO - sg_trainer.py - Best checkpoint overriden: validation mAP@0.50: 0.9209569692611694\n"
     ]
    },
    {
     "name": "stdout",
     "output_type": "stream",
     "text": [
      "===========================================================\n",
      "SUMMARY OF EPOCH 12\n",
      "├── Train\n",
      "│   ├── Ppyoloeloss/loss_cls = 0.8169\n",
      "│   │   ├── Epoch N-1      = 0.825  (\u001b[32m↘ -0.0081\u001b[0m)\n",
      "│   │   └── Best until now = 0.825  (\u001b[32m↘ -0.0081\u001b[0m)\n",
      "│   ├── Ppyoloeloss/loss_iou = 0.4018\n",
      "│   │   ├── Epoch N-1      = 0.3993 (\u001b[31m↗ 0.0024\u001b[0m)\n",
      "│   │   └── Best until now = 0.3993 (\u001b[31m↗ 0.0024\u001b[0m)\n",
      "│   ├── Ppyoloeloss/loss_dfl = 0.442\n",
      "│   │   ├── Epoch N-1      = 0.4406 (\u001b[31m↗ 0.0014\u001b[0m)\n",
      "│   │   └── Best until now = 0.4406 (\u001b[31m↗ 0.0014\u001b[0m)\n",
      "│   └── Ppyoloeloss/loss = 1.6607\n",
      "│       ├── Epoch N-1      = 1.665  (\u001b[32m↘ -0.0043\u001b[0m)\n",
      "│       └── Best until now = 1.665  (\u001b[32m↘ -0.0043\u001b[0m)\n",
      "└── Validation\n",
      "    ├── Ppyoloeloss/loss_cls = 0.7158\n",
      "    │   ├── Epoch N-1      = 0.6968 (\u001b[31m↗ 0.0191\u001b[0m)\n",
      "    │   └── Best until now = 0.6968 (\u001b[31m↗ 0.0191\u001b[0m)\n",
      "    ├── Ppyoloeloss/loss_iou = 0.3238\n",
      "    │   ├── Epoch N-1      = 0.3319 (\u001b[32m↘ -0.0081\u001b[0m)\n",
      "    │   └── Best until now = 0.3151 (\u001b[31m↗ 0.0087\u001b[0m)\n",
      "    ├── Ppyoloeloss/loss_dfl = 0.4139\n",
      "    │   ├── Epoch N-1      = 0.4122 (\u001b[31m↗ 0.0017\u001b[0m)\n",
      "    │   └── Best until now = 0.4062 (\u001b[31m↗ 0.0077\u001b[0m)\n",
      "    ├── Ppyoloeloss/loss = 1.4536\n",
      "    │   ├── Epoch N-1      = 1.4408 (\u001b[31m↗ 0.0127\u001b[0m)\n",
      "    │   └── Best until now = 1.4261 (\u001b[31m↗ 0.0274\u001b[0m)\n",
      "    ├── Precision@0.50 = 0.0735\n",
      "    │   ├── Epoch N-1      = 0.1189 (\u001b[31m↘ -0.0454\u001b[0m)\n",
      "    │   └── Best until now = 0.1189 (\u001b[31m↘ -0.0454\u001b[0m)\n",
      "    ├── Recall@0.50 = 0.9933\n",
      "    │   ├── Epoch N-1      = 0.992  (\u001b[32m↗ 0.0013\u001b[0m)\n",
      "    │   └── Best until now = 0.9945 (\u001b[31m↘ -0.0012\u001b[0m)\n",
      "    ├── Map@0.50 = 0.921\n",
      "    │   ├── Epoch N-1      = 0.8993 (\u001b[32m↗ 0.0217\u001b[0m)\n",
      "    │   └── Best until now = 0.9179 (\u001b[32m↗ 0.0031\u001b[0m)\n",
      "    ├── F1@0.50 = 0.1347\n",
      "    │   ├── Epoch N-1      = 0.2082 (\u001b[31m↘ -0.0735\u001b[0m)\n",
      "    │   └── Best until now = 0.2082 (\u001b[31m↘ -0.0735\u001b[0m)\n",
      "    └── Best_score_threshold = 0.51\n",
      "        ├── Epoch N-1      = 0.51   (= 0.0\u001b[0m)\n",
      "        └── Best until now = 0.05   (↗ 0.46\u001b[0m)\n",
      "\n",
      "===========================================================\n"
     ]
    },
    {
     "name": "stderr",
     "output_type": "stream",
     "text": [
      "Train epoch 13: 100%|██████████| 334/334 [03:17<00:00,  1.69it/s, PPYoloELoss/loss=1.63, PPYoloELoss/loss_cls=0.798, PPYoloELoss/loss_dfl=0.439, PPYoloELoss/loss_iou=0.397, gpu_mem=8.09]\n",
      "Validating epoch 13: 100%|██████████| 96/96 [00:35<00:00,  2.67it/s]\n",
      "[2024-09-24 06:38:10] INFO - base_sg_logger.py - Checkpoint saved in /kaggle/working/checkpoints/fighter_jet2/RUN_20240924_054012_306107/ckpt_best.pth\n",
      "[2024-09-24 06:38:10] INFO - sg_trainer.py - Best checkpoint overriden: validation mAP@0.50: 0.938543438911438\n"
     ]
    },
    {
     "name": "stdout",
     "output_type": "stream",
     "text": [
      "===========================================================\n",
      "SUMMARY OF EPOCH 13\n",
      "├── Train\n",
      "│   ├── Ppyoloeloss/loss_cls = 0.7983\n",
      "│   │   ├── Epoch N-1      = 0.8169 (\u001b[32m↘ -0.0186\u001b[0m)\n",
      "│   │   └── Best until now = 0.8169 (\u001b[32m↘ -0.0186\u001b[0m)\n",
      "│   ├── Ppyoloeloss/loss_iou = 0.3967\n",
      "│   │   ├── Epoch N-1      = 0.4018 (\u001b[32m↘ -0.0051\u001b[0m)\n",
      "│   │   └── Best until now = 0.3993 (\u001b[32m↘ -0.0026\u001b[0m)\n",
      "│   ├── Ppyoloeloss/loss_dfl = 0.4388\n",
      "│   │   ├── Epoch N-1      = 0.442  (\u001b[32m↘ -0.0032\u001b[0m)\n",
      "│   │   └── Best until now = 0.4406 (\u001b[32m↘ -0.0018\u001b[0m)\n",
      "│   └── Ppyoloeloss/loss = 1.6338\n",
      "│       ├── Epoch N-1      = 1.6607 (\u001b[32m↘ -0.0269\u001b[0m)\n",
      "│       └── Best until now = 1.6607 (\u001b[32m↘ -0.0269\u001b[0m)\n",
      "└── Validation\n",
      "    ├── Ppyoloeloss/loss_cls = 0.6842\n",
      "    │   ├── Epoch N-1      = 0.7158 (\u001b[32m↘ -0.0316\u001b[0m)\n",
      "    │   └── Best until now = 0.6968 (\u001b[32m↘ -0.0126\u001b[0m)\n",
      "    ├── Ppyoloeloss/loss_iou = 0.3162\n",
      "    │   ├── Epoch N-1      = 0.3238 (\u001b[32m↘ -0.0076\u001b[0m)\n",
      "    │   └── Best until now = 0.3151 (\u001b[31m↗ 0.0011\u001b[0m)\n",
      "    ├── Ppyoloeloss/loss_dfl = 0.4064\n",
      "    │   ├── Epoch N-1      = 0.4139 (\u001b[32m↘ -0.0075\u001b[0m)\n",
      "    │   └── Best until now = 0.4062 (\u001b[31m↗ 0.0003\u001b[0m)\n",
      "    ├── Ppyoloeloss/loss = 1.4069\n",
      "    │   ├── Epoch N-1      = 1.4536 (\u001b[32m↘ -0.0467\u001b[0m)\n",
      "    │   └── Best until now = 1.4261 (\u001b[32m↘ -0.0192\u001b[0m)\n",
      "    ├── Precision@0.50 = 0.0794\n",
      "    │   ├── Epoch N-1      = 0.0735 (\u001b[32m↗ 0.0058\u001b[0m)\n",
      "    │   └── Best until now = 0.1189 (\u001b[31m↘ -0.0396\u001b[0m)\n",
      "    ├── Recall@0.50 = 0.9913\n",
      "    │   ├── Epoch N-1      = 0.9933 (\u001b[31m↘ -0.002\u001b[0m)\n",
      "    │   └── Best until now = 0.9945 (\u001b[31m↘ -0.0032\u001b[0m)\n",
      "    ├── Map@0.50 = 0.9385\n",
      "    │   ├── Epoch N-1      = 0.921  (\u001b[32m↗ 0.0176\u001b[0m)\n",
      "    │   └── Best until now = 0.921  (\u001b[32m↗ 0.0176\u001b[0m)\n",
      "    ├── F1@0.50 = 0.1452\n",
      "    │   ├── Epoch N-1      = 0.1347 (\u001b[32m↗ 0.0104\u001b[0m)\n",
      "    │   └── Best until now = 0.2082 (\u001b[31m↘ -0.0631\u001b[0m)\n",
      "    └── Best_score_threshold = 0.52\n",
      "        ├── Epoch N-1      = 0.51   (↗ 0.01\u001b[0m)\n",
      "        └── Best until now = 0.05   (↗ 0.47\u001b[0m)\n",
      "\n",
      "===========================================================\n"
     ]
    },
    {
     "name": "stderr",
     "output_type": "stream",
     "text": [
      "Train epoch 14: 100%|██████████| 334/334 [03:17<00:00,  1.70it/s, PPYoloELoss/loss=1.6, PPYoloELoss/loss_cls=0.78, PPYoloELoss/loss_dfl=0.434, PPYoloELoss/loss_iou=0.39, gpu_mem=8.54]\n",
      "Validating epoch 14: 100%|██████████| 96/96 [00:35<00:00,  2.67it/s]\n",
      "[2024-09-24 06:42:20] INFO - base_sg_logger.py - Checkpoint saved in /kaggle/working/checkpoints/fighter_jet2/RUN_20240924_054012_306107/ckpt_best.pth\n",
      "[2024-09-24 06:42:20] INFO - sg_trainer.py - Best checkpoint overriden: validation mAP@0.50: 0.9427251815795898\n"
     ]
    },
    {
     "name": "stdout",
     "output_type": "stream",
     "text": [
      "===========================================================\n",
      "SUMMARY OF EPOCH 14\n",
      "├── Train\n",
      "│   ├── Ppyoloeloss/loss_cls = 0.7796\n",
      "│   │   ├── Epoch N-1      = 0.7983 (\u001b[32m↘ -0.0187\u001b[0m)\n",
      "│   │   └── Best until now = 0.7983 (\u001b[32m↘ -0.0187\u001b[0m)\n",
      "│   ├── Ppyoloeloss/loss_iou = 0.3897\n",
      "│   │   ├── Epoch N-1      = 0.3967 (\u001b[32m↘ -0.007\u001b[0m)\n",
      "│   │   └── Best until now = 0.3967 (\u001b[32m↘ -0.007\u001b[0m)\n",
      "│   ├── Ppyoloeloss/loss_dfl = 0.434\n",
      "│   │   ├── Epoch N-1      = 0.4388 (\u001b[32m↘ -0.0047\u001b[0m)\n",
      "│   │   └── Best until now = 0.4388 (\u001b[32m↘ -0.0047\u001b[0m)\n",
      "│   └── Ppyoloeloss/loss = 1.6034\n",
      "│       ├── Epoch N-1      = 1.6338 (\u001b[32m↘ -0.0304\u001b[0m)\n",
      "│       └── Best until now = 1.6338 (\u001b[32m↘ -0.0304\u001b[0m)\n",
      "└── Validation\n",
      "    ├── Ppyoloeloss/loss_cls = 0.6932\n",
      "    │   ├── Epoch N-1      = 0.6842 (\u001b[31m↗ 0.009\u001b[0m)\n",
      "    │   └── Best until now = 0.6842 (\u001b[31m↗ 0.009\u001b[0m)\n",
      "    ├── Ppyoloeloss/loss_iou = 0.3228\n",
      "    │   ├── Epoch N-1      = 0.3162 (\u001b[31m↗ 0.0066\u001b[0m)\n",
      "    │   └── Best until now = 0.3151 (\u001b[31m↗ 0.0077\u001b[0m)\n",
      "    ├── Ppyoloeloss/loss_dfl = 0.4096\n",
      "    │   ├── Epoch N-1      = 0.4064 (\u001b[31m↗ 0.0032\u001b[0m)\n",
      "    │   └── Best until now = 0.4062 (\u001b[31m↗ 0.0034\u001b[0m)\n",
      "    ├── Ppyoloeloss/loss = 1.4256\n",
      "    │   ├── Epoch N-1      = 1.4069 (\u001b[31m↗ 0.0187\u001b[0m)\n",
      "    │   └── Best until now = 1.4069 (\u001b[31m↗ 0.0187\u001b[0m)\n",
      "    ├── Precision@0.50 = 0.0651\n",
      "    │   ├── Epoch N-1      = 0.0794 (\u001b[31m↘ -0.0143\u001b[0m)\n",
      "    │   └── Best until now = 0.1189 (\u001b[31m↘ -0.0539\u001b[0m)\n",
      "    ├── Recall@0.50 = 0.9941\n",
      "    │   ├── Epoch N-1      = 0.9913 (\u001b[32m↗ 0.0028\u001b[0m)\n",
      "    │   └── Best until now = 0.9945 (\u001b[31m↘ -0.0004\u001b[0m)\n",
      "    ├── Map@0.50 = 0.9427\n",
      "    │   ├── Epoch N-1      = 0.9385 (\u001b[32m↗ 0.0042\u001b[0m)\n",
      "    │   └── Best until now = 0.9385 (\u001b[32m↗ 0.0042\u001b[0m)\n",
      "    ├── F1@0.50 = 0.1209\n",
      "    │   ├── Epoch N-1      = 0.1452 (\u001b[31m↘ -0.0243\u001b[0m)\n",
      "    │   └── Best until now = 0.2082 (\u001b[31m↘ -0.0874\u001b[0m)\n",
      "    └── Best_score_threshold = 0.61\n",
      "        ├── Epoch N-1      = 0.52   (↗ 0.09\u001b[0m)\n",
      "        └── Best until now = 0.05   (↗ 0.56\u001b[0m)\n",
      "\n",
      "===========================================================\n"
     ]
    },
    {
     "name": "stderr",
     "output_type": "stream",
     "text": [
      "Train epoch 15: 100%|██████████| 334/334 [03:17<00:00,  1.69it/s, PPYoloELoss/loss=1.58, PPYoloELoss/loss_cls=0.763, PPYoloELoss/loss_dfl=0.429, PPYoloELoss/loss_iou=0.385, gpu_mem=9.21]\n",
      "Validating epoch 15: 100%|██████████| 96/96 [00:36<00:00,  2.66it/s]\n"
     ]
    },
    {
     "name": "stdout",
     "output_type": "stream",
     "text": [
      "===========================================================\n",
      "SUMMARY OF EPOCH 15\n",
      "├── Train\n",
      "│   ├── Ppyoloeloss/loss_cls = 0.7631\n",
      "│   │   ├── Epoch N-1      = 0.7796 (\u001b[32m↘ -0.0166\u001b[0m)\n",
      "│   │   └── Best until now = 0.7796 (\u001b[32m↘ -0.0166\u001b[0m)\n",
      "│   ├── Ppyoloeloss/loss_iou = 0.3851\n",
      "│   │   ├── Epoch N-1      = 0.3897 (\u001b[32m↘ -0.0046\u001b[0m)\n",
      "│   │   └── Best until now = 0.3897 (\u001b[32m↘ -0.0046\u001b[0m)\n",
      "│   ├── Ppyoloeloss/loss_dfl = 0.4287\n",
      "│   │   ├── Epoch N-1      = 0.434  (\u001b[32m↘ -0.0053\u001b[0m)\n",
      "│   │   └── Best until now = 0.434  (\u001b[32m↘ -0.0053\u001b[0m)\n",
      "│   └── Ppyoloeloss/loss = 1.577\n",
      "│       ├── Epoch N-1      = 1.6034 (\u001b[32m↘ -0.0264\u001b[0m)\n",
      "│       └── Best until now = 1.6034 (\u001b[32m↘ -0.0264\u001b[0m)\n",
      "└── Validation\n",
      "    ├── Ppyoloeloss/loss_cls = 0.6747\n",
      "    │   ├── Epoch N-1      = 0.6932 (\u001b[32m↘ -0.0185\u001b[0m)\n",
      "    │   └── Best until now = 0.6842 (\u001b[32m↘ -0.0096\u001b[0m)\n",
      "    ├── Ppyoloeloss/loss_iou = 0.301\n",
      "    │   ├── Epoch N-1      = 0.3228 (\u001b[32m↘ -0.0218\u001b[0m)\n",
      "    │   └── Best until now = 0.3151 (\u001b[32m↘ -0.0142\u001b[0m)\n",
      "    ├── Ppyoloeloss/loss_dfl = 0.3941\n",
      "    │   ├── Epoch N-1      = 0.4096 (\u001b[32m↘ -0.0155\u001b[0m)\n",
      "    │   └── Best until now = 0.4062 (\u001b[32m↘ -0.012\u001b[0m)\n",
      "    ├── Ppyoloeloss/loss = 1.3698\n",
      "    │   ├── Epoch N-1      = 1.4256 (\u001b[32m↘ -0.0558\u001b[0m)\n",
      "    │   └── Best until now = 1.4069 (\u001b[32m↘ -0.0371\u001b[0m)\n",
      "    ├── Precision@0.50 = 0.0655\n",
      "    │   ├── Epoch N-1      = 0.0651 (\u001b[32m↗ 0.0004\u001b[0m)\n",
      "    │   └── Best until now = 0.1189 (\u001b[31m↘ -0.0534\u001b[0m)\n",
      "    ├── Recall@0.50 = 0.9931\n",
      "    │   ├── Epoch N-1      = 0.9941 (\u001b[31m↘ -0.0009\u001b[0m)\n",
      "    │   └── Best until now = 0.9945 (\u001b[31m↘ -0.0014\u001b[0m)\n",
      "    ├── Map@0.50 = 0.9424\n",
      "    │   ├── Epoch N-1      = 0.9427 (\u001b[31m↘ -0.0004\u001b[0m)\n",
      "    │   └── Best until now = 0.9427 (\u001b[31m↘ -0.0004\u001b[0m)\n",
      "    ├── F1@0.50 = 0.1209\n",
      "    │   ├── Epoch N-1      = 0.1209 (\u001b[32m↗ 0.0\u001b[0m)\n",
      "    │   └── Best until now = 0.2082 (\u001b[31m↘ -0.0873\u001b[0m)\n",
      "    └── Best_score_threshold = 0.6\n",
      "        ├── Epoch N-1      = 0.61   (↘ -0.01\u001b[0m)\n",
      "        └── Best until now = 0.05   (↗ 0.55\u001b[0m)\n",
      "\n",
      "===========================================================\n"
     ]
    },
    {
     "name": "stderr",
     "output_type": "stream",
     "text": [
      "Train epoch 16: 100%|██████████| 334/334 [03:16<00:00,  1.70it/s, PPYoloELoss/loss=1.56, PPYoloELoss/loss_cls=0.751, PPYoloELoss/loss_dfl=0.428, PPYoloELoss/loss_iou=0.382, gpu_mem=7.72]\n",
      "Validating epoch 16: 100%|██████████| 96/96 [00:35<00:00,  2.67it/s]\n",
      "[2024-09-24 06:50:45] INFO - base_sg_logger.py - Checkpoint saved in /kaggle/working/checkpoints/fighter_jet2/RUN_20240924_054012_306107/ckpt_best.pth\n",
      "[2024-09-24 06:50:45] INFO - sg_trainer.py - Best checkpoint overriden: validation mAP@0.50: 0.9471206665039062\n"
     ]
    },
    {
     "name": "stdout",
     "output_type": "stream",
     "text": [
      "===========================================================\n",
      "SUMMARY OF EPOCH 16\n",
      "├── Train\n",
      "│   ├── Ppyoloeloss/loss_cls = 0.7515\n",
      "│   │   ├── Epoch N-1      = 0.7631 (\u001b[32m↘ -0.0116\u001b[0m)\n",
      "│   │   └── Best until now = 0.7631 (\u001b[32m↘ -0.0116\u001b[0m)\n",
      "│   ├── Ppyoloeloss/loss_iou = 0.3816\n",
      "│   │   ├── Epoch N-1      = 0.3851 (\u001b[32m↘ -0.0036\u001b[0m)\n",
      "│   │   └── Best until now = 0.3851 (\u001b[32m↘ -0.0036\u001b[0m)\n",
      "│   ├── Ppyoloeloss/loss_dfl = 0.428\n",
      "│   │   ├── Epoch N-1      = 0.4287 (\u001b[32m↘ -0.0007\u001b[0m)\n",
      "│   │   └── Best until now = 0.4287 (\u001b[32m↘ -0.0007\u001b[0m)\n",
      "│   └── Ppyoloeloss/loss = 1.5611\n",
      "│       ├── Epoch N-1      = 1.577  (\u001b[32m↘ -0.0159\u001b[0m)\n",
      "│       └── Best until now = 1.577  (\u001b[32m↘ -0.0159\u001b[0m)\n",
      "└── Validation\n",
      "    ├── Ppyoloeloss/loss_cls = 0.6442\n",
      "    │   ├── Epoch N-1      = 0.6747 (\u001b[32m↘ -0.0305\u001b[0m)\n",
      "    │   └── Best until now = 0.6747 (\u001b[32m↘ -0.0305\u001b[0m)\n",
      "    ├── Ppyoloeloss/loss_iou = 0.3219\n",
      "    │   ├── Epoch N-1      = 0.301  (\u001b[31m↗ 0.021\u001b[0m)\n",
      "    │   └── Best until now = 0.301  (\u001b[31m↗ 0.021\u001b[0m)\n",
      "    ├── Ppyoloeloss/loss_dfl = 0.4058\n",
      "    │   ├── Epoch N-1      = 0.3941 (\u001b[31m↗ 0.0117\u001b[0m)\n",
      "    │   └── Best until now = 0.3941 (\u001b[31m↗ 0.0117\u001b[0m)\n",
      "    ├── Ppyoloeloss/loss = 1.3719\n",
      "    │   ├── Epoch N-1      = 1.3698 (\u001b[31m↗ 0.0022\u001b[0m)\n",
      "    │   └── Best until now = 1.3698 (\u001b[31m↗ 0.0022\u001b[0m)\n",
      "    ├── Precision@0.50 = 0.1164\n",
      "    │   ├── Epoch N-1      = 0.0655 (\u001b[32m↗ 0.0509\u001b[0m)\n",
      "    │   └── Best until now = 0.1189 (\u001b[31m↘ -0.0025\u001b[0m)\n",
      "    ├── Recall@0.50 = 0.9942\n",
      "    │   ├── Epoch N-1      = 0.9931 (\u001b[32m↗ 0.001\u001b[0m)\n",
      "    │   └── Best until now = 0.9945 (\u001b[31m↘ -0.0004\u001b[0m)\n",
      "    ├── Map@0.50 = 0.9471\n",
      "    │   ├── Epoch N-1      = 0.9424 (\u001b[32m↗ 0.0048\u001b[0m)\n",
      "    │   └── Best until now = 0.9427 (\u001b[32m↗ 0.0044\u001b[0m)\n",
      "    ├── F1@0.50 = 0.2053\n",
      "    │   ├── Epoch N-1      = 0.1209 (\u001b[32m↗ 0.0844\u001b[0m)\n",
      "    │   └── Best until now = 0.2082 (\u001b[31m↘ -0.0029\u001b[0m)\n",
      "    └── Best_score_threshold = 0.52\n",
      "        ├── Epoch N-1      = 0.6    (↘ -0.08\u001b[0m)\n",
      "        └── Best until now = 0.05   (↗ 0.47\u001b[0m)\n",
      "\n",
      "===========================================================\n"
     ]
    },
    {
     "name": "stderr",
     "output_type": "stream",
     "text": [
      "Train epoch 17: 100%|██████████| 334/334 [03:16<00:00,  1.70it/s, PPYoloELoss/loss=1.55, PPYoloELoss/loss_cls=0.746, PPYoloELoss/loss_dfl=0.421, PPYoloELoss/loss_iou=0.379, gpu_mem=7.56]\n",
      "Validating epoch 17: 100%|██████████| 96/96 [00:35<00:00,  2.67it/s]\n",
      "[2024-09-24 06:54:52] INFO - base_sg_logger.py - Checkpoint saved in /kaggle/working/checkpoints/fighter_jet2/RUN_20240924_054012_306107/ckpt_best.pth\n",
      "[2024-09-24 06:54:52] INFO - sg_trainer.py - Best checkpoint overriden: validation mAP@0.50: 0.9513117074966431\n"
     ]
    },
    {
     "name": "stdout",
     "output_type": "stream",
     "text": [
      "===========================================================\n",
      "SUMMARY OF EPOCH 17\n",
      "├── Train\n",
      "│   ├── Ppyoloeloss/loss_cls = 0.7465\n",
      "│   │   ├── Epoch N-1      = 0.7515 (\u001b[32m↘ -0.005\u001b[0m)\n",
      "│   │   └── Best until now = 0.7515 (\u001b[32m↘ -0.005\u001b[0m)\n",
      "│   ├── Ppyoloeloss/loss_iou = 0.3787\n",
      "│   │   ├── Epoch N-1      = 0.3816 (\u001b[32m↘ -0.0029\u001b[0m)\n",
      "│   │   └── Best until now = 0.3816 (\u001b[32m↘ -0.0029\u001b[0m)\n",
      "│   ├── Ppyoloeloss/loss_dfl = 0.4208\n",
      "│   │   ├── Epoch N-1      = 0.428  (\u001b[32m↘ -0.0073\u001b[0m)\n",
      "│   │   └── Best until now = 0.428  (\u001b[32m↘ -0.0073\u001b[0m)\n",
      "│   └── Ppyoloeloss/loss = 1.5459\n",
      "│       ├── Epoch N-1      = 1.5611 (\u001b[32m↘ -0.0151\u001b[0m)\n",
      "│       └── Best until now = 1.5611 (\u001b[32m↘ -0.0151\u001b[0m)\n",
      "└── Validation\n",
      "    ├── Ppyoloeloss/loss_cls = 0.6491\n",
      "    │   ├── Epoch N-1      = 0.6442 (\u001b[31m↗ 0.005\u001b[0m)\n",
      "    │   └── Best until now = 0.6442 (\u001b[31m↗ 0.005\u001b[0m)\n",
      "    ├── Ppyoloeloss/loss_iou = 0.3236\n",
      "    │   ├── Epoch N-1      = 0.3219 (\u001b[31m↗ 0.0016\u001b[0m)\n",
      "    │   └── Best until now = 0.301  (\u001b[31m↗ 0.0226\u001b[0m)\n",
      "    ├── Ppyoloeloss/loss_dfl = 0.4069\n",
      "    │   ├── Epoch N-1      = 0.4058 (\u001b[31m↗ 0.001\u001b[0m)\n",
      "    │   └── Best until now = 0.3941 (\u001b[31m↗ 0.0128\u001b[0m)\n",
      "    ├── Ppyoloeloss/loss = 1.3796\n",
      "    │   ├── Epoch N-1      = 1.3719 (\u001b[31m↗ 0.0076\u001b[0m)\n",
      "    │   └── Best until now = 1.3698 (\u001b[31m↗ 0.0098\u001b[0m)\n",
      "    ├── Precision@0.50 = 0.0937\n",
      "    │   ├── Epoch N-1      = 0.1164 (\u001b[31m↘ -0.0227\u001b[0m)\n",
      "    │   └── Best until now = 0.1189 (\u001b[31m↘ -0.0252\u001b[0m)\n",
      "    ├── Recall@0.50 = 0.9935\n",
      "    │   ├── Epoch N-1      = 0.9942 (\u001b[31m↘ -0.0007\u001b[0m)\n",
      "    │   └── Best until now = 0.9945 (\u001b[31m↘ -0.001\u001b[0m)\n",
      "    ├── Map@0.50 = 0.9513\n",
      "    │   ├── Epoch N-1      = 0.9471 (\u001b[32m↗ 0.0042\u001b[0m)\n",
      "    │   └── Best until now = 0.9471 (\u001b[32m↗ 0.0042\u001b[0m)\n",
      "    ├── F1@0.50 = 0.1689\n",
      "    │   ├── Epoch N-1      = 0.2053 (\u001b[31m↘ -0.0364\u001b[0m)\n",
      "    │   └── Best until now = 0.2082 (\u001b[31m↘ -0.0394\u001b[0m)\n",
      "    └── Best_score_threshold = 0.57\n",
      "        ├── Epoch N-1      = 0.52   (↗ 0.05\u001b[0m)\n",
      "        └── Best until now = 0.05   (↗ 0.52\u001b[0m)\n",
      "\n",
      "===========================================================\n"
     ]
    },
    {
     "name": "stderr",
     "output_type": "stream",
     "text": [
      "Train epoch 18: 100%|██████████| 334/334 [03:16<00:00,  1.70it/s, PPYoloELoss/loss=1.53, PPYoloELoss/loss_cls=0.732, PPYoloELoss/loss_dfl=0.419, PPYoloELoss/loss_iou=0.377, gpu_mem=8.23]\n",
      "Validating epoch 18: 100%|██████████| 96/96 [00:36<00:00,  2.66it/s]\n",
      "[2024-09-24 06:59:09] INFO - base_sg_logger.py - Checkpoint saved in /kaggle/working/checkpoints/fighter_jet2/RUN_20240924_054012_306107/ckpt_best.pth\n",
      "[2024-09-24 06:59:09] INFO - sg_trainer.py - Best checkpoint overriden: validation mAP@0.50: 0.9523681402206421\n"
     ]
    },
    {
     "name": "stdout",
     "output_type": "stream",
     "text": [
      "===========================================================\n",
      "SUMMARY OF EPOCH 18\n",
      "├── Train\n",
      "│   ├── Ppyoloeloss/loss_cls = 0.7318\n",
      "│   │   ├── Epoch N-1      = 0.7465 (\u001b[32m↘ -0.0147\u001b[0m)\n",
      "│   │   └── Best until now = 0.7465 (\u001b[32m↘ -0.0147\u001b[0m)\n",
      "│   ├── Ppyoloeloss/loss_iou = 0.3771\n",
      "│   │   ├── Epoch N-1      = 0.3787 (\u001b[32m↘ -0.0016\u001b[0m)\n",
      "│   │   └── Best until now = 0.3787 (\u001b[32m↘ -0.0016\u001b[0m)\n",
      "│   ├── Ppyoloeloss/loss_dfl = 0.4195\n",
      "│   │   ├── Epoch N-1      = 0.4208 (\u001b[32m↘ -0.0013\u001b[0m)\n",
      "│   │   └── Best until now = 0.4208 (\u001b[32m↘ -0.0013\u001b[0m)\n",
      "│   └── Ppyoloeloss/loss = 1.5284\n",
      "│       ├── Epoch N-1      = 1.5459 (\u001b[32m↘ -0.0176\u001b[0m)\n",
      "│       └── Best until now = 1.5459 (\u001b[32m↘ -0.0176\u001b[0m)\n",
      "└── Validation\n",
      "    ├── Ppyoloeloss/loss_cls = 0.6365\n",
      "    │   ├── Epoch N-1      = 0.6491 (\u001b[32m↘ -0.0126\u001b[0m)\n",
      "    │   └── Best until now = 0.6442 (\u001b[32m↘ -0.0076\u001b[0m)\n",
      "    ├── Ppyoloeloss/loss_iou = 0.3099\n",
      "    │   ├── Epoch N-1      = 0.3236 (\u001b[32m↘ -0.0137\u001b[0m)\n",
      "    │   └── Best until now = 0.301  (\u001b[31m↗ 0.0089\u001b[0m)\n",
      "    ├── Ppyoloeloss/loss_dfl = 0.3952\n",
      "    │   ├── Epoch N-1      = 0.4069 (\u001b[32m↘ -0.0117\u001b[0m)\n",
      "    │   └── Best until now = 0.3941 (\u001b[31m↗ 0.001\u001b[0m)\n",
      "    ├── Ppyoloeloss/loss = 1.3416\n",
      "    │   ├── Epoch N-1      = 1.3796 (\u001b[32m↘ -0.038\u001b[0m)\n",
      "    │   └── Best until now = 1.3698 (\u001b[32m↘ -0.0282\u001b[0m)\n",
      "    ├── Precision@0.50 = 0.0935\n",
      "    │   ├── Epoch N-1      = 0.0937 (\u001b[31m↘ -0.0002\u001b[0m)\n",
      "    │   └── Best until now = 0.1189 (\u001b[31m↘ -0.0255\u001b[0m)\n",
      "    ├── Recall@0.50 = 0.9899\n",
      "    │   ├── Epoch N-1      = 0.9935 (\u001b[31m↘ -0.0036\u001b[0m)\n",
      "    │   └── Best until now = 0.9945 (\u001b[31m↘ -0.0047\u001b[0m)\n",
      "    ├── Map@0.50 = 0.9524\n",
      "    │   ├── Epoch N-1      = 0.9513 (\u001b[32m↗ 0.0011\u001b[0m)\n",
      "    │   └── Best until now = 0.9513 (\u001b[32m↗ 0.0011\u001b[0m)\n",
      "    ├── F1@0.50 = 0.1687\n",
      "    │   ├── Epoch N-1      = 0.1689 (\u001b[31m↘ -0.0001\u001b[0m)\n",
      "    │   └── Best until now = 0.2082 (\u001b[31m↘ -0.0395\u001b[0m)\n",
      "    └── Best_score_threshold = 0.54\n",
      "        ├── Epoch N-1      = 0.57   (↘ -0.03\u001b[0m)\n",
      "        └── Best until now = 0.05   (↗ 0.49\u001b[0m)\n",
      "\n",
      "===========================================================\n"
     ]
    },
    {
     "name": "stderr",
     "output_type": "stream",
     "text": [
      "Train epoch 19: 100%|██████████| 334/334 [03:17<00:00,  1.70it/s, PPYoloELoss/loss=1.49, PPYoloELoss/loss_cls=0.709, PPYoloELoss/loss_dfl=0.415, PPYoloELoss/loss_iou=0.368, gpu_mem=8.88]\n",
      "Validating epoch 19: 100%|██████████| 96/96 [00:36<00:00,  2.66it/s]\n",
      "[2024-09-24 07:03:20] INFO - base_sg_logger.py - Checkpoint saved in /kaggle/working/checkpoints/fighter_jet2/RUN_20240924_054012_306107/ckpt_best.pth\n",
      "[2024-09-24 07:03:20] INFO - sg_trainer.py - Best checkpoint overriden: validation mAP@0.50: 0.9588428735733032\n"
     ]
    },
    {
     "name": "stdout",
     "output_type": "stream",
     "text": [
      "===========================================================\n",
      "SUMMARY OF EPOCH 19\n",
      "├── Train\n",
      "│   ├── Ppyoloeloss/loss_cls = 0.7089\n",
      "│   │   ├── Epoch N-1      = 0.7318 (\u001b[32m↘ -0.0228\u001b[0m)\n",
      "│   │   └── Best until now = 0.7318 (\u001b[32m↘ -0.0228\u001b[0m)\n",
      "│   ├── Ppyoloeloss/loss_iou = 0.3682\n",
      "│   │   ├── Epoch N-1      = 0.3771 (\u001b[32m↘ -0.0089\u001b[0m)\n",
      "│   │   └── Best until now = 0.3771 (\u001b[32m↘ -0.0089\u001b[0m)\n",
      "│   ├── Ppyoloeloss/loss_dfl = 0.4148\n",
      "│   │   ├── Epoch N-1      = 0.4195 (\u001b[32m↘ -0.0046\u001b[0m)\n",
      "│   │   └── Best until now = 0.4195 (\u001b[32m↘ -0.0046\u001b[0m)\n",
      "│   └── Ppyoloeloss/loss = 1.492\n",
      "│       ├── Epoch N-1      = 1.5284 (\u001b[32m↘ -0.0364\u001b[0m)\n",
      "│       └── Best until now = 1.5284 (\u001b[32m↘ -0.0364\u001b[0m)\n",
      "└── Validation\n",
      "    ├── Ppyoloeloss/loss_cls = 0.6228\n",
      "    │   ├── Epoch N-1      = 0.6365 (\u001b[32m↘ -0.0137\u001b[0m)\n",
      "    │   └── Best until now = 0.6365 (\u001b[32m↘ -0.0137\u001b[0m)\n",
      "    ├── Ppyoloeloss/loss_iou = 0.3106\n",
      "    │   ├── Epoch N-1      = 0.3099 (\u001b[31m↗ 0.0006\u001b[0m)\n",
      "    │   └── Best until now = 0.301  (\u001b[31m↗ 0.0096\u001b[0m)\n",
      "    ├── Ppyoloeloss/loss_dfl = 0.3973\n",
      "    │   ├── Epoch N-1      = 0.3952 (\u001b[31m↗ 0.0021\u001b[0m)\n",
      "    │   └── Best until now = 0.3941 (\u001b[31m↗ 0.0032\u001b[0m)\n",
      "    ├── Ppyoloeloss/loss = 1.3306\n",
      "    │   ├── Epoch N-1      = 1.3416 (\u001b[32m↘ -0.0109\u001b[0m)\n",
      "    │   └── Best until now = 1.3416 (\u001b[32m↘ -0.0109\u001b[0m)\n",
      "    ├── Precision@0.50 = 0.1138\n",
      "    │   ├── Epoch N-1      = 0.0935 (\u001b[32m↗ 0.0204\u001b[0m)\n",
      "    │   └── Best until now = 0.1189 (\u001b[31m↘ -0.0051\u001b[0m)\n",
      "    ├── Recall@0.50 = 0.993\n",
      "    │   ├── Epoch N-1      = 0.9899 (\u001b[32m↗ 0.0032\u001b[0m)\n",
      "    │   └── Best until now = 0.9945 (\u001b[31m↘ -0.0015\u001b[0m)\n",
      "    ├── Map@0.50 = 0.9588\n",
      "    │   ├── Epoch N-1      = 0.9524 (\u001b[32m↗ 0.0065\u001b[0m)\n",
      "    │   └── Best until now = 0.9524 (\u001b[32m↗ 0.0065\u001b[0m)\n",
      "    ├── F1@0.50 = 0.2016\n",
      "    │   ├── Epoch N-1      = 0.1687 (\u001b[32m↗ 0.0329\u001b[0m)\n",
      "    │   └── Best until now = 0.2082 (\u001b[31m↘ -0.0066\u001b[0m)\n",
      "    └── Best_score_threshold = 0.56\n",
      "        ├── Epoch N-1      = 0.54   (↗ 0.02\u001b[0m)\n",
      "        └── Best until now = 0.05   (↗ 0.51\u001b[0m)\n",
      "\n",
      "===========================================================\n"
     ]
    },
    {
     "name": "stderr",
     "output_type": "stream",
     "text": [
      "Train epoch 20: 100%|██████████| 334/334 [03:16<00:00,  1.70it/s, PPYoloELoss/loss=1.48, PPYoloELoss/loss_cls=0.703, PPYoloELoss/loss_dfl=0.413, PPYoloELoss/loss_iou=0.368, gpu_mem=8.07]\n",
      "Validating epoch 20: 100%|██████████| 96/96 [00:35<00:00,  2.67it/s]\n",
      "[2024-09-24 07:07:35] INFO - base_sg_logger.py - Checkpoint saved in /kaggle/working/checkpoints/fighter_jet2/RUN_20240924_054012_306107/ckpt_best.pth\n",
      "[2024-09-24 07:07:35] INFO - sg_trainer.py - Best checkpoint overriden: validation mAP@0.50: 0.9625369310379028\n"
     ]
    },
    {
     "name": "stdout",
     "output_type": "stream",
     "text": [
      "===========================================================\n",
      "SUMMARY OF EPOCH 20\n",
      "├── Train\n",
      "│   ├── Ppyoloeloss/loss_cls = 0.7029\n",
      "│   │   ├── Epoch N-1      = 0.7089 (\u001b[32m↘ -0.006\u001b[0m)\n",
      "│   │   └── Best until now = 0.7089 (\u001b[32m↘ -0.006\u001b[0m)\n",
      "│   ├── Ppyoloeloss/loss_iou = 0.3679\n",
      "│   │   ├── Epoch N-1      = 0.3682 (\u001b[32m↘ -0.0003\u001b[0m)\n",
      "│   │   └── Best until now = 0.3682 (\u001b[32m↘ -0.0003\u001b[0m)\n",
      "│   ├── Ppyoloeloss/loss_dfl = 0.4134\n",
      "│   │   ├── Epoch N-1      = 0.4148 (\u001b[32m↘ -0.0014\u001b[0m)\n",
      "│   │   └── Best until now = 0.4148 (\u001b[32m↘ -0.0014\u001b[0m)\n",
      "│   └── Ppyoloeloss/loss = 1.4842\n",
      "│       ├── Epoch N-1      = 1.492  (\u001b[32m↘ -0.0078\u001b[0m)\n",
      "│       └── Best until now = 1.492  (\u001b[32m↘ -0.0078\u001b[0m)\n",
      "└── Validation\n",
      "    ├── Ppyoloeloss/loss_cls = 0.6235\n",
      "    │   ├── Epoch N-1      = 0.6228 (\u001b[31m↗ 0.0007\u001b[0m)\n",
      "    │   └── Best until now = 0.6228 (\u001b[31m↗ 0.0007\u001b[0m)\n",
      "    ├── Ppyoloeloss/loss_iou = 0.3059\n",
      "    │   ├── Epoch N-1      = 0.3106 (\u001b[32m↘ -0.0046\u001b[0m)\n",
      "    │   └── Best until now = 0.301  (\u001b[31m↗ 0.0049\u001b[0m)\n",
      "    ├── Ppyoloeloss/loss_dfl = 0.3893\n",
      "    │   ├── Epoch N-1      = 0.3973 (\u001b[32m↘ -0.008\u001b[0m)\n",
      "    │   └── Best until now = 0.3941 (\u001b[32m↘ -0.0048\u001b[0m)\n",
      "    ├── Ppyoloeloss/loss = 1.3188\n",
      "    │   ├── Epoch N-1      = 1.3306 (\u001b[32m↘ -0.0119\u001b[0m)\n",
      "    │   └── Best until now = 1.3306 (\u001b[32m↘ -0.0119\u001b[0m)\n",
      "    ├── Precision@0.50 = 0.1251\n",
      "    │   ├── Epoch N-1      = 0.1138 (\u001b[32m↗ 0.0112\u001b[0m)\n",
      "    │   └── Best until now = 0.1189 (\u001b[32m↗ 0.0061\u001b[0m)\n",
      "    ├── Recall@0.50 = 0.991\n",
      "    │   ├── Epoch N-1      = 0.993  (\u001b[31m↘ -0.0021\u001b[0m)\n",
      "    │   └── Best until now = 0.9945 (\u001b[31m↘ -0.0036\u001b[0m)\n",
      "    ├── Map@0.50 = 0.9625\n",
      "    │   ├── Epoch N-1      = 0.9588 (\u001b[32m↗ 0.0037\u001b[0m)\n",
      "    │   └── Best until now = 0.9588 (\u001b[32m↗ 0.0037\u001b[0m)\n",
      "    ├── F1@0.50 = 0.2162\n",
      "    │   ├── Epoch N-1      = 0.2016 (\u001b[32m↗ 0.0146\u001b[0m)\n",
      "    │   └── Best until now = 0.2082 (\u001b[32m↗ 0.008\u001b[0m)\n",
      "    └── Best_score_threshold = 0.59\n",
      "        ├── Epoch N-1      = 0.56   (↗ 0.03\u001b[0m)\n",
      "        └── Best until now = 0.05   (↗ 0.54\u001b[0m)\n",
      "\n",
      "===========================================================\n"
     ]
    },
    {
     "name": "stderr",
     "output_type": "stream",
     "text": [
      "Train epoch 21: 100%|██████████| 334/334 [03:16<00:00,  1.70it/s, PPYoloELoss/loss=1.47, PPYoloELoss/loss_cls=0.694, PPYoloELoss/loss_dfl=0.411, PPYoloELoss/loss_iou=0.362, gpu_mem=7.54]\n",
      "Validating epoch 21: 100%|██████████| 96/96 [00:35<00:00,  2.67it/s]\n"
     ]
    },
    {
     "name": "stdout",
     "output_type": "stream",
     "text": [
      "===========================================================\n",
      "SUMMARY OF EPOCH 21\n",
      "├── Train\n",
      "│   ├── Ppyoloeloss/loss_cls = 0.6936\n",
      "│   │   ├── Epoch N-1      = 0.7029 (\u001b[32m↘ -0.0093\u001b[0m)\n",
      "│   │   └── Best until now = 0.7029 (\u001b[32m↘ -0.0093\u001b[0m)\n",
      "│   ├── Ppyoloeloss/loss_iou = 0.3616\n",
      "│   │   ├── Epoch N-1      = 0.3679 (\u001b[32m↘ -0.0063\u001b[0m)\n",
      "│   │   └── Best until now = 0.3679 (\u001b[32m↘ -0.0063\u001b[0m)\n",
      "│   ├── Ppyoloeloss/loss_dfl = 0.4113\n",
      "│   │   ├── Epoch N-1      = 0.4134 (\u001b[32m↘ -0.0021\u001b[0m)\n",
      "│   │   └── Best until now = 0.4134 (\u001b[32m↘ -0.0021\u001b[0m)\n",
      "│   └── Ppyoloeloss/loss = 1.4665\n",
      "│       ├── Epoch N-1      = 1.4842 (\u001b[32m↘ -0.0177\u001b[0m)\n",
      "│       └── Best until now = 1.4842 (\u001b[32m↘ -0.0177\u001b[0m)\n",
      "└── Validation\n",
      "    ├── Ppyoloeloss/loss_cls = 0.6151\n",
      "    │   ├── Epoch N-1      = 0.6235 (\u001b[32m↘ -0.0084\u001b[0m)\n",
      "    │   └── Best until now = 0.6228 (\u001b[32m↘ -0.0077\u001b[0m)\n",
      "    ├── Ppyoloeloss/loss_iou = 0.3038\n",
      "    │   ├── Epoch N-1      = 0.3059 (\u001b[32m↘ -0.0021\u001b[0m)\n",
      "    │   └── Best until now = 0.301  (\u001b[31m↗ 0.0029\u001b[0m)\n",
      "    ├── Ppyoloeloss/loss_dfl = 0.3889\n",
      "    │   ├── Epoch N-1      = 0.3893 (\u001b[32m↘ -0.0004\u001b[0m)\n",
      "    │   └── Best until now = 0.3893 (\u001b[32m↘ -0.0004\u001b[0m)\n",
      "    ├── Ppyoloeloss/loss = 1.3078\n",
      "    │   ├── Epoch N-1      = 1.3188 (\u001b[32m↘ -0.0109\u001b[0m)\n",
      "    │   └── Best until now = 1.3188 (\u001b[32m↘ -0.0109\u001b[0m)\n",
      "    ├── Precision@0.50 = 0.1332\n",
      "    │   ├── Epoch N-1      = 0.1251 (\u001b[32m↗ 0.0081\u001b[0m)\n",
      "    │   └── Best until now = 0.1251 (\u001b[32m↗ 0.0081\u001b[0m)\n",
      "    ├── Recall@0.50 = 0.9909\n",
      "    │   ├── Epoch N-1      = 0.991  (\u001b[31m↘ -0.0001\u001b[0m)\n",
      "    │   └── Best until now = 0.9945 (\u001b[31m↘ -0.0036\u001b[0m)\n",
      "    ├── Map@0.50 = 0.9596\n",
      "    │   ├── Epoch N-1      = 0.9625 (\u001b[31m↘ -0.0029\u001b[0m)\n",
      "    │   └── Best until now = 0.9625 (\u001b[31m↘ -0.0029\u001b[0m)\n",
      "    ├── F1@0.50 = 0.2321\n",
      "    │   ├── Epoch N-1      = 0.2162 (\u001b[32m↗ 0.0159\u001b[0m)\n",
      "    │   └── Best until now = 0.2162 (\u001b[32m↗ 0.0159\u001b[0m)\n",
      "    └── Best_score_threshold = 0.58\n",
      "        ├── Epoch N-1      = 0.59   (↘ -0.01\u001b[0m)\n",
      "        └── Best until now = 0.05   (↗ 0.53\u001b[0m)\n",
      "\n",
      "===========================================================\n"
     ]
    },
    {
     "name": "stderr",
     "output_type": "stream",
     "text": [
      "Train epoch 22: 100%|██████████| 334/334 [03:16<00:00,  1.70it/s, PPYoloELoss/loss=1.45, PPYoloELoss/loss_cls=0.686, PPYoloELoss/loss_dfl=0.41, PPYoloELoss/loss_iou=0.358, gpu_mem=7.96]\n",
      "Validating epoch 22: 100%|██████████| 96/96 [00:35<00:00,  2.67it/s]\n",
      "[2024-09-24 07:16:01] INFO - base_sg_logger.py - Checkpoint saved in /kaggle/working/checkpoints/fighter_jet2/RUN_20240924_054012_306107/ckpt_best.pth\n",
      "[2024-09-24 07:16:01] INFO - sg_trainer.py - Best checkpoint overriden: validation mAP@0.50: 0.9643734693527222\n"
     ]
    },
    {
     "name": "stdout",
     "output_type": "stream",
     "text": [
      "===========================================================\n",
      "SUMMARY OF EPOCH 22\n",
      "├── Train\n",
      "│   ├── Ppyoloeloss/loss_cls = 0.6859\n",
      "│   │   ├── Epoch N-1      = 0.6936 (\u001b[32m↘ -0.0077\u001b[0m)\n",
      "│   │   └── Best until now = 0.6936 (\u001b[32m↘ -0.0077\u001b[0m)\n",
      "│   ├── Ppyoloeloss/loss_iou = 0.358\n",
      "│   │   ├── Epoch N-1      = 0.3616 (\u001b[32m↘ -0.0036\u001b[0m)\n",
      "│   │   └── Best until now = 0.3616 (\u001b[32m↘ -0.0036\u001b[0m)\n",
      "│   ├── Ppyoloeloss/loss_dfl = 0.4096\n",
      "│   │   ├── Epoch N-1      = 0.4113 (\u001b[32m↘ -0.0017\u001b[0m)\n",
      "│   │   └── Best until now = 0.4113 (\u001b[32m↘ -0.0017\u001b[0m)\n",
      "│   └── Ppyoloeloss/loss = 1.4536\n",
      "│       ├── Epoch N-1      = 1.4665 (\u001b[32m↘ -0.013\u001b[0m)\n",
      "│       └── Best until now = 1.4665 (\u001b[32m↘ -0.013\u001b[0m)\n",
      "└── Validation\n",
      "    ├── Ppyoloeloss/loss_cls = 0.609\n",
      "    │   ├── Epoch N-1      = 0.6151 (\u001b[32m↘ -0.0061\u001b[0m)\n",
      "    │   └── Best until now = 0.6151 (\u001b[32m↘ -0.0061\u001b[0m)\n",
      "    ├── Ppyoloeloss/loss_iou = 0.3102\n",
      "    │   ├── Epoch N-1      = 0.3038 (\u001b[31m↗ 0.0064\u001b[0m)\n",
      "    │   └── Best until now = 0.301  (\u001b[31m↗ 0.0093\u001b[0m)\n",
      "    ├── Ppyoloeloss/loss_dfl = 0.3929\n",
      "    │   ├── Epoch N-1      = 0.3889 (\u001b[31m↗ 0.0039\u001b[0m)\n",
      "    │   └── Best until now = 0.3889 (\u001b[31m↗ 0.0039\u001b[0m)\n",
      "    ├── Ppyoloeloss/loss = 1.3121\n",
      "    │   ├── Epoch N-1      = 1.3078 (\u001b[31m↗ 0.0042\u001b[0m)\n",
      "    │   └── Best until now = 1.3078 (\u001b[31m↗ 0.0042\u001b[0m)\n",
      "    ├── Precision@0.50 = 0.1165\n",
      "    │   ├── Epoch N-1      = 0.1332 (\u001b[31m↘ -0.0168\u001b[0m)\n",
      "    │   └── Best until now = 0.1332 (\u001b[31m↘ -0.0168\u001b[0m)\n",
      "    ├── Recall@0.50 = 0.9929\n",
      "    │   ├── Epoch N-1      = 0.9909 (\u001b[32m↗ 0.0021\u001b[0m)\n",
      "    │   └── Best until now = 0.9945 (\u001b[31m↘ -0.0016\u001b[0m)\n",
      "    ├── Map@0.50 = 0.9644\n",
      "    │   ├── Epoch N-1      = 0.9596 (\u001b[32m↗ 0.0048\u001b[0m)\n",
      "    │   └── Best until now = 0.9625 (\u001b[32m↗ 0.0018\u001b[0m)\n",
      "    ├── F1@0.50 = 0.2067\n",
      "    │   ├── Epoch N-1      = 0.2321 (\u001b[31m↘ -0.0255\u001b[0m)\n",
      "    │   └── Best until now = 0.2321 (\u001b[31m↘ -0.0255\u001b[0m)\n",
      "    └── Best_score_threshold = 0.63\n",
      "        ├── Epoch N-1      = 0.58   (↗ 0.05\u001b[0m)\n",
      "        └── Best until now = 0.05   (↗ 0.58\u001b[0m)\n",
      "\n",
      "===========================================================\n"
     ]
    },
    {
     "name": "stderr",
     "output_type": "stream",
     "text": [
      "Train epoch 23: 100%|██████████| 334/334 [03:17<00:00,  1.70it/s, PPYoloELoss/loss=1.44, PPYoloELoss/loss_cls=0.678, PPYoloELoss/loss_dfl=0.406, PPYoloELoss/loss_iou=0.36, gpu_mem=8.03]\n",
      "Validating epoch 23: 100%|██████████| 96/96 [00:36<00:00,  2.67it/s]\n",
      "[2024-09-24 07:20:14] INFO - base_sg_logger.py - Checkpoint saved in /kaggle/working/checkpoints/fighter_jet2/RUN_20240924_054012_306107/ckpt_best.pth\n",
      "[2024-09-24 07:20:14] INFO - sg_trainer.py - Best checkpoint overriden: validation mAP@0.50: 0.9691999554634094\n"
     ]
    },
    {
     "name": "stdout",
     "output_type": "stream",
     "text": [
      "===========================================================\n",
      "SUMMARY OF EPOCH 23\n",
      "├── Train\n",
      "│   ├── Ppyoloeloss/loss_cls = 0.6783\n",
      "│   │   ├── Epoch N-1      = 0.6859 (\u001b[32m↘ -0.0076\u001b[0m)\n",
      "│   │   └── Best until now = 0.6859 (\u001b[32m↘ -0.0076\u001b[0m)\n",
      "│   ├── Ppyoloeloss/loss_iou = 0.36\n",
      "│   │   ├── Epoch N-1      = 0.358  (\u001b[31m↗ 0.002\u001b[0m)\n",
      "│   │   └── Best until now = 0.358  (\u001b[31m↗ 0.002\u001b[0m)\n",
      "│   ├── Ppyoloeloss/loss_dfl = 0.4058\n",
      "│   │   ├── Epoch N-1      = 0.4096 (\u001b[32m↘ -0.0038\u001b[0m)\n",
      "│   │   └── Best until now = 0.4096 (\u001b[32m↘ -0.0038\u001b[0m)\n",
      "│   └── Ppyoloeloss/loss = 1.4442\n",
      "│       ├── Epoch N-1      = 1.4536 (\u001b[32m↘ -0.0094\u001b[0m)\n",
      "│       └── Best until now = 1.4536 (\u001b[32m↘ -0.0094\u001b[0m)\n",
      "└── Validation\n",
      "    ├── Ppyoloeloss/loss_cls = 0.61\n",
      "    │   ├── Epoch N-1      = 0.609  (\u001b[31m↗ 0.0011\u001b[0m)\n",
      "    │   └── Best until now = 0.609  (\u001b[31m↗ 0.0011\u001b[0m)\n",
      "    ├── Ppyoloeloss/loss_iou = 0.3099\n",
      "    │   ├── Epoch N-1      = 0.3102 (\u001b[32m↘ -0.0003\u001b[0m)\n",
      "    │   └── Best until now = 0.301  (\u001b[31m↗ 0.0089\u001b[0m)\n",
      "    ├── Ppyoloeloss/loss_dfl = 0.3895\n",
      "    │   ├── Epoch N-1      = 0.3929 (\u001b[32m↘ -0.0034\u001b[0m)\n",
      "    │   └── Best until now = 0.3889 (\u001b[31m↗ 0.0006\u001b[0m)\n",
      "    ├── Ppyoloeloss/loss = 1.3094\n",
      "    │   ├── Epoch N-1      = 1.3121 (\u001b[32m↘ -0.0026\u001b[0m)\n",
      "    │   └── Best until now = 1.3078 (\u001b[31m↗ 0.0016\u001b[0m)\n",
      "    ├── Precision@0.50 = 0.1249\n",
      "    │   ├── Epoch N-1      = 0.1165 (\u001b[32m↗ 0.0084\u001b[0m)\n",
      "    │   └── Best until now = 0.1332 (\u001b[31m↘ -0.0083\u001b[0m)\n",
      "    ├── Recall@0.50 = 0.9942\n",
      "    │   ├── Epoch N-1      = 0.9929 (\u001b[32m↗ 0.0012\u001b[0m)\n",
      "    │   └── Best until now = 0.9945 (\u001b[31m↘ -0.0003\u001b[0m)\n",
      "    ├── Map@0.50 = 0.9692\n",
      "    │   ├── Epoch N-1      = 0.9644 (\u001b[32m↗ 0.0048\u001b[0m)\n",
      "    │   └── Best until now = 0.9644 (\u001b[32m↗ 0.0048\u001b[0m)\n",
      "    ├── F1@0.50 = 0.2196\n",
      "    │   ├── Epoch N-1      = 0.2067 (\u001b[32m↗ 0.0129\u001b[0m)\n",
      "    │   └── Best until now = 0.2321 (\u001b[31m↘ -0.0125\u001b[0m)\n",
      "    └── Best_score_threshold = 0.56\n",
      "        ├── Epoch N-1      = 0.63   (↘ -0.07\u001b[0m)\n",
      "        └── Best until now = 0.05   (↗ 0.51\u001b[0m)\n",
      "\n",
      "===========================================================\n"
     ]
    },
    {
     "name": "stderr",
     "output_type": "stream",
     "text": [
      "Train epoch 24: 100%|██████████| 334/334 [03:17<00:00,  1.69it/s, PPYoloELoss/loss=1.43, PPYoloELoss/loss_cls=0.673, PPYoloELoss/loss_dfl=0.401, PPYoloELoss/loss_iou=0.357, gpu_mem=7.91]\n",
      "Validating epoch 24: 100%|██████████| 96/96 [00:35<00:00,  2.67it/s]\n"
     ]
    },
    {
     "name": "stdout",
     "output_type": "stream",
     "text": [
      "===========================================================\n",
      "SUMMARY OF EPOCH 24\n",
      "├── Train\n",
      "│   ├── Ppyoloeloss/loss_cls = 0.6732\n",
      "│   │   ├── Epoch N-1      = 0.6783 (\u001b[32m↘ -0.0051\u001b[0m)\n",
      "│   │   └── Best until now = 0.6783 (\u001b[32m↘ -0.0051\u001b[0m)\n",
      "│   ├── Ppyoloeloss/loss_iou = 0.3567\n",
      "│   │   ├── Epoch N-1      = 0.36   (\u001b[32m↘ -0.0033\u001b[0m)\n",
      "│   │   └── Best until now = 0.358  (\u001b[32m↘ -0.0013\u001b[0m)\n",
      "│   ├── Ppyoloeloss/loss_dfl = 0.4012\n",
      "│   │   ├── Epoch N-1      = 0.4058 (\u001b[32m↘ -0.0046\u001b[0m)\n",
      "│   │   └── Best until now = 0.4058 (\u001b[32m↘ -0.0046\u001b[0m)\n",
      "│   └── Ppyoloeloss/loss = 1.4312\n",
      "│       ├── Epoch N-1      = 1.4442 (\u001b[32m↘ -0.013\u001b[0m)\n",
      "│       └── Best until now = 1.4442 (\u001b[32m↘ -0.013\u001b[0m)\n",
      "└── Validation\n",
      "    ├── Ppyoloeloss/loss_cls = 0.5958\n",
      "    │   ├── Epoch N-1      = 0.61   (\u001b[32m↘ -0.0142\u001b[0m)\n",
      "    │   └── Best until now = 0.609  (\u001b[32m↘ -0.0132\u001b[0m)\n",
      "    ├── Ppyoloeloss/loss_iou = 0.3105\n",
      "    │   ├── Epoch N-1      = 0.3099 (\u001b[31m↗ 0.0006\u001b[0m)\n",
      "    │   └── Best until now = 0.301  (\u001b[31m↗ 0.0096\u001b[0m)\n",
      "    ├── Ppyoloeloss/loss_dfl = 0.3877\n",
      "    │   ├── Epoch N-1      = 0.3895 (\u001b[32m↘ -0.0019\u001b[0m)\n",
      "    │   └── Best until now = 0.3889 (\u001b[32m↘ -0.0013\u001b[0m)\n",
      "    ├── Ppyoloeloss/loss = 1.294\n",
      "    │   ├── Epoch N-1      = 1.3094 (\u001b[32m↘ -0.0154\u001b[0m)\n",
      "    │   └── Best until now = 1.3078 (\u001b[32m↘ -0.0139\u001b[0m)\n",
      "    ├── Precision@0.50 = 0.1542\n",
      "    │   ├── Epoch N-1      = 0.1249 (\u001b[32m↗ 0.0293\u001b[0m)\n",
      "    │   └── Best until now = 0.1332 (\u001b[32m↗ 0.021\u001b[0m)\n",
      "    ├── Recall@0.50 = 0.9928\n",
      "    │   ├── Epoch N-1      = 0.9942 (\u001b[31m↘ -0.0014\u001b[0m)\n",
      "    │   └── Best until now = 0.9945 (\u001b[31m↘ -0.0018\u001b[0m)\n",
      "    ├── Map@0.50 = 0.9642\n",
      "    │   ├── Epoch N-1      = 0.9692 (\u001b[31m↘ -0.005\u001b[0m)\n",
      "    │   └── Best until now = 0.9692 (\u001b[31m↘ -0.005\u001b[0m)\n",
      "    ├── F1@0.50 = 0.2641\n",
      "    │   ├── Epoch N-1      = 0.2196 (\u001b[32m↗ 0.0445\u001b[0m)\n",
      "    │   └── Best until now = 0.2321 (\u001b[32m↗ 0.032\u001b[0m)\n",
      "    └── Best_score_threshold = 0.62\n",
      "        ├── Epoch N-1      = 0.56   (↗ 0.06\u001b[0m)\n",
      "        └── Best until now = 0.05   (↗ 0.57\u001b[0m)\n",
      "\n",
      "===========================================================\n"
     ]
    },
    {
     "name": "stderr",
     "output_type": "stream",
     "text": [
      "[2024-09-24 07:24:40] INFO - sg_trainer.py - RUNNING ADDITIONAL TEST ON THE AVERAGED MODEL...\n",
      "You are using `torch.load` with `weights_only=False` (the current default value), which uses the default pickle module implicitly. It is possible to construct malicious pickle data which will execute arbitrary code during unpickling (See https://github.com/pytorch/pytorch/blob/main/SECURITY.md#untrusted-models for more details). In a future release, the default value for `weights_only` will be flipped to `True`. This limits the functions that could be executed during unpickling. Arbitrary objects will no longer be allowed to be loaded via this mode unless they are explicitly allowlisted by the user via `torch.serialization.add_safe_globals`. We recommend you start setting `weights_only=True` for any use case where you don't have full control of the loaded file. Please open an issue on GitHub for any issues related to this experimental feature.\n",
      "Validating epoch 25: 100%|██████████| 96/96 [00:36<00:00,  2.64it/s]\n"
     ]
    }
   ],
   "source": [
    "trainer.train(\n",
    "    model=model,\n",
    "    training_params=train_params,\n",
    "    train_loader=train_data,\n",
    "    valid_loader=val_data\n",
    ")"
   ]
  },
  {
   "cell_type": "markdown",
   "id": "f7c54ed0",
   "metadata": {
    "id": "SiMFjRokll6q",
    "papermill": {
     "duration": 0.91217,
     "end_time": "2024-09-24T07:25:20.126741",
     "exception": false,
     "start_time": "2024-09-24T07:25:19.214571",
     "status": "completed"
    },
    "tags": []
   },
   "source": [
    "### Analyze training metrics\n"
   ]
  },
  {
   "cell_type": "code",
   "execution_count": 15,
   "id": "7093ccbd",
   "metadata": {
    "execution": {
     "iopub.execute_input": "2024-09-24T07:25:22.010308Z",
     "iopub.status.busy": "2024-09-24T07:25:22.009583Z",
     "iopub.status.idle": "2024-09-24T07:25:22.012605Z",
     "shell.execute_reply": "2024-09-24T07:25:22.012214Z"
    },
    "id": "LRZ6qtaca9_w",
    "outputId": "6ceb585e-be9c-4652-919a-e20d6e6d8164",
    "papermill": {
     "duration": 0.929628,
     "end_time": "2024-09-24T07:25:22.015112",
     "exception": false,
     "start_time": "2024-09-24T07:25:21.085484",
     "status": "completed"
    },
    "tags": []
   },
   "outputs": [],
   "source": [
    "# %load_ext tensorboard\n",
    "# %tensorboard --logdir {CHECKPOINT_DIR}/{EXPERIMENT_NAME}"
   ]
  },
  {
   "cell_type": "markdown",
   "id": "9d602607",
   "metadata": {
    "id": "U2Zm_JWRcIcp",
    "papermill": {
     "duration": 0.916947,
     "end_time": "2024-09-24T07:25:23.901092",
     "exception": false,
     "start_time": "2024-09-24T07:25:22.984145",
     "status": "completed"
    },
    "tags": []
   },
   "source": [
    "## Zip and download fine-tuned model"
   ]
  },
  {
   "cell_type": "code",
   "execution_count": 16,
   "id": "9f627a5d",
   "metadata": {
    "execution": {
     "iopub.execute_input": "2024-09-24T07:25:25.791406Z",
     "iopub.status.busy": "2024-09-24T07:25:25.790408Z",
     "iopub.status.idle": "2024-09-24T07:27:10.901278Z",
     "shell.execute_reply": "2024-09-24T07:27:10.900627Z"
    },
    "id": "AicLyuZBcLx3",
    "papermill": {
     "duration": 106.06909,
     "end_time": "2024-09-24T07:27:10.903797",
     "exception": false,
     "start_time": "2024-09-24T07:25:24.834707",
     "status": "completed"
    },
    "tags": []
   },
   "outputs": [
    {
     "name": "stderr",
     "output_type": "stream",
     "text": [
      "os.fork() was called. os.fork() is incompatible with multithreaded code, and JAX is multithreaded, so this will likely lead to a deadlock.\n"
     ]
    },
    {
     "name": "stdout",
     "output_type": "stream",
     "text": [
      "  adding: kaggle/working/checkpoints/fighter_jet2/ (stored 0%)\r\n",
      "  adding: kaggle/working/checkpoints/fighter_jet2/RUN_20240924_054012_306107/ (stored 0%)\r\n",
      "  adding: kaggle/working/checkpoints/fighter_jet2/RUN_20240924_054012_306107/ckpt_latest.pth (deflated 7%)\r\n",
      "  adding: kaggle/working/checkpoints/fighter_jet2/RUN_20240924_054012_306107/console_Sep24_05_40_12.txt (deflated 95%)\r\n",
      "  adding: kaggle/working/checkpoints/fighter_jet2/RUN_20240924_054012_306107/ckpt_best.pth (deflated 7%)\r\n",
      "  adding: kaggle/working/checkpoints/fighter_jet2/RUN_20240924_054012_306107/logs_Sep24_05_40_12.txt (deflated 81%)\r\n",
      "  adding: kaggle/working/checkpoints/fighter_jet2/RUN_20240924_054012_306107/average_model.pth"
     ]
    }
   ],
   "source": [
    "!zip -r yolo_nas.zip {CHECKPOINT_DIR}/{EXPERIMENT_NAME}"
   ]
  },
  {
   "cell_type": "code",
   "execution_count": 17,
   "id": "280670d6",
   "metadata": {
    "execution": {
     "iopub.execute_input": "2024-09-24T07:27:12.846191Z",
     "iopub.status.busy": "2024-09-24T07:27:12.845237Z",
     "iopub.status.idle": "2024-09-24T07:27:12.848723Z",
     "shell.execute_reply": "2024-09-24T07:27:12.848321Z"
    },
    "id": "wM3pdH3NdF2L",
    "papermill": {
     "duration": 1.009596,
     "end_time": "2024-09-24T07:27:12.851152",
     "exception": false,
     "start_time": "2024-09-24T07:27:11.841556",
     "status": "completed"
    },
    "tags": []
   },
   "outputs": [],
   "source": [
    "# if you experience 'NotImplementedError: A UTF-8 locale is required. Got ANSI_X3.4-1968' error, run code below 👇\n",
    "\n",
    "# import locale\n",
    "# locale.getpreferredencoding = lambda: \"UTF-8\""
   ]
  },
  {
   "cell_type": "markdown",
   "id": "acd8d541",
   "metadata": {
    "id": "o0Lkok3TKueg",
    "papermill": {
     "duration": 0.983757,
     "end_time": "2024-09-24T07:27:14.750957",
     "exception": false,
     "start_time": "2024-09-24T07:27:13.767200",
     "status": "completed"
    },
    "tags": []
   },
   "source": [
    "## Load trained model"
   ]
  },
  {
   "cell_type": "code",
   "execution_count": 18,
   "id": "98316504",
   "metadata": {
    "execution": {
     "iopub.execute_input": "2024-09-24T07:27:16.661770Z",
     "iopub.status.busy": "2024-09-24T07:27:16.660867Z",
     "iopub.status.idle": "2024-09-24T07:27:16.663805Z",
     "shell.execute_reply": "2024-09-24T07:27:16.663434Z"
    },
    "id": "Al1R2UQ5y5tk",
    "outputId": "f63f949c-9eda-4c5c-c1df-2375c48fd149",
    "papermill": {
     "duration": 0.963118,
     "end_time": "2024-09-24T07:27:16.666287",
     "exception": false,
     "start_time": "2024-09-24T07:27:15.703169",
     "status": "completed"
    },
    "tags": []
   },
   "outputs": [],
   "source": [
    "# best_model = models.get(\n",
    "#     MODEL_ARCH,\n",
    "#     num_classes=len(dataset_params['classes']),\n",
    "#     checkpoint_path=f\"/kaggle/input/yolo-nas2/pytorch/default/1/ckpt_best.pth\"\n",
    "# ).to(DEVICE)"
   ]
  },
  {
   "cell_type": "code",
   "execution_count": 19,
   "id": "5af6ce7d",
   "metadata": {
    "execution": {
     "iopub.execute_input": "2024-09-24T07:27:18.546059Z",
     "iopub.status.busy": "2024-09-24T07:27:18.545473Z",
     "iopub.status.idle": "2024-09-24T07:27:18.548699Z",
     "shell.execute_reply": "2024-09-24T07:27:18.548357Z"
    },
    "papermill": {
     "duration": 0.963685,
     "end_time": "2024-09-24T07:27:18.551448",
     "exception": false,
     "start_time": "2024-09-24T07:27:17.587763",
     "status": "completed"
    },
    "tags": []
   },
   "outputs": [],
   "source": [
    "# # Import the YouTubeVideo class from IPython.display\n",
    "# from IPython.display import YouTubeVideo\n",
    "\n",
    "# # Define the YouTube video ID\n",
    "# video_id = 'l-oo9DJfH_k'  # Replace YOUR_VIDEO_ID with the actual video ID\n",
    "\n",
    "# # Create a YouTubeVideo object with the specified video ID\n",
    "# video = YouTubeVideo(video_id)\n",
    "\n",
    "# # Display the video\n",
    "# display(video)"
   ]
  },
  {
   "cell_type": "code",
   "execution_count": 20,
   "id": "96247a7f",
   "metadata": {
    "execution": {
     "iopub.execute_input": "2024-09-24T07:27:20.472598Z",
     "iopub.status.busy": "2024-09-24T07:27:20.471711Z",
     "iopub.status.idle": "2024-09-24T07:27:20.474828Z",
     "shell.execute_reply": "2024-09-24T07:27:20.474451Z"
    },
    "papermill": {
     "duration": 0.979533,
     "end_time": "2024-09-24T07:27:20.477273",
     "exception": false,
     "start_time": "2024-09-24T07:27:19.497740",
     "status": "completed"
    },
    "tags": []
   },
   "outputs": [],
   "source": [
    "# %%capture\n",
    "\n",
    "# # Define the URL of the YouTube video\n",
    "# video_url = f'https://www.youtube.com/watch?v={video_id}'\n",
    "\n",
    "# # Download the video in mp4 format\n",
    "# !pip install -U \"git+https://github.com/ytdl-org/youtube-dl.git\"\n",
    "# !python -m youtube_dl -f 'bestvideo[ext=mp4]+bestaudio[ext=m4a]/mp4' \"$video_url\"\n",
    "\n",
    "# # Print a success message\n",
    "# print('Video downloaded successfully')\n"
   ]
  },
  {
   "cell_type": "code",
   "execution_count": 21,
   "id": "0bf10f66",
   "metadata": {
    "execution": {
     "iopub.execute_input": "2024-09-24T07:27:22.348658Z",
     "iopub.status.busy": "2024-09-24T07:27:22.348294Z",
     "iopub.status.idle": "2024-09-24T07:27:22.350507Z",
     "shell.execute_reply": "2024-09-24T07:27:22.350198Z"
    },
    "papermill": {
     "duration": 0.963321,
     "end_time": "2024-09-24T07:27:22.353083",
     "exception": false,
     "start_time": "2024-09-24T07:27:21.389762",
     "status": "completed"
    },
    "tags": []
   },
   "outputs": [],
   "source": [
    "# input_video_path = \"/kaggle/working/Battlefield 2042 Trailer - F-35 fighter jet scene-l-oo9DJfH_k.mp4\"\n",
    "# output_video_path = \"detections.mp4\""
   ]
  },
  {
   "cell_type": "code",
   "execution_count": 22,
   "id": "80c99940",
   "metadata": {
    "execution": {
     "iopub.execute_input": "2024-09-24T07:27:24.189509Z",
     "iopub.status.busy": "2024-09-24T07:27:24.189102Z",
     "iopub.status.idle": "2024-09-24T07:27:24.191527Z",
     "shell.execute_reply": "2024-09-24T07:27:24.191126Z"
    },
    "papermill": {
     "duration": 0.9216,
     "end_time": "2024-09-24T07:27:24.194272",
     "exception": false,
     "start_time": "2024-09-24T07:27:23.272672",
     "status": "completed"
    },
    "tags": []
   },
   "outputs": [],
   "source": [
    "# import torch\n",
    "# device = 'cuda' if torch.cuda.is_available() else \"cpu\""
   ]
  },
  {
   "cell_type": "code",
   "execution_count": 23,
   "id": "b8ea218a",
   "metadata": {
    "execution": {
     "iopub.execute_input": "2024-09-24T07:27:26.165750Z",
     "iopub.status.busy": "2024-09-24T07:27:26.165317Z",
     "iopub.status.idle": "2024-09-24T07:27:26.168322Z",
     "shell.execute_reply": "2024-09-24T07:27:26.167966Z"
    },
    "papermill": {
     "duration": 0.980535,
     "end_time": "2024-09-24T07:27:26.171318",
     "exception": false,
     "start_time": "2024-09-24T07:27:25.190783",
     "status": "completed"
    },
    "tags": []
   },
   "outputs": [],
   "source": [
    "# best_model.to(device).predict(input_video_path).save(output_video_path)"
   ]
  },
  {
   "cell_type": "markdown",
   "id": "6d2b1238",
   "metadata": {
    "id": "kCLMU8PEKzvf",
    "papermill": {
     "duration": 0.913659,
     "end_time": "2024-09-24T07:27:28.078309",
     "exception": false,
     "start_time": "2024-09-24T07:27:27.164650",
     "status": "completed"
    },
    "tags": []
   },
   "source": [
    "## Evaluate trained model"
   ]
  },
  {
   "cell_type": "code",
   "execution_count": 24,
   "id": "1e39c190",
   "metadata": {
    "execution": {
     "iopub.execute_input": "2024-09-24T07:27:29.967052Z",
     "iopub.status.busy": "2024-09-24T07:27:29.966125Z",
     "iopub.status.idle": "2024-09-24T07:27:29.969330Z",
     "shell.execute_reply": "2024-09-24T07:27:29.969059Z"
    },
    "id": "figss_6TJvAj",
    "outputId": "e7f06168-d892-4ea6-f9b6-36e71002eff2",
    "papermill": {
     "duration": 0.92929,
     "end_time": "2024-09-24T07:27:29.971696",
     "exception": false,
     "start_time": "2024-09-24T07:27:29.042406",
     "status": "completed"
    },
    "tags": []
   },
   "outputs": [],
   "source": [
    "# trainer.test(\n",
    "#     model=best_model,\n",
    "#     test_loader=val_data,\n",
    "#     test_metrics_list=DetectionMetrics_050(\n",
    "#         score_thres=0.1,\n",
    "#         top_k_predictions=300,\n",
    "#         num_cls=len(dataset_params['classes']),\n",
    "#         normalize_targets=True,\n",
    "#         post_prediction_callback=PPYoloEPostPredictionCallback(\n",
    "#             score_threshold=0.01,\n",
    "#             nms_top_k=1000,\n",
    "#             max_predictions=300,\n",
    "#             nms_threshold=0.7\n",
    "#         )\n",
    "#     )\n",
    "# )"
   ]
  },
  {
   "cell_type": "markdown",
   "id": "d6a2760e",
   "metadata": {
    "id": "tmMIOT2hsM1F",
    "papermill": {
     "duration": 0.914341,
     "end_time": "2024-09-24T07:27:31.876672",
     "exception": false,
     "start_time": "2024-09-24T07:27:30.962331",
     "status": "completed"
    },
    "tags": []
   },
   "source": [
    "### Calculate confusion matrix"
   ]
  },
  {
   "cell_type": "code",
   "execution_count": 25,
   "id": "f06ca0ec",
   "metadata": {
    "execution": {
     "iopub.execute_input": "2024-09-24T07:27:33.765035Z",
     "iopub.status.busy": "2024-09-24T07:27:33.764119Z",
     "iopub.status.idle": "2024-09-24T07:27:33.766971Z",
     "shell.execute_reply": "2024-09-24T07:27:33.766684Z"
    },
    "id": "6mSapibasSst",
    "papermill": {
     "duration": 0.937729,
     "end_time": "2024-09-24T07:27:33.769380",
     "exception": false,
     "start_time": "2024-09-24T07:27:32.831651",
     "status": "completed"
    },
    "tags": []
   },
   "outputs": [],
   "source": [
    "# !pip install onemetric"
   ]
  },
  {
   "cell_type": "code",
   "execution_count": 26,
   "id": "2d9e3bef",
   "metadata": {
    "execution": {
     "iopub.execute_input": "2024-09-24T07:27:35.680099Z",
     "iopub.status.busy": "2024-09-24T07:27:35.679401Z",
     "iopub.status.idle": "2024-09-24T07:27:35.682161Z",
     "shell.execute_reply": "2024-09-24T07:27:35.681838Z"
    },
    "papermill": {
     "duration": 0.922913,
     "end_time": "2024-09-24T07:27:35.684563",
     "exception": false,
     "start_time": "2024-09-24T07:27:34.761650",
     "status": "completed"
    },
    "tags": []
   },
   "outputs": [],
   "source": [
    "# import supervision as sv\n",
    "\n",
    "# ds = sv.DetectionDataset.from_yolo(\n",
    "#     images_directory_path=f\"{dataset.location}/valid/images\",\n",
    "#     annotations_directory_path=f\"{dataset.location}/valid/labels\",\n",
    "#     data_yaml_path=f\"{dataset.location}/data.yaml\",\n",
    "#     force_masks=False\n",
    "# )"
   ]
  },
  {
   "cell_type": "code",
   "execution_count": 27,
   "id": "aa15d226",
   "metadata": {
    "execution": {
     "iopub.execute_input": "2024-09-24T07:27:37.579695Z",
     "iopub.status.busy": "2024-09-24T07:27:37.578840Z",
     "iopub.status.idle": "2024-09-24T07:27:37.581856Z",
     "shell.execute_reply": "2024-09-24T07:27:37.581564Z"
    },
    "papermill": {
     "duration": 0.930569,
     "end_time": "2024-09-24T07:27:37.584091",
     "exception": false,
     "start_time": "2024-09-24T07:27:36.653522",
     "status": "completed"
    },
    "tags": []
   },
   "outputs": [],
   "source": [
    "# import supervision as sv\n",
    "\n",
    "# CONFIDENCE_TRESHOLD = 0.5\n",
    "\n",
    "# predictions = {}\n",
    "\n",
    "# for image_name, image in ds.images.items():\n",
    "#     result = best_model.predict(image, conf=CONFIDENCE_TRESHOLD)\n",
    "#     detections = sv.Detections(\n",
    "#         xyxy=result.prediction.bboxes_xyxy,\n",
    "#         confidence=result.prediction.confidence,\n",
    "#         class_id=result.prediction.labels.astype(int)\n",
    "#     )\n",
    "#     predictions[image_name] = detections"
   ]
  },
  {
   "cell_type": "code",
   "execution_count": 28,
   "id": "bf7e5c84",
   "metadata": {
    "execution": {
     "iopub.execute_input": "2024-09-24T07:27:39.453943Z",
     "iopub.status.busy": "2024-09-24T07:27:39.453204Z",
     "iopub.status.idle": "2024-09-24T07:27:39.456810Z",
     "shell.execute_reply": "2024-09-24T07:27:39.456521Z"
    },
    "id": "r6en9Qxcs9Yy",
    "outputId": "fafdf0fe-68b8-45a5-e5e2-d8e050006919",
    "papermill": {
     "duration": 0.916721,
     "end_time": "2024-09-24T07:27:39.459813",
     "exception": false,
     "start_time": "2024-09-24T07:27:38.543092",
     "status": "completed"
    },
    "tags": []
   },
   "outputs": [],
   "source": [
    "# import os\n",
    "\n",
    "# import numpy as np\n",
    "\n",
    "# from onemetric.cv.object_detection import ConfusionMatrix\n",
    "\n",
    "# keys = list(ds.images.keys())\n",
    "\n",
    "# annotation_batches, prediction_batches = [], []\n",
    "\n",
    "# for key in keys:\n",
    "#     annotation=ds.annotations[key]\n",
    "#     annotation_batch = np.column_stack((\n",
    "#         annotation.xyxy,\n",
    "#         annotation.class_id\n",
    "#     ))\n",
    "#     annotation_batches.append(annotation_batch)\n",
    "\n",
    "#     prediction=predictions[key]\n",
    "#     prediction_batch = np.column_stack((\n",
    "#         prediction.xyxy,\n",
    "#         prediction.class_id,\n",
    "#         prediction.confidence\n",
    "#     ))\n",
    "#     prediction_batches.append(prediction_batch)\n",
    "\n",
    "# confusion_matrix = ConfusionMatrix.from_detections(\n",
    "#     true_batches=annotation_batches,\n",
    "#     detection_batches=prediction_batches,\n",
    "#     num_classes=len(ds.classes),\n",
    "#     conf_threshold=CONFIDENCE_TRESHOLD\n",
    "# )\n",
    "\n",
    "# confusion_matrix.plot(os.path.join(HOME, \"confusion_matrix.png\"), class_names=ds.classes)"
   ]
  },
  {
   "cell_type": "code",
   "execution_count": null,
   "id": "900f453a",
   "metadata": {
    "papermill": {
     "duration": 0.917021,
     "end_time": "2024-09-24T07:27:41.332253",
     "exception": false,
     "start_time": "2024-09-24T07:27:40.415232",
     "status": "completed"
    },
    "tags": []
   },
   "outputs": [],
   "source": []
  }
 ],
 "metadata": {
  "accelerator": "GPU",
  "colab": {
   "gpuType": "T4",
   "provenance": []
  },
  "gpuClass": "standard",
  "kaggle": {
   "accelerator": "nvidiaTeslaT4",
   "dataSources": [
    {
     "modelId": 124789,
     "modelInstanceId": 100612,
     "sourceId": 119638,
     "sourceType": "modelInstanceVersion"
    }
   ],
   "dockerImageVersionId": 30762,
   "isGpuEnabled": true,
   "isInternetEnabled": true,
   "language": "python",
   "sourceType": "notebook"
  },
  "kernelspec": {
   "display_name": "Python 3",
   "language": "python",
   "name": "python3"
  },
  "language_info": {
   "codemirror_mode": {
    "name": "ipython",
    "version": 3
   },
   "file_extension": ".py",
   "mimetype": "text/x-python",
   "name": "python",
   "nbconvert_exporter": "python",
   "pygments_lexer": "ipython3",
   "version": "3.10.14"
  },
  "papermill": {
   "default_parameters": {},
   "duration": 6667.61493,
   "end_time": "2024-09-24T07:27:46.222251",
   "environment_variables": {},
   "exception": null,
   "input_path": "__notebook__.ipynb",
   "output_path": "__notebook__.ipynb",
   "parameters": {},
   "start_time": "2024-09-24T05:36:38.607321",
   "version": "2.6.0"
  }
 },
 "nbformat": 4,
 "nbformat_minor": 5
}
